{
 "cells": [
  {
   "cell_type": "code",
   "execution_count": 1,
   "id": "5fd302dc",
   "metadata": {},
   "outputs": [
    {
     "name": "stdout",
     "output_type": "stream",
     "text": [
      "Librerias cargadas\n"
     ]
    }
   ],
   "source": [
    "import pandas as pd\n",
    "import openpyxl\n",
    "import warnings\n",
    "import os\n",
    "import matplotlib.pyplot as plt \n",
    "import seaborn as sns\n",
    "import utils as eda\n",
    "import numpy as np\n",
    "import utils as eda\n",
    "\n",
    "def warn(*args, **kwargs):\n",
    "    pass\n",
    "warnings.warn = warn\n",
    "#warnings.filterwarnings(\"ignore\", category=FutureWarning)\n",
    "print(\"Librerias cargadas\")"
   ]
  },
  {
   "cell_type": "code",
   "execution_count": 2,
   "id": "3913d64a",
   "metadata": {},
   "outputs": [
    {
     "name": "stdout",
     "output_type": "stream",
     "text": [
      "Dataset existente\n"
     ]
    }
   ],
   "source": [
    "try:\n",
    "    ratings = pd.read_csv(\"../data/interim/movies-data/ml-32m/ratings.csv\")\n",
    "    print(\"Dataset existente\")\n",
    "except:\n",
    "    ratings = pd.read_csv(\"../data/interim/movies-data/ml-32m/ratings.csv\")\n",
    "    print(\"Dataset extraído\")"
   ]
  },
  {
   "cell_type": "code",
   "execution_count": null,
   "id": "22bb7adb",
   "metadata": {},
   "outputs": [],
   "source": [
    "target='ratings'\n",
    "eda.analisis(ratings) #Primer contacto cn dataset ratings"
   ]
  },
  {
   "cell_type": "markdown",
   "id": "98f6f555",
   "metadata": {},
   "source": [
    "Analisis de resultados: \n",
    "1. No existen filas duplicadas\n",
    "2. No existen datos nulos"
   ]
  },
  {
   "cell_type": "code",
   "execution_count": null,
   "id": "ca4dc56d",
   "metadata": {},
   "outputs": [],
   "source": [
    "# Análisis de valores únicos\n",
    "print(\"VALORES ÚNICOS:\")\n",
    "print(f\"Usuarios únicos: {ratings['userId'].nunique():,}\")\n",
    "print(f\"Películas únicas: {ratings['movieId'].nunique():,}\")"
   ]
  },
  {
   "cell_type": "code",
   "execution_count": null,
   "id": "e6e04700",
   "metadata": {},
   "outputs": [],
   "source": [
    "#  HISTORIAL DE CADA USUARIO: películas vistas y calificaciones\n",
    "print(\"\\nHISTORIAL POR USUARIO \")\n",
    "user_history = ratings.groupby('userId').agg({\n",
    "    'movieId': 'count',  # películas vistas\n",
    "    'rating': ['mean', 'std']\n",
    "}).round(2)\n",
    "user_history.columns = ['peliculas_vistas', 'rating_promedio', 'rating_std']\n",
    "print(user_history)"
   ]
  },
  {
   "cell_type": "code",
   "execution_count": null,
   "id": "5d77e229",
   "metadata": {},
   "outputs": [],
   "source": [
    "# Distribución de ratings por usuario\n",
    "user_rating_counts = ratings['userId'].value_counts()\n",
    "print(\" DISTRIBUCIÓN DE ACTIVIDAD DE USUARIOS:\")\n",
    "print(f\"Mediana de ratings por usuario: {user_rating_counts.median()}\")"
   ]
  },
  {
   "cell_type": "code",
   "execution_count": null,
   "id": "b523d33a",
   "metadata": {},
   "outputs": [],
   "source": [
    "movie_features = ratings.groupby('movieId').agg(\n",
    "    total_ratings=('rating', 'count'),\n",
    "    avg_rating=('rating', 'mean'),\n",
    "    std_rating=('rating', 'std')).reset_index().sort_values('avg_rating', ascending=False)\n",
    "\n",
    "print(\"\\n TOP 10 PELÍCULAS MEJOR VALORADAS:\")\n",
    "print(movie_features[['movieId', 'avg_rating', 'total_ratings']].head(10).to_string(index=False))"
   ]
  },
  {
   "cell_type": "code",
   "execution_count": null,
   "id": "36f0c99d",
   "metadata": {},
   "outputs": [],
   "source": [
    "# Visualizaciones\n",
    "\n",
    "fig, axes = plt.subplots(2, 2, figsize=(15, 10))\n",
    "fig.suptitle('ANÁLISIS DE PELÍCULAS', fontsize=16, fontweight='bold')\n",
    "\n",
    "# 1. Distribución de cantidad de ratings por película\n",
    "axes[0,0].hist(movie_features['total_ratings'], bins=50, color='lightcoral', edgecolor='black')\n",
    "axes[0,0].set_title(' Nº de ratings por película')\n",
    "axes[0,0].set_xlabel('Total de ratings')\n",
    "axes[0,0].set_ylabel('Películas')\n",
    "axes[0,0].grid(True, alpha=0.3)\n",
    "\n",
    "# 2. Distribución del rating promedio por película\n",
    "axes[0,1].hist(movie_features['avg_rating'], bins=20, color='lightgreen', edgecolor='black')\n",
    "axes[0,1].set_title(' Promedio de ratings por película')\n",
    "axes[0,1].set_xlabel('Rating promedio')\n",
    "axes[0,1].set_ylabel('Películas')\n",
    "axes[0,1].grid(True, alpha=0.3)\n",
    "\n",
    "# 3. Relación popularidad-calidad\n",
    "axes[1,0].scatter(movie_features['total_ratings'], movie_features['avg_rating'], \n",
    "                  alpha=0.6, s=15, color='purple')\n",
    "axes[1,0].set_title(' Popularidad vs Calidad')\n",
    "axes[1,0].set_xlabel('Total de ratings (popularidad)')\n",
    "axes[1,0].set_ylabel('Rating promedio (calidad)')\n",
    "axes[1,0].grid(True, alpha=0.3)\n",
    "\n",
    "# 4. Variabilidad de ratings por película\n",
    "axes[1,1].hist(movie_features['std_rating'].dropna(), bins=20, color='gold', edgecolor='black')\n",
    "axes[1,1].set_title('Variabilidad por película')\n",
    "axes[1,1].set_xlabel('Desviación estándar')\n",
    "axes[1,1].set_ylabel('Películas')\n",
    "axes[1,1].grid(True, alpha=0.3)\n",
    "\n",
    "plt.tight_layout()\n",
    "plt.show()\n",
    "\n"
   ]
  },
  {
   "cell_type": "markdown",
   "id": "407ef5b4",
   "metadata": {},
   "source": [
    "Analisis de resultado:\n",
    "1. Nº Ratings por pelicula: Se observa una larga cola.\n",
    "La gran mayoría de películas tienen muy pocos ratings (la barra gigante pegada al cero).\n",
    "Solo unas pocas películas alcanzan decenas de miles de calificaciones.\n",
    "\n",
    "2. Promedio de Rating por pelicula: La distribución es asimétrica positiva, centrada entre 3.0 y 4.0\n",
    "Muy pocas películas con promedio menor a 2.0.\n",
    "Muy pocas logran un promedio cercano a 5.0.\n",
    "Esto muestra que los usuarios tienden a ser benevolentes, es raro que pongan notas muy bajas.\n",
    "\n",
    "\n",
    "3. Vemos tres patrones claros:\n",
    "Blockbusters: muchas calificaciones y rating promedio estable.\n",
    "Regulares: muchas calificaciones pero promedio normalito (≈3.0).\n",
    "Joyas ocultas: películas con pocos ratings pero promedios altos (>4).\n",
    "Esto revela un trade-off: recomendar solo por promedio puede ser sesgado (pocas opiniones confiables), recomendar solo por popularidad quita descubrimiento.\n",
    "\n",
    "Usaremos un ranking ponderado IMDb, donde el rating se ajusta por el número de votos.\n",
    "\n",
    "4. Variabilidad (std) por película.\n",
    "La mayoría de películas tienen una desviación estándar entre 0.5 y 1.0,\n",
    "lo que significa que los usuarios coinciden bastante en su percepción.\n",
    "Algunas películas tienen variabilidad >2, lo que indica opiniones polarizantes (a unos les encanta, a otros les parece horrible).\n"
   ]
  },
  {
   "cell_type": "code",
   "execution_count": null,
   "id": "4927a323",
   "metadata": {},
   "outputs": [],
   "source": [
    "#usamos un ranking ponderado estilo IMDb \n",
    "\n",
    "# Compute features de películas\n",
    "movie_features = ratings.groupby('movieId').agg(\n",
    "    v=('rating', 'count'),\n",
    "    R=('rating', 'mean')\n",
    ").reset_index()\n",
    "print('Calculo Realizado')"
   ]
  },
  {
   "cell_type": "code",
   "execution_count": null,
   "id": "a8c36526",
   "metadata": {},
   "outputs": [],
   "source": [
    "# Calcular parámetros globales\n",
    "C = ratings['rating'].mean()   # Rating promedio global\n",
    "m = movie_features['v'].quantile(0.90)   # Umbral de votos: percentil 90\n",
    "\n",
    "print(f\" C (promedio global): {C:.2f}\")\n",
    "print(f\" m (umbral mínimo de votos - percentil 90): {m}\")"
   ]
  },
  {
   "cell_type": "code",
   "execution_count": null,
   "id": "8f2cf509",
   "metadata": {},
   "outputs": [],
   "source": [
    "# Seleccionar solo películas que cumplen con el mínimo\n",
    "qualified = movie_features[movie_features['v'] >= m].copy()\n",
    "print(\"SELECCIONADAS\")"
   ]
  },
  {
   "cell_type": "code",
   "execution_count": null,
   "id": "6819cfdf",
   "metadata": {},
   "outputs": [],
   "source": [
    "# Calcular Weighted Rating (IMDb) filtrando peliculas sin suficientes votos\n",
    "qualified['WR'] = (\n",
    "    (qualified['v'] / (qualified['v'] + m)) * qualified['R']\n",
    "    + (m / (qualified['v'] + m)) * C\n",
    ")\n",
    "print(qualified)"
   ]
  },
  {
   "cell_type": "code",
   "execution_count": null,
   "id": "0258fd97",
   "metadata": {},
   "outputs": [],
   "source": [
    "# Calcular Weighted Rating (IMDb) para TODAS\n",
    "\n",
    "movie_features['WR'] = (\n",
    "    (movie_features['v'] / (movie_features['v'] + m)) * movie_features['R'] +\n",
    "    (m / (movie_features['v'] + m)) * C\n",
    ")\n",
    "print('IMDb calculado')\n",
    "print(movie_features)"
   ]
  },
  {
   "cell_type": "code",
   "execution_count": null,
   "id": "57830644",
   "metadata": {},
   "outputs": [],
   "source": [
    "#  Comparación GRÁFICA\n",
    "\n",
    "plt.figure(figsize=(12, 8))\n",
    "plt.scatter(movie_features['R'], movie_features['WR'], \n",
    "            alpha=0.5, s=15, c=movie_features['v'], cmap=\"viridis\")\n",
    "plt.colorbar(label=\"Número de ratings (v)\")\n",
    "plt.title(\"IMDb Weighted Rating vs Rating Promedio (todas las películas)\")\n",
    "plt.xlabel(\"Rating Promedio (R)\")\n",
    "plt.ylabel(\"Weighted Rating (WR)\")\n",
    "plt.grid(True, alpha=0.3)\n",
    "plt.show()"
   ]
  },
  {
   "cell_type": "markdown",
   "id": "17c9f581",
   "metadata": {},
   "source": [
    "Analisis de resultado:\n",
    "1. Películas con pocos ratings y promedio alto (≈5.0)\n",
    "En WR bajan a ~3.5 porque el sistema “no confía aún” en ellas. \n",
    "Esto evita que una película con 10 calificaciones de 5.0 aparezca injustamente en el #1.\n",
    "Películas muy votadas (blockbusters)\n",
    "2. Su WR casi coincide con su R porque tienen suficiente volumen (su evidencia es fuerte).\n",
    "Ejemplo: una película con miles de votos y promedio 4.2 seguirá dominando arriba.\n",
    "Películas mediocres (R ~2.5)\n",
    "→ Mantienen un WR acorde, aunque ligeramente suavizado si tienen pocos votos.\n",
    "\n",
    "El método IMDb es más justo y robustopermite un ranking que valora tanto calidad como popularidad.\n",
    "Blockbusters ganan consistencia: se aseguran en el Top gracias a su alto número de ratings.\n",
    "Joyas ocultas equilibradas: se posicionan en la media global mientras ganan más votos.\n",
    "Protección contra sesgo: evita que películas poco votadas con 5.0 inflen el ranking."
   ]
  },
  {
   "cell_type": "code",
   "execution_count": null,
   "id": "55db6f74",
   "metadata": {},
   "outputs": [],
   "source": [
    "# Distribución de Weighted Ratings\n",
    "\n",
    "plt.figure(figsize=(10,6))\n",
    "plt.hist(movie_features['WR'], bins=40, color=\"coral\", edgecolor=\"black\", alpha=0.7)\n",
    "plt.title(\" Distribución de Weighted Ratings (IMDb) - Todas las películas\")\n",
    "plt.xlabel(\"Weighted Rating (WR)\")\n",
    "plt.ylabel(\"Número de películas\")\n",
    "plt.grid(True, alpha=0.3)\n",
    "plt.show()"
   ]
  },
  {
   "cell_type": "markdown",
   "id": "25d23b24",
   "metadata": {},
   "source": [
    "Analisis de resultados:\n",
    "1. Películas poco votadas: se “aplastan” alrededor de 3.5, sin importar si tenían 5.0 o 2.0 en promedio.\n",
    "2. Películas con muchísimos votos: logran moverse significativamente hacia arriba o abajo, reflejando la opinión masiva de los usuarios.\n",
    "3. Resultado: un ranking más justo y robusto que no sobrevalora películas con pocos votos.\n"
   ]
  },
  {
   "cell_type": "markdown",
   "id": "fc532023",
   "metadata": {},
   "source": [
    "----------------------------------------------------------------------------"
   ]
  },
  {
   "cell_type": "code",
   "execution_count": null,
   "id": "d600376a",
   "metadata": {},
   "outputs": [],
   "source": [
    "# 4. DISTRIBUCIÓN DE RATINGS\n",
    "rating_dist = ratings['rating'].value_counts().sort_index()"
   ]
  },
  {
   "cell_type": "code",
   "execution_count": null,
   "id": "bfa35858",
   "metadata": {},
   "outputs": [],
   "source": [
    "\n",
    "\n",
    "# 5. SPARSITY CHECK\n",
    "total_possible_ratings = ratings['userId'].nunique() * ratings['movieId'].nunique()\n",
    "actual_ratings = len(ratings)\n",
    "sparsity = (1 - actual_ratings / total_possible_ratings) * 100\n",
    "print(f\"\\n=== 5. SPARSITY ===\")\n",
    "print(f\"Sparsity: {sparsity:.2f}%\")"
   ]
  },
  {
   "cell_type": "code",
   "execution_count": null,
   "id": "85999bcb",
   "metadata": {},
   "outputs": [],
   "source": [
    "\n",
    "# 6. TARGETS: VECTORES DE GUSTOS POR USUARIO\n",
    "print(\"\\n=== 6. CREANDO TARGETS ===\")\n",
    "\n",
    "# Normalizar ratings por usuario (Z-score)\n",
    "user_stats = ratings.groupby('userId')['rating'].agg(['mean', 'std']).reset_index()\n",
    "ratings_normalized = ratings.merge(user_stats, on='userId')\n",
    "ratings_normalized['rating_normalized'] = (\n",
    "    (ratings_normalized['rating'] - ratings_normalized['mean']) / \n",
    "    (ratings_normalized['std'] + 1e-8)\n",
    ")\n",
    "\n",
    "# Simular géneros para crear vectores de gustos\n",
    "np.random.seed(42)\n",
    "genres = ['Action', 'Comedy', 'Drama', 'Horror', 'Romance', 'Sci-Fi', 'Thriller']\n",
    "movie_genres = pd.DataFrame({\n",
    "    'movieId': ratings['movieId'].unique(),\n",
    "    'genre': np.random.choice(genres, len(ratings['movieId'].unique()))\n",
    "})\n",
    "\n",
    "ratings_with_genre = ratings_normalized.merge(movie_genres, on='movieId')\n",
    "user_genre_preferences = ratings_with_genre.groupby(['userId', 'genre'])['rating_normalized'].mean().unstack(fill_value=0)"
   ]
  },
  {
   "cell_type": "code",
   "execution_count": null,
   "id": "46c8230c",
   "metadata": {},
   "outputs": [],
   "source": []
  },
  {
   "cell_type": "code",
   "execution_count": null,
   "id": "85e6f257",
   "metadata": {},
   "outputs": [],
   "source": [
    "\n",
    "\n",
    "\n",
    "# ===== GRÁFICOS =====\n",
    "\n",
    "# FIGURA 1: ANÁLISIS DE USUARIOS\n",
    "fig, axes = plt.subplots(2, 2, figsize=(16, 12))\n",
    "fig.suptitle('ANÁLISIS DE USUARIOS - COMPORTAMIENTO Y PATRONES', fontsize=16, fontweight='bold')\n",
    "\n",
    "# 1.1 Películas vistas por usuario\n",
    "axes[0,0].hist(user_history['peliculas_vistas'], bins=30, color='skyblue', edgecolor='black', alpha=0.7)\n",
    "axes[0,0].axvline(user_history['peliculas_vistas'].median(), color='red', linestyle='--')\n",
    "axes[0,0].set_title('Distribución: Películas vistas por usuario')\n",
    "axes[0,0].set_xlabel('Número de películas vistas')\n",
    "axes[0,0].set_ylabel('Número de usuarios')\n",
    "\n",
    "# 1.2 Rating promedio por usuario\n",
    "axes[0,1].hist(user_history['rating_promedio'], bins=25, color='lightgreen', edgecolor='black', alpha=0.7)\n",
    "axes[0,1].set_title('Distribución: Rating promedio por usuario')\n",
    "axes[0,1].set_xlabel('Rating promedio del usuario')\n",
    "axes[0,1].set_ylabel('Número de usuarios')\n",
    "\n",
    "# 1.3 Actividad vs Rating promedio\n",
    "axes[1,0].scatter(user_history['peliculas_vistas'], user_history['rating_promedio'], alpha=0.6, s=20)\n",
    "axes[1,0].set_title('Actividad vs Rating Promedio del Usuario')\n",
    "axes[1,0].set_xlabel('Películas vistas')\n",
    "axes[1,0].set_ylabel('Rating promedio')\n",
    "\n",
    "# 1.4 Variabilidad por usuario\n",
    "axes[1,1].hist(user_history['rating_std'].dropna(), bins=20, color='orange', edgecolor='black', alpha=0.7)\n",
    "axes[1,1].set_title('Variabilidad de ratings por usuario')\n",
    "axes[1,1].set_xlabel('Desviación estándar de ratings')\n",
    "axes[1,1].set_ylabel('Número de usuarios')\n",
    "\n",
    "plt.tight_layout()\n",
    "plt.show()\n",
    "\n",
    "# FIGURA 2: ANÁLISIS DE PELÍCULAS\n",
    "fig, axes = plt.subplots(2, 2, figsize=(16, 12))\n",
    "fig.suptitle('ANÁLISIS DE PELÍCULAS - POPULARIDAD Y CALIDAD', fontsize=16, fontweight='bold')\n",
    "\n",
    "# 2.1 Popularidad de películas\n",
    "axes[0,0].hist(movie_popularity['num_ratings'], bins=40, color='coral', edgecolor='black', alpha=0.7)\n",
    "axes[0,0].set_title('Distribución: Popularidad de películas')\n",
    "axes[0,0].set_xlabel('Número de ratings por película')\n",
    "axes[0,0].set_ylabel('Número de películas')\n",
    "axes[0,0].set_yscale('log')\n",
    "\n",
    "# 2.2 Popularidad vs Calidad\n",
    "scatter = axes[0,1].scatter(movie_popularity['num_ratings'], movie_popularity['avg_rating'], \n",
    "                           alpha=0.6, s=30, c=movie_popularity['std_rating'], cmap='viridis')\n",
    "axes[0,1].set_title('Popularidad vs Calidad')\n",
    "axes[0,1].set_xlabel('Número de ratings')\n",
    "axes[0,1].set_ylabel('Rating promedio')\n",
    "plt.colorbar(scatter, ax=axes[0,1])\n",
    "\n",
    "# 2.3 Distribución general de ratings\n",
    "axes[1,0].bar(rating_dist.index, rating_dist.values, color='gold', edgecolor='black')\n",
    "axes[1,0].set_title('Distribución General de Ratings')\n",
    "axes[1,0].set_xlabel('Rating')\n",
    "axes[1,0].set_ylabel('Frecuencia')\n",
    "\n",
    "# 2.4 Sparsity visualization\n",
    "sparsity_data = [100-sparsity, sparsity]\n",
    "axes[1,1].pie(sparsity_data, labels=['Datos\\nExistentes', 'Datos\\nFaltantes'], \n",
    "              colors=['lightgreen', 'lightcoral'], autopct='%1.1f%%')\n",
    "axes[1,1].set_title(f'Sparsity: {sparsity:.1f}%')\n",
    "\n",
    "plt.tight_layout()\n",
    "plt.show()\n",
    "\n",
    "# FIGURA 3: VECTORES DE GUSTOS Y TARGETS\n",
    "fig, axes = plt.subplots(2, 2, figsize=(16, 12))\n",
    "fig.suptitle('ANÁLISIS DE TARGETS Y VECTORES DE GUSTOS', fontsize=16, fontweight='bold')\n",
    "\n",
    "# 3.1 Ratings normalizados\n",
    "axes[0,0].hist(ratings_normalized['rating_normalized'], bins=40, color='lightsteelblue', edgecolor='black')\n",
    "axes[0,0].axvline(0, color='red', linestyle='--', label='Media = 0')\n",
    "axes[0,0].set_title('Ratings Normalizados por Usuario')\n",
    "axes[0,0].set_xlabel('Rating Normalizado (Z-score)')\n",
    "axes[0,0].legend()\n",
    "\n",
    "# 3.2 Preferencias por género\n",
    "genre_avg_prefs = user_genre_preferences.mean().sort_values(ascending=True)\n",
    "axes[0,1].barh(range(len(genre_avg_prefs)), genre_avg_prefs.values, color='lightcoral')\n",
    "axes[0,1].set_title('Preferencias Promedio por Género')\n",
    "axes[0,1].set_yticks(range(len(genre_avg_prefs)))\n",
    "axes[0,1].set_yticklabels(genre_avg_prefs.index)\n",
    "\n",
    "# 3.3 Heatmap de preferencias (muestra)\n",
    "sample_users = user_genre_preferences.head(20)\n",
    "sns.heatmap(sample_users, ax=axes[1,0], cmap='RdBu_r', center=0)\n",
    "axes[1,0].set_title('Preferencias por Género (20 usuarios)')\n",
    "\n",
    "# 3.4 Similitud entre usuarios\n",
    "user_similarity = cosine_similarity(user_genre_preferences.fillna(0))\n",
    "similarity_values = user_similarity[np.triu_indices_from(user_similarity, k=1)]\n",
    "axes[1,1].hist(similarity_values, bins=30, color='gold', edgecolor='black')\n",
    "axes[1,1].set_title('Similitudes entre Usuarios')\n",
    "axes[1,1].set_xlabel('Similitud Coseno')\n",
    "\n",
    "plt.tight_layout()\n",
    "plt.show()\n",
    "\n",
    "print(\"✅ ANÁLISIS COMPLETO TERMINADO\")\n"
   ]
  }
 ],
 "metadata": {
  "kernelspec": {
   "display_name": "Python 3",
   "language": "python",
   "name": "python3"
  },
  "language_info": {
   "codemirror_mode": {
    "name": "ipython",
    "version": 3
   },
   "file_extension": ".py",
   "mimetype": "text/x-python",
   "name": "python",
   "nbconvert_exporter": "python",
   "pygments_lexer": "ipython3",
   "version": "3.11.4"
  }
 },
 "nbformat": 4,
 "nbformat_minor": 5
}
