{
 "cells": [
  {
   "cell_type": "markdown",
   "id": "81c0d20a",
   "metadata": {},
   "source": [
    "##  Análisis de reseñas y sentimiento\n",
    "\n"
   ]
  },
  {
   "cell_type": "markdown",
   "id": "b3d430d0",
   "metadata": {},
   "source": [
    "### 0. Importar liberías"
   ]
  },
  {
   "cell_type": "code",
   "execution_count": 1,
   "id": "6de23993",
   "metadata": {},
   "outputs": [],
   "source": [
    "import pandas as pd \n",
    "import numpy as np \n",
    "import seaborn as sns \n",
    "import matplotlib.pyplot as plt \n",
    "import datasets as ds\n",
    "import math\n",
    "\n",
    "from sklearn.model_selection import train_test_split\n",
    "from sklearn.feature_extraction.text import CountVectorizer\n",
    "from sklearn.naive_bayes import MultinomialNB\n",
    "from sklearn.metrics import accuracy_score, classification_report, confusion_matrix\n",
    "from sklearn.pipeline import Pipeline\n",
    "from sklearn.model_selection import RandomizedSearchCV\n",
    "from sklearn.linear_model import LogisticRegression\n",
    "\n",
    "import pickle\n"
   ]
  },
  {
   "cell_type": "markdown",
   "id": "188e130e",
   "metadata": {},
   "source": [
    "## Amazon dataset\n",
    "### 1. Carga de información"
   ]
  },
  {
   "cell_type": "code",
   "execution_count": 2,
   "id": "c28ad11a",
   "metadata": {},
   "outputs": [
    {
     "name": "stdout",
     "output_type": "stream",
     "text": [
      "Se cargaron 50000 reseñas\n"
     ]
    }
   ],
   "source": [
    "amazon_df = ds.feel_df(50000)\n"
   ]
  },
  {
   "cell_type": "code",
   "execution_count": 3,
   "id": "cd3062d8",
   "metadata": {},
   "outputs": [
    {
     "data": {
      "text/html": [
       "<div>\n",
       "<style scoped>\n",
       "    .dataframe tbody tr th:only-of-type {\n",
       "        vertical-align: middle;\n",
       "    }\n",
       "\n",
       "    .dataframe tbody tr th {\n",
       "        vertical-align: top;\n",
       "    }\n",
       "\n",
       "    .dataframe thead th {\n",
       "        text-align: right;\n",
       "    }\n",
       "</style>\n",
       "<table border=\"1\" class=\"dataframe\">\n",
       "  <thead>\n",
       "    <tr style=\"text-align: right;\">\n",
       "      <th></th>\n",
       "      <th>productId</th>\n",
       "      <th>userId</th>\n",
       "      <th>profileName</th>\n",
       "      <th>helpfulness</th>\n",
       "      <th>score</th>\n",
       "      <th>time</th>\n",
       "      <th>summary</th>\n",
       "      <th>text</th>\n",
       "    </tr>\n",
       "  </thead>\n",
       "  <tbody>\n",
       "    <tr>\n",
       "      <th>0</th>\n",
       "      <td>B003AI2VGA</td>\n",
       "      <td>A141HP4LYPWMSR</td>\n",
       "      <td>Brian E. Erland \"Rainbow Sphinx\"</td>\n",
       "      <td>7/7</td>\n",
       "      <td>3.0</td>\n",
       "      <td>1182729600</td>\n",
       "      <td>\"There Is So Much Darkness Now ~ Come For The ...</td>\n",
       "      <td>Synopsis: On the daily trek from Juarez, Mexic...</td>\n",
       "    </tr>\n",
       "    <tr>\n",
       "      <th>1</th>\n",
       "      <td>B003AI2VGA</td>\n",
       "      <td>A328S9RN3U5M68</td>\n",
       "      <td>Grady Harp</td>\n",
       "      <td>4/4</td>\n",
       "      <td>3.0</td>\n",
       "      <td>1181952000</td>\n",
       "      <td>Worthwhile and Important Story Hampered by Poo...</td>\n",
       "      <td>THE VIRGIN OF JUAREZ is based on true events s...</td>\n",
       "    </tr>\n",
       "    <tr>\n",
       "      <th>2</th>\n",
       "      <td>B003AI2VGA</td>\n",
       "      <td>A1I7QGUDP043DG</td>\n",
       "      <td>Chrissy K. McVay \"Writer\"</td>\n",
       "      <td>8/10</td>\n",
       "      <td>5.0</td>\n",
       "      <td>1164844800</td>\n",
       "      <td>This movie needed to be made.</td>\n",
       "      <td>The scenes in this film can be very disquietin...</td>\n",
       "    </tr>\n",
       "    <tr>\n",
       "      <th>3</th>\n",
       "      <td>B003AI2VGA</td>\n",
       "      <td>A1M5405JH9THP9</td>\n",
       "      <td>golgotha.gov</td>\n",
       "      <td>1/1</td>\n",
       "      <td>3.0</td>\n",
       "      <td>1197158400</td>\n",
       "      <td>distantly based on a real tragedy</td>\n",
       "      <td>THE VIRGIN OF JUAREZ (2006)&lt;br /&gt;directed by K...</td>\n",
       "    </tr>\n",
       "    <tr>\n",
       "      <th>4</th>\n",
       "      <td>B003AI2VGA</td>\n",
       "      <td>ATXL536YX71TR</td>\n",
       "      <td>KerrLines \"&amp;#34;Movies,Music,Theatre&amp;#34;\"</td>\n",
       "      <td>1/1</td>\n",
       "      <td>3.0</td>\n",
       "      <td>1188345600</td>\n",
       "      <td>\"What's going on down in Juarez and shining a ...</td>\n",
       "      <td>Informationally, this SHOWTIME original is ess...</td>\n",
       "    </tr>\n",
       "    <tr>\n",
       "      <th>5</th>\n",
       "      <td>B003AI2VGA</td>\n",
       "      <td>A3QYDL5CDNYN66</td>\n",
       "      <td>abra \"a devoted reader\"</td>\n",
       "      <td>0/0</td>\n",
       "      <td>2.0</td>\n",
       "      <td>1229040000</td>\n",
       "      <td>Pretty pointless fictionalization</td>\n",
       "      <td>The murders in Juarez are real. This movie is ...</td>\n",
       "    </tr>\n",
       "    <tr>\n",
       "      <th>6</th>\n",
       "      <td>B003AI2VGA</td>\n",
       "      <td>AQJVNDW6YZFQS</td>\n",
       "      <td>Charles R. Williams</td>\n",
       "      <td>3/11</td>\n",
       "      <td>1.0</td>\n",
       "      <td>1164153600</td>\n",
       "      <td>This is junk, stay away</td>\n",
       "      <td>Mexican men are macho rapists, gangsters or in...</td>\n",
       "    </tr>\n",
       "    <tr>\n",
       "      <th>7</th>\n",
       "      <td>B00006HAXW</td>\n",
       "      <td>AD4CDZK7D31XP</td>\n",
       "      <td>Anthony Accordino</td>\n",
       "      <td>64/65</td>\n",
       "      <td>5.0</td>\n",
       "      <td>1060473600</td>\n",
       "      <td>A  Rock N Roll History Lesson</td>\n",
       "      <td>Over the past few years, public television has...</td>\n",
       "    </tr>\n",
       "    <tr>\n",
       "      <th>8</th>\n",
       "      <td>B00006HAXW</td>\n",
       "      <td>A3Q4S5DFVPB70D</td>\n",
       "      <td>Joseph P. Aiello</td>\n",
       "      <td>26/26</td>\n",
       "      <td>5.0</td>\n",
       "      <td>1041292800</td>\n",
       "      <td>A  MUST-HAVE  video if you grew up in the 50's...</td>\n",
       "      <td>I recvd this video (DVD version) as a Christma...</td>\n",
       "    </tr>\n",
       "    <tr>\n",
       "      <th>9</th>\n",
       "      <td>B00006HAXW</td>\n",
       "      <td>A2P7UB02HAVEPB</td>\n",
       "      <td>\"bruce_from_la\"</td>\n",
       "      <td>24/24</td>\n",
       "      <td>5.0</td>\n",
       "      <td>1061164800</td>\n",
       "      <td>If You Like DooWop You Gotta Have This DVD</td>\n",
       "      <td>Wow! When I saw this show on PBS--that was it,...</td>\n",
       "    </tr>\n",
       "  </tbody>\n",
       "</table>\n",
       "</div>"
      ],
      "text/plain": [
       "    productId          userId                                 profileName  \\\n",
       "0  B003AI2VGA  A141HP4LYPWMSR            Brian E. Erland \"Rainbow Sphinx\"   \n",
       "1  B003AI2VGA  A328S9RN3U5M68                                  Grady Harp   \n",
       "2  B003AI2VGA  A1I7QGUDP043DG                   Chrissy K. McVay \"Writer\"   \n",
       "3  B003AI2VGA  A1M5405JH9THP9                                golgotha.gov   \n",
       "4  B003AI2VGA   ATXL536YX71TR  KerrLines \"&#34;Movies,Music,Theatre&#34;\"   \n",
       "5  B003AI2VGA  A3QYDL5CDNYN66                     abra \"a devoted reader\"   \n",
       "6  B003AI2VGA   AQJVNDW6YZFQS                         Charles R. Williams   \n",
       "7  B00006HAXW   AD4CDZK7D31XP                           Anthony Accordino   \n",
       "8  B00006HAXW  A3Q4S5DFVPB70D                            Joseph P. Aiello   \n",
       "9  B00006HAXW  A2P7UB02HAVEPB                             \"bruce_from_la\"   \n",
       "\n",
       "  helpfulness  score        time  \\\n",
       "0         7/7    3.0  1182729600   \n",
       "1         4/4    3.0  1181952000   \n",
       "2        8/10    5.0  1164844800   \n",
       "3         1/1    3.0  1197158400   \n",
       "4         1/1    3.0  1188345600   \n",
       "5         0/0    2.0  1229040000   \n",
       "6        3/11    1.0  1164153600   \n",
       "7       64/65    5.0  1060473600   \n",
       "8       26/26    5.0  1041292800   \n",
       "9       24/24    5.0  1061164800   \n",
       "\n",
       "                                             summary  \\\n",
       "0  \"There Is So Much Darkness Now ~ Come For The ...   \n",
       "1  Worthwhile and Important Story Hampered by Poo...   \n",
       "2                      This movie needed to be made.   \n",
       "3                  distantly based on a real tragedy   \n",
       "4  \"What's going on down in Juarez and shining a ...   \n",
       "5                  Pretty pointless fictionalization   \n",
       "6                            This is junk, stay away   \n",
       "7                      A  Rock N Roll History Lesson   \n",
       "8  A  MUST-HAVE  video if you grew up in the 50's...   \n",
       "9         If You Like DooWop You Gotta Have This DVD   \n",
       "\n",
       "                                                text  \n",
       "0  Synopsis: On the daily trek from Juarez, Mexic...  \n",
       "1  THE VIRGIN OF JUAREZ is based on true events s...  \n",
       "2  The scenes in this film can be very disquietin...  \n",
       "3  THE VIRGIN OF JUAREZ (2006)<br />directed by K...  \n",
       "4  Informationally, this SHOWTIME original is ess...  \n",
       "5  The murders in Juarez are real. This movie is ...  \n",
       "6  Mexican men are macho rapists, gangsters or in...  \n",
       "7  Over the past few years, public television has...  \n",
       "8  I recvd this video (DVD version) as a Christma...  \n",
       "9  Wow! When I saw this show on PBS--that was it,...  "
      ]
     },
     "execution_count": 3,
     "metadata": {},
     "output_type": "execute_result"
    }
   ],
   "source": [
    "amazon_df.head(10)"
   ]
  },
  {
   "cell_type": "markdown",
   "id": "8091f77c",
   "metadata": {},
   "source": [
    "### 2. Exploración y limpieza\n",
    "\n",
    "**2.1. Comprensión de datos**"
   ]
  },
  {
   "cell_type": "code",
   "execution_count": 4,
   "id": "7b6a193e",
   "metadata": {},
   "outputs": [
    {
     "name": "stdout",
     "output_type": "stream",
     "text": [
      "El dataframe contiene 50000 filas y 8 columnas.\n"
     ]
    }
   ],
   "source": [
    "print(f'El dataframe contiene {amazon_df.shape[0]} filas y {amazon_df.shape[1]} columnas.')"
   ]
  },
  {
   "cell_type": "markdown",
   "id": "71a6f22e",
   "metadata": {},
   "source": [
    "**2.2. Identificando nulos y duplicados**\n"
   ]
  },
  {
   "cell_type": "code",
   "execution_count": 5,
   "id": "5ff85c85",
   "metadata": {},
   "outputs": [
    {
     "name": "stdout",
     "output_type": "stream",
     "text": [
      "<class 'pandas.core.frame.DataFrame'>\n",
      "RangeIndex: 50000 entries, 0 to 49999\n",
      "Data columns (total 8 columns):\n",
      " #   Column       Non-Null Count  Dtype  \n",
      "---  ------       --------------  -----  \n",
      " 0   productId    50000 non-null  object \n",
      " 1   userId       50000 non-null  object \n",
      " 2   profileName  50000 non-null  object \n",
      " 3   helpfulness  50000 non-null  object \n",
      " 4   score        50000 non-null  float64\n",
      " 5   time         50000 non-null  int64  \n",
      " 6   summary      50000 non-null  object \n",
      " 7   text         50000 non-null  object \n",
      "dtypes: float64(1), int64(1), object(6)\n",
      "memory usage: 3.1+ MB\n"
     ]
    }
   ],
   "source": [
    "amazon_df.info()"
   ]
  },
  {
   "cell_type": "markdown",
   "id": "5c60169f",
   "metadata": {},
   "source": [
    "* `productId`: Identificador de pelicula (categórico)\n",
    "* `userId`: Identificador del usuario (categórico)\n",
    "* `profileName`: Nombre del usuario (categórico)\n",
    "* `helpfulness`: Utilidad segun los usuarios (categórico)\n",
    "* `score`: Puntuación (numérico)\n",
    "* `time`: Tiempo de la película (numérico)\n",
    "* `summary`: Opinión resumida (categórico)\n",
    "* `text`: Opinion larga (categórico)"
   ]
  },
  {
   "cell_type": "code",
   "execution_count": 6,
   "id": "6053eb9e",
   "metadata": {},
   "outputs": [
    {
     "name": "stdout",
     "output_type": "stream",
     "text": [
      "productId      0\n",
      "userId         0\n",
      "profileName    0\n",
      "helpfulness    0\n",
      "score          0\n",
      "time           0\n",
      "summary        0\n",
      "text           0\n",
      "dtype: int64\n",
      "Duplicados: 32\n"
     ]
    }
   ],
   "source": [
    "print(amazon_df.isnull().sum())\n",
    "\n",
    "print(\"Duplicados:\", amazon_df.duplicated().sum())"
   ]
  },
  {
   "cell_type": "markdown",
   "id": "fada9de3",
   "metadata": {},
   "source": [
    "**2.3. Eliminando información irrelevante**"
   ]
  },
  {
   "cell_type": "code",
   "execution_count": 7,
   "metadata": {},
   "outputs": [
    {
     "name": "stdout",
     "output_type": "stream",
     "text": [
      "Duplicados: 0\n"
     ]
    }
   ],
   "source": [
    "amazon_df = amazon_df.drop_duplicates()\n",
    "print(\"Duplicados:\", amazon_df.duplicated().sum())\n"
   ]
  },
  {
   "cell_type": "markdown",
   "id": "0ab08ae2",
   "metadata": {},
   "source": [
    "* Eliminar columans irrelevantes"
   ]
  },
  {
   "cell_type": "code",
   "execution_count": 8,
   "id": "c48405ca",
   "metadata": {},
   "outputs": [
    {
     "data": {
      "text/html": [
       "<div>\n",
       "<style scoped>\n",
       "    .dataframe tbody tr th:only-of-type {\n",
       "        vertical-align: middle;\n",
       "    }\n",
       "\n",
       "    .dataframe tbody tr th {\n",
       "        vertical-align: top;\n",
       "    }\n",
       "\n",
       "    .dataframe thead th {\n",
       "        text-align: right;\n",
       "    }\n",
       "</style>\n",
       "<table border=\"1\" class=\"dataframe\">\n",
       "  <thead>\n",
       "    <tr style=\"text-align: right;\">\n",
       "      <th></th>\n",
       "      <th>productId</th>\n",
       "      <th>userId</th>\n",
       "      <th>score</th>\n",
       "      <th>summary</th>\n",
       "      <th>text</th>\n",
       "    </tr>\n",
       "  </thead>\n",
       "  <tbody>\n",
       "    <tr>\n",
       "      <th>0</th>\n",
       "      <td>B003AI2VGA</td>\n",
       "      <td>A141HP4LYPWMSR</td>\n",
       "      <td>3.0</td>\n",
       "      <td>\"There Is So Much Darkness Now ~ Come For The ...</td>\n",
       "      <td>Synopsis: On the daily trek from Juarez, Mexic...</td>\n",
       "    </tr>\n",
       "    <tr>\n",
       "      <th>1</th>\n",
       "      <td>B003AI2VGA</td>\n",
       "      <td>A328S9RN3U5M68</td>\n",
       "      <td>3.0</td>\n",
       "      <td>Worthwhile and Important Story Hampered by Poo...</td>\n",
       "      <td>THE VIRGIN OF JUAREZ is based on true events s...</td>\n",
       "    </tr>\n",
       "    <tr>\n",
       "      <th>2</th>\n",
       "      <td>B003AI2VGA</td>\n",
       "      <td>A1I7QGUDP043DG</td>\n",
       "      <td>5.0</td>\n",
       "      <td>This movie needed to be made.</td>\n",
       "      <td>The scenes in this film can be very disquietin...</td>\n",
       "    </tr>\n",
       "    <tr>\n",
       "      <th>3</th>\n",
       "      <td>B003AI2VGA</td>\n",
       "      <td>A1M5405JH9THP9</td>\n",
       "      <td>3.0</td>\n",
       "      <td>distantly based on a real tragedy</td>\n",
       "      <td>THE VIRGIN OF JUAREZ (2006)&lt;br /&gt;directed by K...</td>\n",
       "    </tr>\n",
       "    <tr>\n",
       "      <th>4</th>\n",
       "      <td>B003AI2VGA</td>\n",
       "      <td>ATXL536YX71TR</td>\n",
       "      <td>3.0</td>\n",
       "      <td>\"What's going on down in Juarez and shining a ...</td>\n",
       "      <td>Informationally, this SHOWTIME original is ess...</td>\n",
       "    </tr>\n",
       "  </tbody>\n",
       "</table>\n",
       "</div>"
      ],
      "text/plain": [
       "    productId          userId  score  \\\n",
       "0  B003AI2VGA  A141HP4LYPWMSR    3.0   \n",
       "1  B003AI2VGA  A328S9RN3U5M68    3.0   \n",
       "2  B003AI2VGA  A1I7QGUDP043DG    5.0   \n",
       "3  B003AI2VGA  A1M5405JH9THP9    3.0   \n",
       "4  B003AI2VGA   ATXL536YX71TR    3.0   \n",
       "\n",
       "                                             summary  \\\n",
       "0  \"There Is So Much Darkness Now ~ Come For The ...   \n",
       "1  Worthwhile and Important Story Hampered by Poo...   \n",
       "2                      This movie needed to be made.   \n",
       "3                  distantly based on a real tragedy   \n",
       "4  \"What's going on down in Juarez and shining a ...   \n",
       "\n",
       "                                                text  \n",
       "0  Synopsis: On the daily trek from Juarez, Mexic...  \n",
       "1  THE VIRGIN OF JUAREZ is based on true events s...  \n",
       "2  The scenes in this film can be very disquietin...  \n",
       "3  THE VIRGIN OF JUAREZ (2006)<br />directed by K...  \n",
       "4  Informationally, this SHOWTIME original is ess...  "
      ]
     },
     "execution_count": 8,
     "metadata": {},
     "output_type": "execute_result"
    }
   ],
   "source": [
    "amazon_clean = amazon_df.drop(columns=['profileName', 'helpfulness', 'time'])\n",
    "\n",
    "amazon_clean.head()\n"
   ]
  },
  {
   "cell_type": "markdown",
   "id": "b01877f6",
   "metadata": {},
   "source": [
    "El texto sirve para estudio mas adelante pero solo se hara EDA de las 3 primeras columnas"
   ]
  },
  {
   "cell_type": "markdown",
   "id": "06c9ee38",
   "metadata": {},
   "source": [
    "### 3. Análisis univariante\n",
    "**3.1. Dividir el Dataset en categoricos y numericos**"
   ]
  },
  {
   "cell_type": "code",
   "execution_count": 9,
   "id": "0fb8a658",
   "metadata": {},
   "outputs": [
    {
     "data": {
      "text/plain": [
       "array([dtype('O'), dtype('float64')], dtype=object)"
      ]
     },
     "execution_count": 9,
     "metadata": {},
     "output_type": "execute_result"
    }
   ],
   "source": [
    "a_df_copy = amazon_clean.copy()\n",
    "a_df_copy.dtypes.unique()"
   ]
  },
  {
   "cell_type": "code",
   "execution_count": 10,
   "id": "de04c10c",
   "metadata": {},
   "outputs": [],
   "source": [
    "categorical_cols = ['productId', 'userId']\n",
    "numerical_cols = ['score']"
   ]
  },
  {
   "cell_type": "markdown",
   "id": "feba4a3a",
   "metadata": {},
   "source": [
    "**3.2. Análisis sober variables categóricas**"
   ]
  },
  {
   "cell_type": "code",
   "execution_count": 11,
   "id": "8dd6aab9",
   "metadata": {},
   "outputs": [
    {
     "name": "stdout",
     "output_type": "stream",
     "text": [
      "productId\n",
      "B002VL2PTU    669\n",
      "B001NFNFMQ    648\n",
      "B003DBEX6K    626\n",
      "B000KKQNRO    608\n",
      "B000ZLFALI    591\n",
      "B000ZLFALS    591\n",
      "B000063W82    589\n",
      "B0001G6PZC    545\n",
      "B0083SI986    530\n",
      "B0014ERKO0    515\n",
      "Name: count, dtype: int64\n",
      "Total de productos únicos: 1539\n",
      "------------------------------------------------------\n",
      "userId\n",
      "A3LZGLA88K0LA0    56\n",
      "A2NJO6YE954DBH    54\n",
      "ANCOMAI0I7LVG     54\n",
      "A328S9RN3U5M68    53\n",
      "A16CZRQL23NOIW    51\n",
      "A35ZK3M8L9JUPX    50\n",
      "A10ODC971MDHV8    50\n",
      "ABO2ZI2Y5DQ9T     50\n",
      "A1GGOC9PVDXW7Z    49\n",
      "A7Y6AVS576M03     47\n",
      "Name: count, dtype: int64\n",
      "Total de usuarios únicos: 36409\n"
     ]
    }
   ],
   "source": [
    "# Reseñas por película\n",
    "print(amazon_clean['productId'].value_counts().head(10))\n",
    "print(f\"Total de productos únicos: {amazon_clean['productId'].nunique()}\")\n",
    "print(\"------------------------------------------------------\")\n",
    "print(amazon_clean['userId'].value_counts().head(10))\n",
    "print(f\"Total de usuarios únicos: {amazon_clean['userId'].nunique()}\")"
   ]
  },
  {
   "cell_type": "markdown",
   "id": "514a7fe1",
   "metadata": {},
   "source": [
    "Para visualiazr los datos categóricos solo se usara el TOP asi ya nos podemos hacer una idea con un gráfico con la información relevante"
   ]
  },
  {
   "cell_type": "code",
   "execution_count": 12,
   "metadata": {},
   "outputs": [
    {
     "name": "stdout",
     "output_type": "stream",
     "text": [
      "Top 10 productos graficados: 10\n",
      "Top 10 usuarios graficados: 10\n"
     ]
    },
    {
     "data": {
      "image/png": "[encoded data removed]",
      "text/plain": [
       "<Figure size 1600x600 with 2 Axes>"
      ]
     },
     "metadata": {},
     "output_type": "display_data"
    }
   ],
   "source": [
    "top_n_products = 10\n",
    "top_n_users = 10\n",
    "\n",
    "fig, axis = plt.subplots(1, 2, figsize=(16, 6))\n",
    "\n",
    "# PRODUCTOS\n",
    "top_products = amazon_clean['productId'].value_counts().head(top_n_products).index\n",
    "sns.countplot(ax=axis[0], data=amazon_clean, x='productId', order=top_products)\n",
    "axis[0].set_title(\"Top 10 Productos\")\n",
    "axis[0].tick_params(axis='x', rotation=45)\n",
    "print(\"Top 10 productos graficados:\", len(top_products))\n",
    "\n",
    "# USUARIOS\n",
    "top_users = amazon_clean['userId'].value_counts().head(top_n_users).index\n",
    "sns.countplot(ax=axis[1], data=amazon_clean, x='userId', order=top_users)\n",
    "axis[1].set_title(\"Top 10 Usuarios\")\n",
    "axis[1].tick_params(axis='x', rotation=45)\n",
    "print(\"Top 10 usuarios graficados:\", len(top_users))\n",
    "\n",
    "plt.tight_layout()\n",
    "plt.show()\n"
   ]
  },
  {
   "cell_type": "markdown",
   "id": "fa8ae018",
   "metadata": {},
   "source": [
    "* Las peliculas con mayor imapcto tienen entre 660 y 550 reseñas\n",
    "* Los 10 usuarios con mas reseñas estan entre las 48 y 58 reseñas"
   ]
  },
  {
   "cell_type": "markdown",
   "id": "77c51e51",
   "metadata": {},
   "source": [
    "**3.3. Análisis de las variables numéricas**"
   ]
  },
  {
   "cell_type": "code",
   "execution_count": 13,
   "id": "2a89db90",
   "metadata": {},
   "outputs": [
    {
     "name": "stdout",
     "output_type": "stream",
     "text": [
      "count    49968.000000\n",
      "mean         4.118776\n",
      "std          1.248836\n",
      "min          1.000000\n",
      "25%          4.000000\n",
      "50%          5.000000\n",
      "75%          5.000000\n",
      "max          5.000000\n",
      "Name: score, dtype: float64\n"
     ]
    }
   ],
   "source": [
    "print(amazon_clean['score'].describe())"
   ]
  },
  {
   "cell_type": "code",
   "execution_count": 14,
   "id": "74abf0b1",
   "metadata": {},
   "outputs": [
    {
     "data": {
      "image/png": "[encoded data removed]",
      "text/plain": [
       "<Figure size 800x600 with 2 Axes>"
      ]
     },
     "metadata": {},
     "output_type": "display_data"
    }
   ],
   "source": [
    "df_copy = amazon_clean\n",
    "n = len(numerical_cols)\n",
    "n_cols = 1  # solo un gráfico por columna (histograma + boxplot)\n",
    "n_rows = n * 2  # fila par = hist, fila impar = boxplot\n",
    "\n",
    "# Alternar alturas: filas pares grandes para histograma, impares pequeñas para boxplot\n",
    "height_ratios = []\n",
    "for _ in range(n):\n",
    "    height_ratios.extend([6, 1])\n",
    "\n",
    "fig, axis = plt.subplots(n_rows, n_cols, figsize=(8, 3 * n_rows), gridspec_kw={'height_ratios': height_ratios})\n",
    "\n",
    "# Asegurar que axis sea 1D si solo hay una columna\n",
    "if n == 1:\n",
    "    axis = np.array(axis).reshape(-1)\n",
    "\n",
    "for idx, col in enumerate(numerical_cols):\n",
    "    # Limitar por percentil 90 (opcional)\n",
    "    limite = df_copy[col].quantile(0.90)\n",
    "    datos_filtrados = df_copy[df_copy[col] <= limite]\n",
    "\n",
    "    row_hist = idx * 2\n",
    "    row_box = row_hist + 1\n",
    "\n",
    "    # Histograma\n",
    "    sns.histplot(ax=axis[row_hist], data=datos_filtrados, x=col, bins=5, kde=False)\n",
    "    axis[row_hist].set_title(f\"Histograma de {col}\")\n",
    "\n",
    "    # Boxplot\n",
    "    sns.boxplot(ax=axis[row_box], data=datos_filtrados, x=col)\n",
    "    axis[row_box].set_title(f\"Boxplot de {col}\")\n",
    "\n",
    "plt.tight_layout()\n",
    "plt.show()\n"
   ]
  },
  {
   "cell_type": "markdown",
   "id": "2defb149",
   "metadata": {},
   "source": [
    "* La mayoría de reseñas se encuentran enre el 4.2 y el 5\n",
    "* como se ve en el boxplot por ahi esta la media habiendo margen hasta 3. Por lo que reseñas de 1 y 2 son escasas"
   ]
  },
  {
   "cell_type": "markdown",
   "id": "006f0135",
   "metadata": {},
   "source": [
    "### 4. Análisis multivariante\n",
    "**4.1. Codificación de valor categorico - numericos**"
   ]
  },
  {
   "cell_type": "code",
   "execution_count": 15,
   "id": "a80e5e58",
   "metadata": {},
   "outputs": [],
   "source": [
    "def plot_numerical_analisis_amazon(column, numerical_column, top_n=10, column_info=False):\n",
    "   \n",
    "    top_categories = amazon_clean[column].value_counts().head(top_n).index\n",
    "    df_plot = amazon_clean[amazon_clean[column].isin(top_categories)].copy()\n",
    "\n",
    "    \n",
    "    columna_n = f\"{column}_n\"\n",
    "    df_plot[columna_n] = pd.factorize(df_plot[column])[0]\n",
    "\n",
    "    n = len(numerical_column)\n",
    "    n_cols = 1\n",
    "    n_rows = n * 2  # histograma + boxplot\n",
    "\n",
    "    height_ratios = []\n",
    "    for _ in range(n):\n",
    "        height_ratios.extend([6, 1])\n",
    "\n",
    "    fig, axis = plt.subplots(n_rows, n_cols, figsize=(8, 3 * n_rows), gridspec_kw={'height_ratios': height_ratios})\n",
    "\n",
    "    if n == 1:\n",
    "        axis = np.array(axis).reshape(-1)\n",
    "\n",
    "    for idx, col in enumerate(numerical_column):\n",
    "        limite = df_plot[col].quantile(0.90)\n",
    "        datos_filtrados = df_plot[df_plot[col] <= limite]\n",
    "\n",
    "        row_hist = idx * 2\n",
    "        row_box = row_hist + 1\n",
    "\n",
    "        # Gráfico de dispersión con regresión\n",
    "        sns.regplot(ax=axis[row_hist], data=datos_filtrados, x=col, y=columna_n, scatter_kws={'alpha':0.5})\n",
    "        axis[row_hist].set_ylabel(column)\n",
    "\n",
    "        # Heatmap de correlación\n",
    "        corr = datos_filtrados[[col, columna_n]].corr().rename(columns={columna_n: column}, index={columna_n: column})\n",
    "        sns.heatmap(corr, annot=True, fmt=\".2f\", ax=axis[row_box], cbar=False)\n",
    "\n",
    "    plt.tight_layout()\n",
    "    plt.show()\n",
    "\n",
    "\n"
   ]
  },
  {
   "cell_type": "code",
   "execution_count": 16,
   "id": "ed0aab48",
   "metadata": {},
   "outputs": [
    {
     "data": {
      "image/png": "[encoded data removed]",
      "text/plain": [
       "<Figure size 800x600 with 2 Axes>"
      ]
     },
     "metadata": {},
     "output_type": "display_data"
    },
    {
     "data": {
      "image/png": "[encoded data removed]",
      "text/plain": [
       "<Figure size 800x600 with 2 Axes>"
      ]
     },
     "metadata": {},
     "output_type": "display_data"
    }
   ],
   "source": [
    "\n",
    "plot_numerical_analisis_amazon(\"productId\", [\"score\"], top_n=10, column_info=True)\n",
    "plot_numerical_analisis_amazon(\"userId\", [\"score\"], top_n=10, column_info=True)"
   ]
  },
  {
   "cell_type": "markdown",
   "id": "20e0e8de",
   "metadata": {},
   "source": [
    "* No parecen tener relacion las pelis y usuarios con la puntuación"
   ]
  },
  {
   "cell_type": "markdown",
   "id": "09db9c17",
   "metadata": {},
   "source": [
    "**4.2. Numerico-Numerico Análisis**\n",
    "\n",
    "No se puede hacer ya que solo hay un numerico"
   ]
  },
  {
   "cell_type": "markdown",
   "id": "cba5bcfc",
   "metadata": {},
   "source": [
    "**4.3. Categorico-Categorico Análisis**"
   ]
  },
  {
   "cell_type": "code",
   "execution_count": 17,
   "id": "e168d5df",
   "metadata": {},
   "outputs": [
    {
     "data": {
      "text/plain": [
       "<Figure size 1200x600 with 0 Axes>"
      ]
     },
     "metadata": {},
     "output_type": "display_data"
    },
    {
     "data": {
      "image/png": "[encoded data removed]",
      "text/plain": [
       "<Figure size 1200x600 with 1 Axes>"
      ]
     },
     "metadata": {},
     "output_type": "display_data"
    }
   ],
   "source": [
    "ct = pd.crosstab(df_copy['productId'], df_copy['userId'])\n",
    "\n",
    "ct = ct.reindex(index=top_products, columns=top_users, fill_value=0)\n",
    "ct_prop = ct.div(ct.sum(axis=1).replace(0,1), axis=0)  # evitar división por 0\n",
    "\n",
    "# 3) Stacked bar (proporción) — más intuitivo para comparar productos\n",
    "plt.figure(figsize=(12,6))\n",
    "ct_prop.plot(kind='bar', stacked=True, figsize=(12,6))\n",
    "plt.title(f'Proporción de reseñas por producto (Top {top_n_products}) entre Top {top_n_users} usuarios')\n",
    "plt.xlabel('productId')\n",
    "plt.ylabel('Proporción de reseñas')\n",
    "plt.xticks(rotation=45, ha='right')\n",
    "plt.legend(title='userId', bbox_to_anchor=(1.05, 1), loc='upper left')\n",
    "plt.tight_layout()\n",
    "plt.show()\n",
    "\n",
    "\n"
   ]
  },
  {
   "cell_type": "markdown",
   "id": "8aa78e37",
   "metadata": {},
   "source": [
    "* Hay peliculas con muchas reseñas pero que no fueron comentadas por ninguno de los top users (2da y 7ma)\n",
    "* El usuario que mas peliculas top comento es el rojo\n",
    "* La pelicula con mas comentarios de top users es la 4ta"
   ]
  },
  {
   "cell_type": "markdown",
   "id": "db2fbf1a",
   "metadata": {},
   "source": [
    "### 5. Ingeniería de características"
   ]
  },
  {
   "cell_type": "markdown",
   "id": "2893b3f8",
   "metadata": {},
   "source": [
    "Puesto que hay otro dataset y se califican las reseñas como positivas, negativas o neutras vamos a ajustarlas, ademas de crear columnas para contar las reseñas por usuario y películas\n"
   ]
  },
  {
   "cell_type": "code",
   "execution_count": 18,
   "id": "e1cbfd3c",
   "metadata": {},
   "outputs": [],
   "source": [
    "def score_to_sentiment(score):\n",
    "    if score <= 2:\n",
    "        return 'negative'\n",
    "    elif score == 3:\n",
    "        return 'neutral'\n",
    "    else:\n",
    "        return 'positive'\n",
    "\n",
    "amazon_clean['sentiment'] = amazon_clean['score'].apply(score_to_sentiment)\n"
   ]
  },
  {
   "cell_type": "code",
   "execution_count": 19,
   "id": "333b7d1e",
   "metadata": {},
   "outputs": [],
   "source": [
    "amazon_clean['reviews_per_product'] = amazon_clean.groupby('productId')['productId'].transform('count')\n",
    "amazon_clean['reviews_per_user'] = amazon_clean.groupby('userId')['userId'].transform('count')"
   ]
  },
  {
   "cell_type": "code",
   "execution_count": 20,
   "id": "682556d3",
   "metadata": {},
   "outputs": [
    {
     "data": {
      "text/html": [
       "<div>\n",
       "<style scoped>\n",
       "    .dataframe tbody tr th:only-of-type {\n",
       "        vertical-align: middle;\n",
       "    }\n",
       "\n",
       "    .dataframe tbody tr th {\n",
       "        vertical-align: top;\n",
       "    }\n",
       "\n",
       "    .dataframe thead th {\n",
       "        text-align: right;\n",
       "    }\n",
       "</style>\n",
       "<table border=\"1\" class=\"dataframe\">\n",
       "  <thead>\n",
       "    <tr style=\"text-align: right;\">\n",
       "      <th></th>\n",
       "      <th>productId</th>\n",
       "      <th>userId</th>\n",
       "      <th>score</th>\n",
       "      <th>summary</th>\n",
       "      <th>text</th>\n",
       "      <th>sentiment</th>\n",
       "      <th>reviews_per_product</th>\n",
       "      <th>reviews_per_user</th>\n",
       "    </tr>\n",
       "  </thead>\n",
       "  <tbody>\n",
       "    <tr>\n",
       "      <th>0</th>\n",
       "      <td>B003AI2VGA</td>\n",
       "      <td>A141HP4LYPWMSR</td>\n",
       "      <td>3.0</td>\n",
       "      <td>\"There Is So Much Darkness Now ~ Come For The ...</td>\n",
       "      <td>Synopsis: On the daily trek from Juarez, Mexic...</td>\n",
       "      <td>neutral</td>\n",
       "      <td>7</td>\n",
       "      <td>27</td>\n",
       "    </tr>\n",
       "    <tr>\n",
       "      <th>1</th>\n",
       "      <td>B003AI2VGA</td>\n",
       "      <td>A328S9RN3U5M68</td>\n",
       "      <td>3.0</td>\n",
       "      <td>Worthwhile and Important Story Hampered by Poo...</td>\n",
       "      <td>THE VIRGIN OF JUAREZ is based on true events s...</td>\n",
       "      <td>neutral</td>\n",
       "      <td>7</td>\n",
       "      <td>53</td>\n",
       "    </tr>\n",
       "    <tr>\n",
       "      <th>2</th>\n",
       "      <td>B003AI2VGA</td>\n",
       "      <td>A1I7QGUDP043DG</td>\n",
       "      <td>5.0</td>\n",
       "      <td>This movie needed to be made.</td>\n",
       "      <td>The scenes in this film can be very disquietin...</td>\n",
       "      <td>positive</td>\n",
       "      <td>7</td>\n",
       "      <td>8</td>\n",
       "    </tr>\n",
       "    <tr>\n",
       "      <th>3</th>\n",
       "      <td>B003AI2VGA</td>\n",
       "      <td>A1M5405JH9THP9</td>\n",
       "      <td>3.0</td>\n",
       "      <td>distantly based on a real tragedy</td>\n",
       "      <td>THE VIRGIN OF JUAREZ (2006)&lt;br /&gt;directed by K...</td>\n",
       "      <td>neutral</td>\n",
       "      <td>7</td>\n",
       "      <td>1</td>\n",
       "    </tr>\n",
       "    <tr>\n",
       "      <th>4</th>\n",
       "      <td>B003AI2VGA</td>\n",
       "      <td>ATXL536YX71TR</td>\n",
       "      <td>3.0</td>\n",
       "      <td>\"What's going on down in Juarez and shining a ...</td>\n",
       "      <td>Informationally, this SHOWTIME original is ess...</td>\n",
       "      <td>neutral</td>\n",
       "      <td>7</td>\n",
       "      <td>12</td>\n",
       "    </tr>\n",
       "  </tbody>\n",
       "</table>\n",
       "</div>"
      ],
      "text/plain": [
       "    productId          userId  score  \\\n",
       "0  B003AI2VGA  A141HP4LYPWMSR    3.0   \n",
       "1  B003AI2VGA  A328S9RN3U5M68    3.0   \n",
       "2  B003AI2VGA  A1I7QGUDP043DG    5.0   \n",
       "3  B003AI2VGA  A1M5405JH9THP9    3.0   \n",
       "4  B003AI2VGA   ATXL536YX71TR    3.0   \n",
       "\n",
       "                                             summary  \\\n",
       "0  \"There Is So Much Darkness Now ~ Come For The ...   \n",
       "1  Worthwhile and Important Story Hampered by Poo...   \n",
       "2                      This movie needed to be made.   \n",
       "3                  distantly based on a real tragedy   \n",
       "4  \"What's going on down in Juarez and shining a ...   \n",
       "\n",
       "                                                text sentiment  \\\n",
       "0  Synopsis: On the daily trek from Juarez, Mexic...   neutral   \n",
       "1  THE VIRGIN OF JUAREZ is based on true events s...   neutral   \n",
       "2  The scenes in this film can be very disquietin...  positive   \n",
       "3  THE VIRGIN OF JUAREZ (2006)<br />directed by K...   neutral   \n",
       "4  Informationally, this SHOWTIME original is ess...   neutral   \n",
       "\n",
       "   reviews_per_product  reviews_per_user  \n",
       "0                    7                27  \n",
       "1                    7                53  \n",
       "2                    7                 8  \n",
       "3                    7                 1  \n",
       "4                    7                12  "
      ]
     },
     "execution_count": 20,
     "metadata": {},
     "output_type": "execute_result"
    }
   ],
   "source": [
    "amazon_clean.head()"
   ]
  },
  {
   "cell_type": "markdown",
   "id": "db977c84",
   "metadata": {},
   "source": [
    "**5.1. Análisis de outliers**"
   ]
  },
  {
   "cell_type": "code",
   "execution_count": 21,
   "id": "65ef35b8",
   "metadata": {},
   "outputs": [
    {
     "name": "stdout",
     "output_type": "stream",
     "text": [
      "score: 6610 outliers detectados\n",
      "reviews_per_product: 0 outliers detectados\n",
      "reviews_per_user: 9032 outliers detectados\n"
     ]
    }
   ],
   "source": [
    "def detectar_outliers_iqr(df, columnas):\n",
    "    outliers = {}\n",
    "    for col in columnas:\n",
    "        Q1 = df[col].quantile(0.25)\n",
    "        Q3 = df[col].quantile(0.75)\n",
    "        IQR = Q3 - Q1\n",
    "        lower = Q1 - 1.5 * IQR\n",
    "        upper = Q3 + 1.5 * IQR\n",
    "\n",
    "        mask = (df[col] < lower) | (df[col] > upper)\n",
    "        outliers[col] = df[mask][col]\n",
    "\n",
    "        print(f\"{col}: {mask.sum()} outliers detectados\")\n",
    "\n",
    "    return outliers\n",
    "\n",
    "outliers_detectados = detectar_outliers_iqr(df_copy, numerical_cols + ['reviews_per_product', 'reviews_per_user'])\n"
   ]
  },
  {
   "cell_type": "code",
   "execution_count": 22,
   "id": "28e04b84",
   "metadata": {},
   "outputs": [
    {
     "data": {
      "image/png": "[encoded data removed]",
      "text/plain": [
       "<Figure size 1400x1000 with 6 Axes>"
      ]
     },
     "metadata": {},
     "output_type": "display_data"
    }
   ],
   "source": [
    "n = len(numerical_cols) + 2  # +2 por las nuevas columnas\n",
    "n_cols = 2\n",
    "n_rows = math.ceil(n / n_cols) * 2\n",
    "\n",
    "fig, axis = plt.subplots(n_rows, n_cols, figsize=(14, 2.5 * n_rows))\n",
    "\n",
    "axis = np.array(axis)\n",
    "if axis.ndim == 1:\n",
    "    axis = axis.reshape(-1, n_cols)\n",
    "\n",
    "for idx, col in enumerate(numerical_cols + ['reviews_per_product', 'reviews_per_user']):\n",
    "    datos = df_copy[col]\n",
    "\n",
    "    grid_pos = idx // n_cols\n",
    "    col_pos = idx % n_cols\n",
    "    row_hist = grid_pos * 2\n",
    "    row_box = row_hist + 1\n",
    "\n",
    "    # Histograma\n",
    "    sns.histplot(ax=axis[row_hist, col_pos], data=datos, kde=True)\n",
    "    axis[row_hist, col_pos].set_title(f\"Histograma {col}\")\n",
    "\n",
    "    # Boxplot\n",
    "    sns.boxplot(ax=axis[row_box, col_pos], data=datos, orient='h')\n",
    "    axis[row_box, col_pos].set_title(f\"Boxplot {col}\")\n",
    "\n",
    "# Eliminar gráficos vacíos\n",
    "for idx in range(n, (n_rows // 2) * n_cols):\n",
    "    grid_pos = idx // n_cols\n",
    "    col_pos = idx % n_cols\n",
    "    row_hist = grid_pos * 2\n",
    "    row_box = row_hist + 1\n",
    "    fig.delaxes(axis[row_hist, col_pos])\n",
    "    fig.delaxes(axis[row_box, col_pos])\n",
    "\n",
    "plt.tight_layout()\n",
    "plt.show()\n"
   ]
  },
  {
   "cell_type": "markdown",
   "id": "e9e711a6",
   "metadata": {},
   "source": [
    "* Aunque se vean outliers son de datos que deben manejarse diferentes, los reviews por usuario sirve para tener en cuenta grupos de usuarios mas cactivos o menos activos . En el aso de score al ser casos de puntajes tampoco es necesario quitarlos."
   ]
  },
  {
   "cell_type": "markdown",
   "id": "9cd896df",
   "metadata": {},
   "source": [
    "## IMDb ES/EN Dataset\n",
    "### 1. Carga de información"
   ]
  },
  {
   "cell_type": "code",
   "execution_count": 23,
   "id": "48bbe4bc",
   "metadata": {},
   "outputs": [],
   "source": [
    "df_imdb = ds.review_dataset()"
   ]
  },
  {
   "cell_type": "code",
   "execution_count": 24,
   "id": "2313e02c",
   "metadata": {},
   "outputs": [
    {
     "data": {
      "text/html": [
       "<div>\n",
       "<style scoped>\n",
       "    .dataframe tbody tr th:only-of-type {\n",
       "        vertical-align: middle;\n",
       "    }\n",
       "\n",
       "    .dataframe tbody tr th {\n",
       "        vertical-align: top;\n",
       "    }\n",
       "\n",
       "    .dataframe thead th {\n",
       "        text-align: right;\n",
       "    }\n",
       "</style>\n",
       "<table border=\"1\" class=\"dataframe\">\n",
       "  <thead>\n",
       "    <tr style=\"text-align: right;\">\n",
       "      <th></th>\n",
       "      <th>Unnamed: 0</th>\n",
       "      <th>review_en</th>\n",
       "      <th>review_es</th>\n",
       "      <th>sentiment</th>\n",
       "      <th>sentimiento</th>\n",
       "    </tr>\n",
       "  </thead>\n",
       "  <tbody>\n",
       "    <tr>\n",
       "      <th>0</th>\n",
       "      <td>0</td>\n",
       "      <td>One of the other reviewers has mentioned that ...</td>\n",
       "      <td>Uno de los otros críticos ha mencionado que de...</td>\n",
       "      <td>positive</td>\n",
       "      <td>positivo</td>\n",
       "    </tr>\n",
       "    <tr>\n",
       "      <th>1</th>\n",
       "      <td>1</td>\n",
       "      <td>A wonderful little production. The filming tec...</td>\n",
       "      <td>Una pequeña pequeña producción.La técnica de f...</td>\n",
       "      <td>positive</td>\n",
       "      <td>positivo</td>\n",
       "    </tr>\n",
       "    <tr>\n",
       "      <th>2</th>\n",
       "      <td>2</td>\n",
       "      <td>I thought this was a wonderful way to spend ti...</td>\n",
       "      <td>Pensé que esta era una manera maravillosa de p...</td>\n",
       "      <td>positive</td>\n",
       "      <td>positivo</td>\n",
       "    </tr>\n",
       "    <tr>\n",
       "      <th>3</th>\n",
       "      <td>3</td>\n",
       "      <td>Basically there's a family where a little boy ...</td>\n",
       "      <td>Básicamente, hay una familia donde un niño peq...</td>\n",
       "      <td>negative</td>\n",
       "      <td>negativo</td>\n",
       "    </tr>\n",
       "    <tr>\n",
       "      <th>4</th>\n",
       "      <td>4</td>\n",
       "      <td>Petter Mattei's \"Love in the Time of Money\" is...</td>\n",
       "      <td>El \"amor en el tiempo\" de Petter Mattei es una...</td>\n",
       "      <td>positive</td>\n",
       "      <td>positivo</td>\n",
       "    </tr>\n",
       "    <tr>\n",
       "      <th>5</th>\n",
       "      <td>5</td>\n",
       "      <td>Probably my all-time favorite movie, a story o...</td>\n",
       "      <td>Probablemente mi película favorita de todos lo...</td>\n",
       "      <td>positive</td>\n",
       "      <td>positivo</td>\n",
       "    </tr>\n",
       "    <tr>\n",
       "      <th>6</th>\n",
       "      <td>6</td>\n",
       "      <td>I sure would like to see a resurrection of a u...</td>\n",
       "      <td>Seguro que me gustaría ver una resurrección de...</td>\n",
       "      <td>positive</td>\n",
       "      <td>positivo</td>\n",
       "    </tr>\n",
       "    <tr>\n",
       "      <th>7</th>\n",
       "      <td>7</td>\n",
       "      <td>This show was an amazing, fresh &amp; innovative i...</td>\n",
       "      <td>Este espectáculo fue una idea increíble, fresc...</td>\n",
       "      <td>negative</td>\n",
       "      <td>negativo</td>\n",
       "    </tr>\n",
       "    <tr>\n",
       "      <th>8</th>\n",
       "      <td>8</td>\n",
       "      <td>Encouraged by the positive comments about this...</td>\n",
       "      <td>Alentados por los comentarios positivos sobre ...</td>\n",
       "      <td>negative</td>\n",
       "      <td>negativo</td>\n",
       "    </tr>\n",
       "    <tr>\n",
       "      <th>9</th>\n",
       "      <td>9</td>\n",
       "      <td>If you like original gut wrenching laughter yo...</td>\n",
       "      <td>Si te gusta la risa original desgarradora, te ...</td>\n",
       "      <td>positive</td>\n",
       "      <td>positivo</td>\n",
       "    </tr>\n",
       "  </tbody>\n",
       "</table>\n",
       "</div>"
      ],
      "text/plain": [
       "   Unnamed: 0                                          review_en  \\\n",
       "0           0  One of the other reviewers has mentioned that ...   \n",
       "1           1  A wonderful little production. The filming tec...   \n",
       "2           2  I thought this was a wonderful way to spend ti...   \n",
       "3           3  Basically there's a family where a little boy ...   \n",
       "4           4  Petter Mattei's \"Love in the Time of Money\" is...   \n",
       "5           5  Probably my all-time favorite movie, a story o...   \n",
       "6           6  I sure would like to see a resurrection of a u...   \n",
       "7           7  This show was an amazing, fresh & innovative i...   \n",
       "8           8  Encouraged by the positive comments about this...   \n",
       "9           9  If you like original gut wrenching laughter yo...   \n",
       "\n",
       "                                           review_es sentiment sentimiento  \n",
       "0  Uno de los otros críticos ha mencionado que de...  positive    positivo  \n",
       "1  Una pequeña pequeña producción.La técnica de f...  positive    positivo  \n",
       "2  Pensé que esta era una manera maravillosa de p...  positive    positivo  \n",
       "3  Básicamente, hay una familia donde un niño peq...  negative    negativo  \n",
       "4  El \"amor en el tiempo\" de Petter Mattei es una...  positive    positivo  \n",
       "5  Probablemente mi película favorita de todos lo...  positive    positivo  \n",
       "6  Seguro que me gustaría ver una resurrección de...  positive    positivo  \n",
       "7  Este espectáculo fue una idea increíble, fresc...  negative    negativo  \n",
       "8  Alentados por los comentarios positivos sobre ...  negative    negativo  \n",
       "9  Si te gusta la risa original desgarradora, te ...  positive    positivo  "
      ]
     },
     "execution_count": 24,
     "metadata": {},
     "output_type": "execute_result"
    }
   ],
   "source": [
    "df_imdb.head(10)"
   ]
  },
  {
   "cell_type": "markdown",
   "id": "046c97ef",
   "metadata": {},
   "source": [
    "### 2. Exploración y limpieza\n",
    "\n",
    "**2.1. Comprensión de datos**"
   ]
  },
  {
   "cell_type": "code",
   "execution_count": 25,
   "id": "97ebcb10",
   "metadata": {},
   "outputs": [
    {
     "name": "stdout",
     "output_type": "stream",
     "text": [
      "El dataframe contiene 50000 filas y 5 columnas.\n"
     ]
    }
   ],
   "source": [
    "print(f'El dataframe contiene {df_imdb.shape[0]} filas y {df_imdb.shape[1]} columnas.')"
   ]
  },
  {
   "cell_type": "markdown",
   "id": "cedffab3",
   "metadata": {},
   "source": [
    "**2.2. Identificando nulos y duplicados**"
   ]
  },
  {
   "cell_type": "code",
   "execution_count": 26,
   "id": "48c47c23",
   "metadata": {},
   "outputs": [
    {
     "name": "stdout",
     "output_type": "stream",
     "text": [
      "<class 'pandas.core.frame.DataFrame'>\n",
      "RangeIndex: 50000 entries, 0 to 49999\n",
      "Data columns (total 5 columns):\n",
      " #   Column       Non-Null Count  Dtype \n",
      "---  ------       --------------  ----- \n",
      " 0   Unnamed: 0   50000 non-null  int64 \n",
      " 1   review_en    50000 non-null  object\n",
      " 2   review_es    50000 non-null  object\n",
      " 3   sentiment    50000 non-null  object\n",
      " 4   sentimiento  50000 non-null  object\n",
      "dtypes: int64(1), object(4)\n",
      "memory usage: 1.9+ MB\n"
     ]
    }
   ],
   "source": [
    "df_imdb.info()"
   ]
  },
  {
   "cell_type": "code",
   "execution_count": 27,
   "id": "12104f18",
   "metadata": {},
   "outputs": [
    {
     "name": "stdout",
     "output_type": "stream",
     "text": [
      "Unnamed: 0     0\n",
      "review_en      0\n",
      "review_es      0\n",
      "sentiment      0\n",
      "sentimiento    0\n",
      "dtype: int64\n",
      "Duplicados: 0\n"
     ]
    }
   ],
   "source": [
    "print(df_imdb.isnull().sum())\n",
    "\n",
    "print(\"Duplicados:\", df_imdb.duplicated().sum())"
   ]
  },
  {
   "cell_type": "markdown",
   "id": "b5efcb5f",
   "metadata": {},
   "source": [
    "**2.3. Eliminando información irrelevante**"
   ]
  },
  {
   "cell_type": "code",
   "execution_count": 28,
   "id": "33452c1e",
   "metadata": {},
   "outputs": [
    {
     "data": {
      "text/html": [
       "<div>\n",
       "<style scoped>\n",
       "    .dataframe tbody tr th:only-of-type {\n",
       "        vertical-align: middle;\n",
       "    }\n",
       "\n",
       "    .dataframe tbody tr th {\n",
       "        vertical-align: top;\n",
       "    }\n",
       "\n",
       "    .dataframe thead th {\n",
       "        text-align: right;\n",
       "    }\n",
       "</style>\n",
       "<table border=\"1\" class=\"dataframe\">\n",
       "  <thead>\n",
       "    <tr style=\"text-align: right;\">\n",
       "      <th></th>\n",
       "      <th>review_en</th>\n",
       "      <th>review_es</th>\n",
       "      <th>sentiment</th>\n",
       "      <th>sentimiento</th>\n",
       "    </tr>\n",
       "  </thead>\n",
       "  <tbody>\n",
       "    <tr>\n",
       "      <th>0</th>\n",
       "      <td>One of the other reviewers has mentioned that ...</td>\n",
       "      <td>Uno de los otros críticos ha mencionado que de...</td>\n",
       "      <td>positive</td>\n",
       "      <td>positivo</td>\n",
       "    </tr>\n",
       "    <tr>\n",
       "      <th>1</th>\n",
       "      <td>A wonderful little production. The filming tec...</td>\n",
       "      <td>Una pequeña pequeña producción.La técnica de f...</td>\n",
       "      <td>positive</td>\n",
       "      <td>positivo</td>\n",
       "    </tr>\n",
       "    <tr>\n",
       "      <th>2</th>\n",
       "      <td>I thought this was a wonderful way to spend ti...</td>\n",
       "      <td>Pensé que esta era una manera maravillosa de p...</td>\n",
       "      <td>positive</td>\n",
       "      <td>positivo</td>\n",
       "    </tr>\n",
       "    <tr>\n",
       "      <th>3</th>\n",
       "      <td>Basically there's a family where a little boy ...</td>\n",
       "      <td>Básicamente, hay una familia donde un niño peq...</td>\n",
       "      <td>negative</td>\n",
       "      <td>negativo</td>\n",
       "    </tr>\n",
       "    <tr>\n",
       "      <th>4</th>\n",
       "      <td>Petter Mattei's \"Love in the Time of Money\" is...</td>\n",
       "      <td>El \"amor en el tiempo\" de Petter Mattei es una...</td>\n",
       "      <td>positive</td>\n",
       "      <td>positivo</td>\n",
       "    </tr>\n",
       "    <tr>\n",
       "      <th>...</th>\n",
       "      <td>...</td>\n",
       "      <td>...</td>\n",
       "      <td>...</td>\n",
       "      <td>...</td>\n",
       "    </tr>\n",
       "    <tr>\n",
       "      <th>49995</th>\n",
       "      <td>I thought this movie did a down right good job...</td>\n",
       "      <td>Pensé que esta película hizo un buen trabajo a...</td>\n",
       "      <td>positive</td>\n",
       "      <td>positivo</td>\n",
       "    </tr>\n",
       "    <tr>\n",
       "      <th>49996</th>\n",
       "      <td>Bad plot, bad dialogue, bad acting, idiotic di...</td>\n",
       "      <td>Mala parcela, mal diálogo, mala actuación, dir...</td>\n",
       "      <td>negative</td>\n",
       "      <td>negativo</td>\n",
       "    </tr>\n",
       "    <tr>\n",
       "      <th>49997</th>\n",
       "      <td>I am a Catholic taught in parochial elementary...</td>\n",
       "      <td>Soy católica enseñada en escuelas primarias pa...</td>\n",
       "      <td>negative</td>\n",
       "      <td>negativo</td>\n",
       "    </tr>\n",
       "    <tr>\n",
       "      <th>49998</th>\n",
       "      <td>I'm going to have to disagree with the previou...</td>\n",
       "      <td>Voy a tener que estar en desacuerdo con el com...</td>\n",
       "      <td>negative</td>\n",
       "      <td>negativo</td>\n",
       "    </tr>\n",
       "    <tr>\n",
       "      <th>49999</th>\n",
       "      <td>No one expects the Star Trek movies to be high...</td>\n",
       "      <td>Nadie espera que las películas de Star Trek se...</td>\n",
       "      <td>negative</td>\n",
       "      <td>negativo</td>\n",
       "    </tr>\n",
       "  </tbody>\n",
       "</table>\n",
       "<p>50000 rows × 4 columns</p>\n",
       "</div>"
      ],
      "text/plain": [
       "                                               review_en  \\\n",
       "0      One of the other reviewers has mentioned that ...   \n",
       "1      A wonderful little production. The filming tec...   \n",
       "2      I thought this was a wonderful way to spend ti...   \n",
       "3      Basically there's a family where a little boy ...   \n",
       "4      Petter Mattei's \"Love in the Time of Money\" is...   \n",
       "...                                                  ...   \n",
       "49995  I thought this movie did a down right good job...   \n",
       "49996  Bad plot, bad dialogue, bad acting, idiotic di...   \n",
       "49997  I am a Catholic taught in parochial elementary...   \n",
       "49998  I'm going to have to disagree with the previou...   \n",
       "49999  No one expects the Star Trek movies to be high...   \n",
       "\n",
       "                                               review_es sentiment sentimiento  \n",
       "0      Uno de los otros críticos ha mencionado que de...  positive    positivo  \n",
       "1      Una pequeña pequeña producción.La técnica de f...  positive    positivo  \n",
       "2      Pensé que esta era una manera maravillosa de p...  positive    positivo  \n",
       "3      Básicamente, hay una familia donde un niño peq...  negative    negativo  \n",
       "4      El \"amor en el tiempo\" de Petter Mattei es una...  positive    positivo  \n",
       "...                                                  ...       ...         ...  \n",
       "49995  Pensé que esta película hizo un buen trabajo a...  positive    positivo  \n",
       "49996  Mala parcela, mal diálogo, mala actuación, dir...  negative    negativo  \n",
       "49997  Soy católica enseñada en escuelas primarias pa...  negative    negativo  \n",
       "49998  Voy a tener que estar en desacuerdo con el com...  negative    negativo  \n",
       "49999  Nadie espera que las películas de Star Trek se...  negative    negativo  \n",
       "\n",
       "[50000 rows x 4 columns]"
      ]
     },
     "execution_count": 28,
     "metadata": {},
     "output_type": "execute_result"
    }
   ],
   "source": [
    "df_imdb = df_imdb.drop(columns=['Unnamed: 0' ])\n",
    "df_imdb"
   ]
  },
  {
   "cell_type": "markdown",
   "id": "73ad9f2b",
   "metadata": {},
   "source": [
    "### 3. Análisis univariante\n",
    "**3.1. Dividir el Dataset en categoricos y numericos**"
   ]
  },
  {
   "cell_type": "code",
   "execution_count": 29,
   "id": "aa742886",
   "metadata": {},
   "outputs": [
    {
     "data": {
      "text/html": [
       "<div>\n",
       "<style scoped>\n",
       "    .dataframe tbody tr th:only-of-type {\n",
       "        vertical-align: middle;\n",
       "    }\n",
       "\n",
       "    .dataframe tbody tr th {\n",
       "        vertical-align: top;\n",
       "    }\n",
       "\n",
       "    .dataframe thead th {\n",
       "        text-align: right;\n",
       "    }\n",
       "</style>\n",
       "<table border=\"1\" class=\"dataframe\">\n",
       "  <thead>\n",
       "    <tr style=\"text-align: right;\">\n",
       "      <th></th>\n",
       "      <th>review_en</th>\n",
       "      <th>review_es</th>\n",
       "      <th>sentiment</th>\n",
       "      <th>sentimiento</th>\n",
       "      <th>review_len_en</th>\n",
       "      <th>review_len_es</th>\n",
       "    </tr>\n",
       "  </thead>\n",
       "  <tbody>\n",
       "    <tr>\n",
       "      <th>0</th>\n",
       "      <td>One of the other reviewers has mentioned that ...</td>\n",
       "      <td>Uno de los otros críticos ha mencionado que de...</td>\n",
       "      <td>positive</td>\n",
       "      <td>positivo</td>\n",
       "      <td>1725</td>\n",
       "      <td>2004</td>\n",
       "    </tr>\n",
       "    <tr>\n",
       "      <th>1</th>\n",
       "      <td>A wonderful little production. The filming tec...</td>\n",
       "      <td>Una pequeña pequeña producción.La técnica de f...</td>\n",
       "      <td>positive</td>\n",
       "      <td>positivo</td>\n",
       "      <td>962</td>\n",
       "      <td>1061</td>\n",
       "    </tr>\n",
       "    <tr>\n",
       "      <th>2</th>\n",
       "      <td>I thought this was a wonderful way to spend ti...</td>\n",
       "      <td>Pensé que esta era una manera maravillosa de p...</td>\n",
       "      <td>positive</td>\n",
       "      <td>positivo</td>\n",
       "      <td>902</td>\n",
       "      <td>989</td>\n",
       "    </tr>\n",
       "    <tr>\n",
       "      <th>3</th>\n",
       "      <td>Basically there's a family where a little boy ...</td>\n",
       "      <td>Básicamente, hay una familia donde un niño peq...</td>\n",
       "      <td>negative</td>\n",
       "      <td>negativo</td>\n",
       "      <td>712</td>\n",
       "      <td>790</td>\n",
       "    </tr>\n",
       "    <tr>\n",
       "      <th>4</th>\n",
       "      <td>Petter Mattei's \"Love in the Time of Money\" is...</td>\n",
       "      <td>El \"amor en el tiempo\" de Petter Mattei es una...</td>\n",
       "      <td>positive</td>\n",
       "      <td>positivo</td>\n",
       "      <td>1269</td>\n",
       "      <td>1406</td>\n",
       "    </tr>\n",
       "  </tbody>\n",
       "</table>\n",
       "</div>"
      ],
      "text/plain": [
       "                                           review_en  \\\n",
       "0  One of the other reviewers has mentioned that ...   \n",
       "1  A wonderful little production. The filming tec...   \n",
       "2  I thought this was a wonderful way to spend ti...   \n",
       "3  Basically there's a family where a little boy ...   \n",
       "4  Petter Mattei's \"Love in the Time of Money\" is...   \n",
       "\n",
       "                                           review_es sentiment sentimiento  \\\n",
       "0  Uno de los otros críticos ha mencionado que de...  positive    positivo   \n",
       "1  Una pequeña pequeña producción.La técnica de f...  positive    positivo   \n",
       "2  Pensé que esta era una manera maravillosa de p...  positive    positivo   \n",
       "3  Básicamente, hay una familia donde un niño peq...  negative    negativo   \n",
       "4  El \"amor en el tiempo\" de Petter Mattei es una...  positive    positivo   \n",
       "\n",
       "   review_len_en  review_len_es  \n",
       "0           1725           2004  \n",
       "1            962           1061  \n",
       "2            902            989  \n",
       "3            712            790  \n",
       "4           1269           1406  "
      ]
     },
     "execution_count": 29,
     "metadata": {},
     "output_type": "execute_result"
    }
   ],
   "source": [
    "# Longitud de cada review en número de caracteres\n",
    "df_imdb['review_len_en'] = df_imdb['review_en'].str.len()\n",
    "df_imdb['review_len_es'] = df_imdb['review_es'].str.len()\n",
    "\n",
    "df_imdb.head()"
   ]
  },
  {
   "cell_type": "code",
   "execution_count": 30,
   "id": "e1c8a44c",
   "metadata": {},
   "outputs": [
    {
     "data": {
      "image/png": "[encoded data removed]",
      "text/plain": [
       "<Figure size 600x400 with 1 Axes>"
      ]
     },
     "metadata": {},
     "output_type": "display_data"
    },
    {
     "name": "stdout",
     "output_type": "stream",
     "text": [
      "sentimiento\n",
      "positivo    0.5\n",
      "negativo    0.5\n",
      "Name: proportion, dtype: float64\n"
     ]
    }
   ],
   "source": [
    "plt.figure(figsize=(6,4))\n",
    "sns.countplot(x='sentimiento', data=df_imdb)\n",
    "plt.title('Distribución de sentimiento (ES)')\n",
    "plt.show()\n",
    "\n",
    "print(df_imdb['sentimiento'].value_counts(normalize=True))"
   ]
  },
  {
   "cell_type": "markdown",
   "id": "b25f0c8d",
   "metadata": {},
   "source": [
    "* Solo es necesario ver la distribución de sentimiento de un idioma ya que es lo mismo y se ve que estan repartidos equitativamente"
   ]
  },
  {
   "cell_type": "markdown",
   "id": "14ef3ab1",
   "metadata": {},
   "source": [
    "### 5. Ingeniería de características\n",
    "\n",
    "**5.1. Analisis de outliers**"
   ]
  },
  {
   "cell_type": "code",
   "execution_count": 31,
   "id": "a183c03c",
   "metadata": {},
   "outputs": [
    {
     "data": {
      "image/png": "[encoded data removed]",
      "text/plain": [
       "<Figure size 1400x400 with 2 Axes>"
      ]
     },
     "metadata": {},
     "output_type": "display_data"
    },
    {
     "data": {
      "image/png": "[encoded data removed]",
      "text/plain": [
       "<Figure size 1400x200 with 2 Axes>"
      ]
     },
     "metadata": {},
     "output_type": "display_data"
    }
   ],
   "source": [
    "numerical_cols = ['review_len_en', 'review_len_es']\n",
    "\n",
    "n = len(numerical_cols)\n",
    "n_cols = 2\n",
    "n_rows = (n + 1) // 2\n",
    "\n",
    "fig, axes = plt.subplots(n_rows, n_cols, figsize=(14, 4*n_rows))\n",
    "axes = axes.flatten()\n",
    "\n",
    "for i, col in enumerate(numerical_cols):\n",
    "    sns.histplot(df_imdb[col], bins=50, kde=True, ax=axes[i])\n",
    "    axes[i].set_title(f'Histograma de {col}')\n",
    "\n",
    "plt.tight_layout()\n",
    "plt.show()\n",
    "\n",
    "# Boxplots\n",
    "fig, axes = plt.subplots(n_rows, n_cols, figsize=(14, 2*n_rows))\n",
    "axes = axes.flatten()\n",
    "\n",
    "for i, col in enumerate(numerical_cols):\n",
    "    sns.boxplot(x=df_imdb[col], ax=axes[i])\n",
    "    axes[i].set_title(f'Boxplot de {col}')\n",
    "\n",
    "plt.tight_layout()\n",
    "plt.show()"
   ]
  },
  {
   "cell_type": "markdown",
   "id": "b9ccbd2e",
   "metadata": {},
   "source": [
    "* Las longitud de las reseñas parecen estar concentradas en los 100 caracteres, por lo que hay muchas cortas y una gran variedad de reseñas largas que hacen outliers\n",
    "* Para proceder con el analisis de los textos se procedera a usar un limite por ejemplo 3500"
   ]
  },
  {
   "cell_type": "code",
   "execution_count": 32,
   "id": "59bea56a",
   "metadata": {},
   "outputs": [],
   "source": [
    "max_len = 3500\n",
    "df_imdb['review_en'] = df_imdb['review_en'].str[:max_len]\n",
    "df_imdb['review_es'] = df_imdb['review_es'].str[:max_len]"
   ]
  },
  {
   "cell_type": "markdown",
   "id": "c780b6e3",
   "metadata": {},
   "source": [
    "* Tambien se deben quitar las que sean demasiado cortas ya que no aporta mucha información"
   ]
  },
  {
   "cell_type": "code",
   "execution_count": 33,
   "id": "0b629d7a",
   "metadata": {},
   "outputs": [],
   "source": [
    "df_imdb = df_imdb[df_imdb['review_es'].str.split().str.len() > 5]\n",
    "df_imdb = df_imdb[df_imdb['review_en'].str.split().str.len() > 5]\n"
   ]
  },
  {
   "cell_type": "code",
   "execution_count": 34,
   "id": "1f5fcea9",
   "metadata": {},
   "outputs": [],
   "source": [
    "df_imdb['review_es'] = df_imdb['review_es'].str.strip().str.lower()\n",
    "df_imdb['review_en'] = df_imdb['review_en'].str.strip().str.lower()\n"
   ]
  },
  {
   "cell_type": "markdown",
   "id": "ad708fd3",
   "metadata": {},
   "source": [
    "**5.2. Dividir el train/test de marcos de datos**"
   ]
  },
  {
   "cell_type": "code",
   "execution_count": 35,
   "id": "97b306b4",
   "metadata": {},
   "outputs": [],
   "source": [
    "X = df_imdb['review_en'] \n",
    "y = df_imdb['sentimiento']  # positivo/negativo sera el target\n",
    "\n",
    "X_train, X_test, y_train, y_test = train_test_split(\n",
    "    X, y, test_size=0.2, stratify=y, random_state=42\n",
    ")"
   ]
  },
  {
   "cell_type": "markdown",
   "id": "5e3ee17a",
   "metadata": {},
   "source": [
    "### 6. Transformar el texto en matriz"
   ]
  },
  {
   "cell_type": "code",
   "execution_count": 36,
   "id": "af0a257e",
   "metadata": {},
   "outputs": [],
   "source": [
    "vec_model = CountVectorizer(stop_words = \"english\", max_features=5000)\n",
    "X_train_vec = vec_model.fit_transform(X_train)\n",
    "X_test_vec = vec_model.transform(X_test)"
   ]
  },
  {
   "cell_type": "markdown",
   "id": "d71da075",
   "metadata": {},
   "source": [
    "### 7. Contruir el naive bayes"
   ]
  },
  {
   "cell_type": "code",
   "execution_count": 37,
   "id": "4b6cd0de",
   "metadata": {},
   "outputs": [
    {
     "name": "stdout",
     "output_type": "stream",
     "text": [
      "Accuracy: 0.8468\n"
     ]
    }
   ],
   "source": [
    "model = MultinomialNB()\n",
    "model.fit(X_train_vec, y_train)\n",
    "y_pred = model.predict(X_test_vec)\n",
    "\n",
    "print(\"Accuracy:\", accuracy_score(y_test, y_pred))"
   ]
  },
  {
   "cell_type": "markdown",
   "id": "bafd49eb",
   "metadata": {},
   "source": [
    "### 8. Optimización del modelo"
   ]
  },
  {
   "cell_type": "code",
   "execution_count": 38,
   "id": "a982f822",
   "metadata": {},
   "outputs": [],
   "source": [
    "pipeline = Pipeline([\n",
    "    ('vectorizer', CountVectorizer(stop_words='english')),\n",
    "    ('nb', MultinomialNB())\n",
    "])\n",
    "\n",
    "hyperparams = {\n",
    "    'vectorizer__max_features': [1000, 2000, 3000, None],\n",
    "    'vectorizer__ngram_range': [(1,1), (1,2)],\n",
    "    'nb__alpha': np.linspace(0.1, 2.0, 20)\n",
    "}"
   ]
  },
  {
   "cell_type": "code",
   "execution_count": 39,
   "id": "400b7347",
   "metadata": {},
   "outputs": [
    {
     "data": {
      "text/plain": [
       "{'vectorizer__ngram_range': (1, 2),\n",
       " 'vectorizer__max_features': None,\n",
       " 'nb__alpha': np.float64(0.3)}"
      ]
     },
     "execution_count": 39,
     "metadata": {},
     "output_type": "execute_result"
    }
   ],
   "source": [
    "grid = RandomizedSearchCV(pipeline, hyperparams, scoring = \"accuracy\", n_iter = 20, random_state = 40)\n",
    "grid.fit(X_train, y_train)\n",
    "mejor_modelo = grid.best_estimator_\n",
    "\n",
    "grid.best_params_"
   ]
  },
  {
   "cell_type": "code",
   "execution_count": 40,
   "id": "e0ae7ac5",
   "metadata": {},
   "outputs": [
    {
     "name": "stdout",
     "output_type": "stream",
     "text": [
      "Accuracy: 0.8797\n",
      "\n",
      "Classification Report:\n",
      "               precision    recall  f1-score   support\n",
      "\n",
      "    negativo       0.87      0.89      0.88      5000\n",
      "    positivo       0.89      0.86      0.88      5000\n",
      "\n",
      "    accuracy                           0.88     10000\n",
      "   macro avg       0.88      0.88      0.88     10000\n",
      "weighted avg       0.88      0.88      0.88     10000\n",
      "\n"
     ]
    }
   ],
   "source": [
    "y_pred = mejor_modelo.predict(X_test)\n",
    "\n",
    "print(\"Accuracy:\", accuracy_score(y_test, y_pred))\n",
    "print(\"\\nClassification Report:\\n\", classification_report(y_test, y_pred))"
   ]
  },
  {
   "cell_type": "markdown",
   "id": "a9b95902",
   "metadata": {},
   "source": [
    "### 9. Guardar modelo"
   ]
  },
  {
   "cell_type": "code",
   "execution_count": 41,
   "id": "49e65a6f",
   "metadata": {},
   "outputs": [
    {
     "name": "stdout",
     "output_type": "stream",
     "text": [
      "Modelo guardado en: ../models/modelo_IMDB.pkl\n"
     ]
    }
   ],
   "source": [
    "ruta = \"../models/modelo_IMDB.pkl\"\n",
    "\n",
    "with open(ruta, \"wb\") as f:\n",
    "    pickle.dump(mejor_modelo, f)\n",
    "\n",
    "print(f\"Modelo guardado en: {ruta}\")"
   ]
  },
  {
   "cell_type": "markdown",
   "id": "3da2eacb",
   "metadata": {},
   "source": [
    "## aclIMDB dataset\n"
   ]
  },
  {
   "cell_type": "markdown",
   "id": "b24df9f9",
   "metadata": {},
   "source": [
    "### 1. Carga de información"
   ]
  },
  {
   "cell_type": "code",
   "execution_count": 42,
   "id": "9869182a",
   "metadata": {},
   "outputs": [],
   "source": [
    "train_texts, train_labels = ds.cargar_reseñas(\"../data/interim/feeling/aclImdb/train\") ##texto de reseñas // ETIQUETA para positivo y negativo\n",
    "test_texts, test_labels = ds.cargar_reseñas(\"../data/interim/feeling/aclImdb/test\")"
   ]
  },
  {
   "cell_type": "code",
   "execution_count": 43,
   "id": "cf20dc57",
   "metadata": {},
   "outputs": [
    {
     "data": {
      "text/html": [
       "<div>\n",
       "<style scoped>\n",
       "    .dataframe tbody tr th:only-of-type {\n",
       "        vertical-align: middle;\n",
       "    }\n",
       "\n",
       "    .dataframe tbody tr th {\n",
       "        vertical-align: top;\n",
       "    }\n",
       "\n",
       "    .dataframe thead th {\n",
       "        text-align: right;\n",
       "    }\n",
       "</style>\n",
       "<table border=\"1\" class=\"dataframe\">\n",
       "  <thead>\n",
       "    <tr style=\"text-align: right;\">\n",
       "      <th></th>\n",
       "      <th>review</th>\n",
       "      <th>polarity</th>\n",
       "    </tr>\n",
       "  </thead>\n",
       "  <tbody>\n",
       "    <tr>\n",
       "      <th>0</th>\n",
       "      <td>The scenes are fast-paced. the characters are ...</td>\n",
       "      <td>1</td>\n",
       "    </tr>\n",
       "    <tr>\n",
       "      <th>1</th>\n",
       "      <td>Why can't more directors these days create hor...</td>\n",
       "      <td>1</td>\n",
       "    </tr>\n",
       "    <tr>\n",
       "      <th>2</th>\n",
       "      <td>I've read countless of posts about this game b...</td>\n",
       "      <td>1</td>\n",
       "    </tr>\n",
       "    <tr>\n",
       "      <th>3</th>\n",
       "      <td>Maybe I loved this movie so much in part becau...</td>\n",
       "      <td>1</td>\n",
       "    </tr>\n",
       "    <tr>\n",
       "      <th>4</th>\n",
       "      <td>This is one of quite a few cartoons with Bugs ...</td>\n",
       "      <td>1</td>\n",
       "    </tr>\n",
       "  </tbody>\n",
       "</table>\n",
       "</div>"
      ],
      "text/plain": [
       "                                              review  polarity\n",
       "0  The scenes are fast-paced. the characters are ...         1\n",
       "1  Why can't more directors these days create hor...         1\n",
       "2  I've read countless of posts about this game b...         1\n",
       "3  Maybe I loved this movie so much in part becau...         1\n",
       "4  This is one of quite a few cartoons with Bugs ...         1"
      ]
     },
     "execution_count": 43,
     "metadata": {},
     "output_type": "execute_result"
    }
   ],
   "source": [
    "df_train = pd.DataFrame({\n",
    "    \"review\": train_texts,\n",
    "    \"polarity\": train_labels\n",
    "})\n",
    "\n",
    "df_test = pd.DataFrame({\n",
    "    \"review\": test_texts,\n",
    "    \"polarity\": test_labels\n",
    "})\n",
    "\n",
    "df_train.head()"
   ]
  },
  {
   "cell_type": "code",
   "execution_count": 44,
   "id": "7d9627af",
   "metadata": {},
   "outputs": [
    {
     "data": {
      "text/html": [
       "<div>\n",
       "<style scoped>\n",
       "    .dataframe tbody tr th:only-of-type {\n",
       "        vertical-align: middle;\n",
       "    }\n",
       "\n",
       "    .dataframe tbody tr th {\n",
       "        vertical-align: top;\n",
       "    }\n",
       "\n",
       "    .dataframe thead th {\n",
       "        text-align: right;\n",
       "    }\n",
       "</style>\n",
       "<table border=\"1\" class=\"dataframe\">\n",
       "  <thead>\n",
       "    <tr style=\"text-align: right;\">\n",
       "      <th></th>\n",
       "      <th>review</th>\n",
       "      <th>polarity</th>\n",
       "    </tr>\n",
       "  </thead>\n",
       "  <tbody>\n",
       "    <tr>\n",
       "      <th>0</th>\n",
       "      <td>Surely the best film directed by Claude Lelouc...</td>\n",
       "      <td>1</td>\n",
       "    </tr>\n",
       "    <tr>\n",
       "      <th>1</th>\n",
       "      <td>I own the miniseries on DVD because I love thi...</td>\n",
       "      <td>1</td>\n",
       "    </tr>\n",
       "    <tr>\n",
       "      <th>2</th>\n",
       "      <td>This film is about aging Geisha in post war To...</td>\n",
       "      <td>1</td>\n",
       "    </tr>\n",
       "    <tr>\n",
       "      <th>3</th>\n",
       "      <td>Murder Over New York is one of the better Chan...</td>\n",
       "      <td>1</td>\n",
       "    </tr>\n",
       "    <tr>\n",
       "      <th>4</th>\n",
       "      <td>It's exactly what I expected from it. Relaxing...</td>\n",
       "      <td>1</td>\n",
       "    </tr>\n",
       "  </tbody>\n",
       "</table>\n",
       "</div>"
      ],
      "text/plain": [
       "                                              review  polarity\n",
       "0  Surely the best film directed by Claude Lelouc...         1\n",
       "1  I own the miniseries on DVD because I love thi...         1\n",
       "2  This film is about aging Geisha in post war To...         1\n",
       "3  Murder Over New York is one of the better Chan...         1\n",
       "4  It's exactly what I expected from it. Relaxing...         1"
      ]
     },
     "execution_count": 44,
     "metadata": {},
     "output_type": "execute_result"
    }
   ],
   "source": [
    "df_test.head()"
   ]
  },
  {
   "cell_type": "markdown",
   "id": "1a672b30",
   "metadata": {},
   "source": [
    "### 2. Procesar texto y volver a separarlo"
   ]
  },
  {
   "cell_type": "code",
   "execution_count": 45,
   "id": "0cfacea4",
   "metadata": {},
   "outputs": [],
   "source": [
    "for df in [df_train, df_test]:\n",
    "    df[\"review\"] = df[\"review\"].str.strip().str.lower()\n",
    "\n",
    "#Esto por que ya estan en minusculas \n",
    "X_train = df_train[\"review\"]\n",
    "y_train = df_train[\"polarity\"]\n",
    "X_test = df_test[\"review\"]\n",
    "y_test = df_test[\"polarity\"]"
   ]
  },
  {
   "cell_type": "markdown",
   "id": "3ace3b1a",
   "metadata": {},
   "source": [
    "### 3. Transformar en matriz"
   ]
  },
  {
   "cell_type": "code",
   "execution_count": 46,
   "id": "3514dda1",
   "metadata": {},
   "outputs": [],
   "source": [
    "vec_model = CountVectorizer(stop_words=\"english\")\n",
    "X_train_vec = vec_model.fit_transform(X_train)\n",
    "X_test_vec = vec_model.transform(X_test)"
   ]
  },
  {
   "cell_type": "markdown",
   "id": "d6a46c2a",
   "metadata": {},
   "source": [
    "### 4. Contruir el naive bayes"
   ]
  },
  {
   "cell_type": "code",
   "execution_count": 47,
   "id": "eb35cb81",
   "metadata": {},
   "outputs": [
    {
     "name": "stdout",
     "output_type": "stream",
     "text": [
      "Naive Bayes Accuracy: 0.81968\n"
     ]
    }
   ],
   "source": [
    "nb_model = MultinomialNB()\n",
    "nb_model.fit(X_train_vec, y_train)\n",
    "\n",
    "y_pred_nb = nb_model.predict(X_test_vec)\n",
    "print(\"Naive Bayes Accuracy:\", accuracy_score(y_test, y_pred_nb))"
   ]
  },
  {
   "cell_type": "markdown",
   "id": "2ecb2a53",
   "metadata": {},
   "source": [
    "### 5. Optimización"
   ]
  },
  {
   "cell_type": "code",
   "execution_count": 48,
   "id": "7ad3b354",
   "metadata": {},
   "outputs": [],
   "source": [
    "def evaluar_modelo(model, X_train_vec, X_test_vec, y_train, y_test, nombre=\"Modelo\"):\n",
    "    model.fit(X_train_vec, y_train)\n",
    "    y_pred = model.predict(X_test_vec)\n",
    "    acc = accuracy_score(y_test, y_pred)\n",
    "    print(f\"{nombre} Accuracy: {acc:.5f}\")\n",
    "    return model, y_pred"
   ]
  },
  {
   "cell_type": "code",
   "execution_count": 49,
   "id": "872b8f11",
   "metadata": {},
   "outputs": [],
   "source": [
    "pipeline = Pipeline([\n",
    "    ('vectorizer', CountVectorizer(stop_words='english')),\n",
    "    ('nb', MultinomialNB())\n",
    "])\n",
    "\n",
    "hyperparams = {\n",
    "    'vectorizer__max_features': [1000, 2000, 3000, None],\n",
    "    'vectorizer__ngram_range': [(1,1), (1,2)],\n",
    "    'nb__alpha': np.linspace(0.1, 2.0, 20)\n",
    "}\n"
   ]
  },
  {
   "cell_type": "code",
   "execution_count": 50,
   "id": "cdfd74cd",
   "metadata": {},
   "outputs": [
    {
     "name": "stdout",
     "output_type": "stream",
     "text": [
      "Naive Bayes Accuracy: 0.81968\n"
     ]
    }
   ],
   "source": [
    "# Naive Bayes simple\n",
    "vec_model = CountVectorizer(stop_words=\"english\")\n",
    "X_train_vec = vec_model.fit_transform(X_train)\n",
    "X_test_vec  = vec_model.transform(X_test)\n",
    "\n",
    "nb_model = MultinomialNB()\n",
    "nb_model, y_pred_nb = evaluar_modelo(nb_model, X_train_vec, X_test_vec, y_train, y_test, \"Naive Bayes\")"
   ]
  },
  {
   "cell_type": "code",
   "execution_count": 51,
   "id": "4a7ea22a",
   "metadata": {},
   "outputs": [
    {
     "name": "stdout",
     "output_type": "stream",
     "text": [
      "Naive Bayes Optimizado Accuracy: 0.84056\n",
      "Mejores parámetros: {'vectorizer__ngram_range': (1, 2), 'vectorizer__max_features': None, 'nb__alpha': np.float64(0.7)}\n"
     ]
    }
   ],
   "source": [
    "# 5. Naive Bayes optimizado con Pipeline + RandomizedSearchCV\n",
    "pipeline = Pipeline([\n",
    "    ('vectorizer', CountVectorizer(stop_words='english')),\n",
    "    ('nb', MultinomialNB())\n",
    "])\n",
    "\n",
    "hyperparams = {\n",
    "    'vectorizer__max_features': [1000, 2000, 3000, None],\n",
    "    'vectorizer__ngram_range': [(1,1), (1,2)],\n",
    "    'nb__alpha': np.linspace(0.1, 2.0, 20)\n",
    "}\n",
    "\n",
    "grid = RandomizedSearchCV(pipeline, hyperparams, scoring=\"accuracy\", n_iter=20, random_state=42)\n",
    "grid.fit(X_train, y_train)\n",
    "\n",
    "best_nb_model = grid.best_estimator_\n",
    "y_pred_best_nb = best_nb_model.predict(X_test)\n",
    "\n",
    "print(\"Naive Bayes Optimizado Accuracy:\", accuracy_score(y_test, y_pred_best_nb))\n",
    "print(\"Mejores parámetros:\", grid.best_params_)"
   ]
  },
  {
   "cell_type": "code",
   "execution_count": 52,
   "id": "19504e0a",
   "metadata": {},
   "outputs": [
    {
     "name": "stdout",
     "output_type": "stream",
     "text": [
      "Logistic Regression Accuracy: 0.85864\n"
     ]
    }
   ],
   "source": [
    "#Logistic Regression\n",
    "log_model = LogisticRegression(max_iter=1000)\n",
    "log_model, y_pred_log = evaluar_modelo(log_model, X_train_vec, X_test_vec, y_train, y_test, \"Logistic Regression\")"
   ]
  },
  {
   "cell_type": "code",
   "execution_count": 53,
   "id": "87027fe3",
   "metadata": {},
   "outputs": [
    {
     "name": "stdout",
     "output_type": "stream",
     "text": [
      "Mejor modelo: Logistic Regression (0.85864)\n"
     ]
    }
   ],
   "source": [
    "acc_nb = accuracy_score(y_test, y_pred_best_nb)\n",
    "acc_log = accuracy_score(y_test, y_pred_log)\n",
    "\n",
    "if acc_log > acc_nb:\n",
    "    modelo_final = log_model\n",
    "    nombre_final = \"Logistic Regression\"\n",
    "else:\n",
    "    modelo_final = best_nb_model\n",
    "    nombre_final = \"Naive Bayes Optimizado\"\n",
    "\n",
    "print(f\"Mejor modelo: {nombre_final} ({max(acc_nb, acc_log):.5f})\")\n"
   ]
  },
  {
   "cell_type": "markdown",
   "id": "decde840",
   "metadata": {},
   "source": [
    "### 6. Guardar el modelo"
   ]
  },
  {
   "cell_type": "code",
   "execution_count": 54,
   "id": "34939bda",
   "metadata": {},
   "outputs": [
    {
     "name": "stdout",
     "output_type": "stream",
     "text": [
      "Modelo guardado en: ../models/modelo_aclImdb.pkl\n"
     ]
    }
   ],
   "source": [
    "ruta = \"../models/modelo_aclImdb.pkl\"\n",
    "\n",
    "with open(ruta, \"wb\") as f:\n",
    "    pickle.dump(mejor_modelo, f)\n",
    "\n",
    "print(f\"Modelo guardado en: {ruta}\")"
   ]
  },
  {
   "cell_type": "markdown",
   "id": "ea6b2137",
   "metadata": {},
   "source": [
    "## Apliación del dataset de Amazón para estudio"
   ]
  },
  {
   "cell_type": "markdown",
   "id": "e14da23c",
   "metadata": {},
   "source": [
    "**1. Cargar modelos**"
   ]
  },
  {
   "cell_type": "code",
   "execution_count": 55,
   "id": "f96ccf9f",
   "metadata": {},
   "outputs": [],
   "source": [
    "with open(\"../models/modelo_aclImdb.pkl\", \"rb\") as f:\n",
    "    modelo_acl_imdb = pickle.load(f)\n",
    "\n",
    "with open(\"../models/modelo_IMDB.pkl\", \"rb\") as f:\n",
    "    modelo_imdb_en = pickle.load(f)"
   ]
  },
  {
   "cell_type": "code",
   "execution_count": 62,
   "id": "fdc9e9e7",
   "metadata": {},
   "outputs": [
    {
     "data": {
      "text/html": [
       "<div>\n",
       "<style scoped>\n",
       "    .dataframe tbody tr th:only-of-type {\n",
       "        vertical-align: middle;\n",
       "    }\n",
       "\n",
       "    .dataframe tbody tr th {\n",
       "        vertical-align: top;\n",
       "    }\n",
       "\n",
       "    .dataframe thead th {\n",
       "        text-align: right;\n",
       "    }\n",
       "</style>\n",
       "<table border=\"1\" class=\"dataframe\">\n",
       "  <thead>\n",
       "    <tr style=\"text-align: right;\">\n",
       "      <th></th>\n",
       "      <th>productId</th>\n",
       "      <th>userId</th>\n",
       "      <th>profileName</th>\n",
       "      <th>helpfulness</th>\n",
       "      <th>score</th>\n",
       "      <th>time</th>\n",
       "      <th>summary</th>\n",
       "      <th>text</th>\n",
       "    </tr>\n",
       "  </thead>\n",
       "  <tbody>\n",
       "    <tr>\n",
       "      <th>0</th>\n",
       "      <td>B003AI2VGA</td>\n",
       "      <td>A141HP4LYPWMSR</td>\n",
       "      <td>Brian E. Erland \"Rainbow Sphinx\"</td>\n",
       "      <td>7/7</td>\n",
       "      <td>3.0</td>\n",
       "      <td>1182729600</td>\n",
       "      <td>\"There Is So Much Darkness Now ~ Come For The ...</td>\n",
       "      <td>Synopsis: On the daily trek from Juarez, Mexic...</td>\n",
       "    </tr>\n",
       "    <tr>\n",
       "      <th>1</th>\n",
       "      <td>B003AI2VGA</td>\n",
       "      <td>A328S9RN3U5M68</td>\n",
       "      <td>Grady Harp</td>\n",
       "      <td>4/4</td>\n",
       "      <td>3.0</td>\n",
       "      <td>1181952000</td>\n",
       "      <td>Worthwhile and Important Story Hampered by Poo...</td>\n",
       "      <td>THE VIRGIN OF JUAREZ is based on true events s...</td>\n",
       "    </tr>\n",
       "    <tr>\n",
       "      <th>2</th>\n",
       "      <td>B003AI2VGA</td>\n",
       "      <td>A1I7QGUDP043DG</td>\n",
       "      <td>Chrissy K. McVay \"Writer\"</td>\n",
       "      <td>8/10</td>\n",
       "      <td>5.0</td>\n",
       "      <td>1164844800</td>\n",
       "      <td>This movie needed to be made.</td>\n",
       "      <td>The scenes in this film can be very disquietin...</td>\n",
       "    </tr>\n",
       "    <tr>\n",
       "      <th>3</th>\n",
       "      <td>B003AI2VGA</td>\n",
       "      <td>A1M5405JH9THP9</td>\n",
       "      <td>golgotha.gov</td>\n",
       "      <td>1/1</td>\n",
       "      <td>3.0</td>\n",
       "      <td>1197158400</td>\n",
       "      <td>distantly based on a real tragedy</td>\n",
       "      <td>THE VIRGIN OF JUAREZ (2006)&lt;br /&gt;directed by K...</td>\n",
       "    </tr>\n",
       "    <tr>\n",
       "      <th>4</th>\n",
       "      <td>B003AI2VGA</td>\n",
       "      <td>ATXL536YX71TR</td>\n",
       "      <td>KerrLines \"&amp;#34;Movies,Music,Theatre&amp;#34;\"</td>\n",
       "      <td>1/1</td>\n",
       "      <td>3.0</td>\n",
       "      <td>1188345600</td>\n",
       "      <td>\"What's going on down in Juarez and shining a ...</td>\n",
       "      <td>Informationally, this SHOWTIME original is ess...</td>\n",
       "    </tr>\n",
       "  </tbody>\n",
       "</table>\n",
       "</div>"
      ],
      "text/plain": [
       "    productId          userId                                 profileName  \\\n",
       "0  B003AI2VGA  A141HP4LYPWMSR            Brian E. Erland \"Rainbow Sphinx\"   \n",
       "1  B003AI2VGA  A328S9RN3U5M68                                  Grady Harp   \n",
       "2  B003AI2VGA  A1I7QGUDP043DG                   Chrissy K. McVay \"Writer\"   \n",
       "3  B003AI2VGA  A1M5405JH9THP9                                golgotha.gov   \n",
       "4  B003AI2VGA   ATXL536YX71TR  KerrLines \"&#34;Movies,Music,Theatre&#34;\"   \n",
       "\n",
       "  helpfulness  score        time  \\\n",
       "0         7/7    3.0  1182729600   \n",
       "1         4/4    3.0  1181952000   \n",
       "2        8/10    5.0  1164844800   \n",
       "3         1/1    3.0  1197158400   \n",
       "4         1/1    3.0  1188345600   \n",
       "\n",
       "                                             summary  \\\n",
       "0  \"There Is So Much Darkness Now ~ Come For The ...   \n",
       "1  Worthwhile and Important Story Hampered by Poo...   \n",
       "2                      This movie needed to be made.   \n",
       "3                  distantly based on a real tragedy   \n",
       "4  \"What's going on down in Juarez and shining a ...   \n",
       "\n",
       "                                                text  \n",
       "0  Synopsis: On the daily trek from Juarez, Mexic...  \n",
       "1  THE VIRGIN OF JUAREZ is based on true events s...  \n",
       "2  The scenes in this film can be very disquietin...  \n",
       "3  THE VIRGIN OF JUAREZ (2006)<br />directed by K...  \n",
       "4  Informationally, this SHOWTIME original is ess...  "
      ]
     },
     "execution_count": 62,
     "metadata": {},
     "output_type": "execute_result"
    }
   ],
   "source": [
    "df_amazon = amazon_df.copy()\n",
    "df_amazon.head()"
   ]
  },
  {
   "cell_type": "markdown",
   "id": "f27f315a",
   "metadata": {},
   "source": [
    "* Se crean columnas usando los modelos creados"
   ]
  },
  {
   "cell_type": "code",
   "execution_count": null,
   "id": "110859ba",
   "metadata": {},
   "outputs": [
    {
     "name": "stdout",
     "output_type": "stream",
     "text": [
      "        avg_rating  avg_sentiment_amazon    n_reviews  avg_sentiment_imdb_es  \\\n",
      "count  1539.000000           1539.000000  1539.000000                 1539.0   \n",
      "mean      3.952616              0.718675    32.467836                    0.0   \n",
      "std       0.941729              0.310437    78.902432                    0.0   \n",
      "min       1.000000              0.000000     1.000000                    0.0   \n",
      "25%       3.500000              0.546700     2.000000                    0.0   \n",
      "50%       4.117647              0.823529     6.000000                    0.0   \n",
      "75%       4.642183              1.000000    24.000000                    0.0   \n",
      "max       5.000000              1.000000   669.000000                    0.0   \n",
      "\n",
      "       avg_sentiment_acl  \n",
      "count             1539.0  \n",
      "mean                 0.0  \n",
      "std                  0.0  \n",
      "min                  0.0  \n",
      "25%                  0.0  \n",
      "50%                  0.0  \n",
      "75%                  0.0  \n",
      "max                  0.0  \n"
     ]
    }
   ],
   "source": [
    "df_amazon['sentiment_imdb_es'] = modelo_imdb_en.predict(df_amazon['text'])\n",
    "df_amazon['sentiment_acl'] = modelo_acl_imdb.predict(df_amazon['text'])\n",
    "\n",
    "# pasarla entre positivo y negativo dependiendo del score\n",
    "df_amazon['sentiment_amazon'] = df_amazon['score'].apply(lambda x: 'positive' if x > 3 else 'negative')\n",
    "\n",
    "\n",
    "# Promedio de sentimiento predicho por modelo IMDB \n",
    "sentiment_score_imdb = df_amazon.groupby('productId')['sentiment_imdb_es'].apply(\n",
    "    lambda x: (x=='positive').mean()\n",
    ").reset_index(name='avg_sentiment_imdb_es')\n",
    "\n",
    "# Promedio de sentimiento predicho por ACL IMDB\n",
    "sentiment_score_acl = df_amazon.groupby('productId')['sentiment_acl'].apply(\n",
    "    lambda x: (x=='positive').mean()\n",
    ").reset_index(name='avg_sentiment_acl')\n",
    "\n",
    "# Promedio de rating / sentimiento de Amazon\n",
    "amazon_stats = df_amazon.groupby('productId').agg(\n",
    "    avg_rating=('score','mean'),\n",
    "    avg_sentiment_amazon=('sentiment_amazon', lambda x: (x=='positive').mean()),\n",
    "    n_reviews=('text','count')\n",
    ").reset_index()\n",
    "\n",
    "df_movie_features = amazon_stats.merge(sentiment_score_imdb, on='productId') \\\n",
    "                                .merge(sentiment_score_acl, on='productId')\n",
    "\n",
    "print(df_movie_features.describe())\n"
   ]
  },
  {
   "cell_type": "code",
   "execution_count": 58,
   "id": "eb4484d2",
   "metadata": {},
   "outputs": [
    {
     "data": {
      "text/html": [
       "<div>\n",
       "<style scoped>\n",
       "    .dataframe tbody tr th:only-of-type {\n",
       "        vertical-align: middle;\n",
       "    }\n",
       "\n",
       "    .dataframe tbody tr th {\n",
       "        vertical-align: top;\n",
       "    }\n",
       "\n",
       "    .dataframe thead th {\n",
       "        text-align: right;\n",
       "    }\n",
       "</style>\n",
       "<table border=\"1\" class=\"dataframe\">\n",
       "  <thead>\n",
       "    <tr style=\"text-align: right;\">\n",
       "      <th></th>\n",
       "      <th>productId</th>\n",
       "      <th>avg_rating</th>\n",
       "      <th>avg_sentiment_amazon</th>\n",
       "      <th>n_reviews</th>\n",
       "      <th>avg_sentiment_imdb_es</th>\n",
       "      <th>avg_sentiment_acl</th>\n",
       "    </tr>\n",
       "  </thead>\n",
       "  <tbody>\n",
       "    <tr>\n",
       "      <th>0</th>\n",
       "      <td>0310582792</td>\n",
       "      <td>5.000000</td>\n",
       "      <td>1.000000</td>\n",
       "      <td>1</td>\n",
       "      <td>0.0</td>\n",
       "      <td>0.0</td>\n",
       "    </tr>\n",
       "    <tr>\n",
       "      <th>1</th>\n",
       "      <td>073600193X</td>\n",
       "      <td>5.000000</td>\n",
       "      <td>1.000000</td>\n",
       "      <td>3</td>\n",
       "      <td>0.0</td>\n",
       "      <td>0.0</td>\n",
       "    </tr>\n",
       "    <tr>\n",
       "      <th>2</th>\n",
       "      <td>0764004492</td>\n",
       "      <td>4.333333</td>\n",
       "      <td>0.666667</td>\n",
       "      <td>3</td>\n",
       "      <td>0.0</td>\n",
       "      <td>0.0</td>\n",
       "    </tr>\n",
       "    <tr>\n",
       "      <th>3</th>\n",
       "      <td>0767002652</td>\n",
       "      <td>4.750000</td>\n",
       "      <td>0.916667</td>\n",
       "      <td>24</td>\n",
       "      <td>0.0</td>\n",
       "      <td>0.0</td>\n",
       "    </tr>\n",
       "    <tr>\n",
       "      <th>4</th>\n",
       "      <td>076780046X</td>\n",
       "      <td>4.609375</td>\n",
       "      <td>0.890625</td>\n",
       "      <td>64</td>\n",
       "      <td>0.0</td>\n",
       "      <td>0.0</td>\n",
       "    </tr>\n",
       "  </tbody>\n",
       "</table>\n",
       "</div>"
      ],
      "text/plain": [
       "    productId  avg_rating  avg_sentiment_amazon  n_reviews  \\\n",
       "0  0310582792    5.000000              1.000000          1   \n",
       "1  073600193X    5.000000              1.000000          3   \n",
       "2  0764004492    4.333333              0.666667          3   \n",
       "3  0767002652    4.750000              0.916667         24   \n",
       "4  076780046X    4.609375              0.890625         64   \n",
       "\n",
       "   avg_sentiment_imdb_es  avg_sentiment_acl  \n",
       "0                    0.0                0.0  \n",
       "1                    0.0                0.0  \n",
       "2                    0.0                0.0  \n",
       "3                    0.0                0.0  \n",
       "4                    0.0                0.0  "
      ]
     },
     "execution_count": 58,
     "metadata": {},
     "output_type": "execute_result"
    }
   ],
   "source": [
    "df_movie_features.head()"
   ]
  },
  {
   "cell_type": "code",
   "execution_count": null,
   "id": "0c058f65",
   "metadata": {},
   "outputs": [],
   "source": [
    "X_amazon = df_amazon['text']\n",
    "y_pred_imdb = modelo_imdb_en.predict(X_amazon)"
   ]
  },
  {
   "cell_type": "code",
   "execution_count": 60,
   "id": "a5e3f45e",
   "metadata": {},
   "outputs": [
    {
     "name": "stdout",
     "output_type": "stream",
     "text": [
      "{np.str_('negativo'): np.int64(14274), np.str_('positivo'): np.int64(35694)}\n"
     ]
    }
   ],
   "source": [
    "unique, counts = np.unique(y_pred_imdb, return_counts=True)\n",
    "print(dict(zip(unique, counts)))"
   ]
  },
  {
   "cell_type": "markdown",
   "id": "e473ecf6",
   "metadata": {},
   "source": [
    "* Uso de los modelos en la tabla de Amazon"
   ]
  },
  {
   "cell_type": "code",
   "execution_count": null,
   "id": "a7fc0d01",
   "metadata": {},
   "outputs": [],
   "source": [
    "df_amazon = amazon_df.copy()  \n",
    "\n",
    "df_amazon['sentiment_imdb_es'] = modelo_imdb_en.predict(df_amazon['text'])\n",
    "df_amazon['sentiment_acl'] = modelo_acl_imdb.predict(df_amazon['text'])"
   ]
  },
  {
   "cell_type": "code",
   "execution_count": 68,
   "id": "32dd5556",
   "metadata": {},
   "outputs": [
    {
     "data": {
      "text/html": [
       "<div>\n",
       "<style scoped>\n",
       "    .dataframe tbody tr th:only-of-type {\n",
       "        vertical-align: middle;\n",
       "    }\n",
       "\n",
       "    .dataframe tbody tr th {\n",
       "        vertical-align: top;\n",
       "    }\n",
       "\n",
       "    .dataframe thead th {\n",
       "        text-align: right;\n",
       "    }\n",
       "</style>\n",
       "<table border=\"1\" class=\"dataframe\">\n",
       "  <thead>\n",
       "    <tr style=\"text-align: right;\">\n",
       "      <th></th>\n",
       "      <th>productId</th>\n",
       "      <th>userId</th>\n",
       "      <th>profileName</th>\n",
       "      <th>helpfulness</th>\n",
       "      <th>score</th>\n",
       "      <th>time</th>\n",
       "      <th>summary</th>\n",
       "      <th>text</th>\n",
       "      <th>sentiment_imdb_es</th>\n",
       "      <th>sentiment_acl</th>\n",
       "    </tr>\n",
       "  </thead>\n",
       "  <tbody>\n",
       "    <tr>\n",
       "      <th>0</th>\n",
       "      <td>B003AI2VGA</td>\n",
       "      <td>A141HP4LYPWMSR</td>\n",
       "      <td>Brian E. Erland \"Rainbow Sphinx\"</td>\n",
       "      <td>7/7</td>\n",
       "      <td>3.0</td>\n",
       "      <td>1182729600</td>\n",
       "      <td>\"There Is So Much Darkness Now ~ Come For The ...</td>\n",
       "      <td>Synopsis: On the daily trek from Juarez, Mexic...</td>\n",
       "      <td>positivo</td>\n",
       "      <td>positivo</td>\n",
       "    </tr>\n",
       "    <tr>\n",
       "      <th>1</th>\n",
       "      <td>B003AI2VGA</td>\n",
       "      <td>A328S9RN3U5M68</td>\n",
       "      <td>Grady Harp</td>\n",
       "      <td>4/4</td>\n",
       "      <td>3.0</td>\n",
       "      <td>1181952000</td>\n",
       "      <td>Worthwhile and Important Story Hampered by Poo...</td>\n",
       "      <td>THE VIRGIN OF JUAREZ is based on true events s...</td>\n",
       "      <td>positivo</td>\n",
       "      <td>positivo</td>\n",
       "    </tr>\n",
       "    <tr>\n",
       "      <th>2</th>\n",
       "      <td>B003AI2VGA</td>\n",
       "      <td>A1I7QGUDP043DG</td>\n",
       "      <td>Chrissy K. McVay \"Writer\"</td>\n",
       "      <td>8/10</td>\n",
       "      <td>5.0</td>\n",
       "      <td>1164844800</td>\n",
       "      <td>This movie needed to be made.</td>\n",
       "      <td>The scenes in this film can be very disquietin...</td>\n",
       "      <td>positivo</td>\n",
       "      <td>positivo</td>\n",
       "    </tr>\n",
       "    <tr>\n",
       "      <th>3</th>\n",
       "      <td>B003AI2VGA</td>\n",
       "      <td>A1M5405JH9THP9</td>\n",
       "      <td>golgotha.gov</td>\n",
       "      <td>1/1</td>\n",
       "      <td>3.0</td>\n",
       "      <td>1197158400</td>\n",
       "      <td>distantly based on a real tragedy</td>\n",
       "      <td>THE VIRGIN OF JUAREZ (2006)&lt;br /&gt;directed by K...</td>\n",
       "      <td>positivo</td>\n",
       "      <td>positivo</td>\n",
       "    </tr>\n",
       "    <tr>\n",
       "      <th>4</th>\n",
       "      <td>B003AI2VGA</td>\n",
       "      <td>ATXL536YX71TR</td>\n",
       "      <td>KerrLines \"&amp;#34;Movies,Music,Theatre&amp;#34;\"</td>\n",
       "      <td>1/1</td>\n",
       "      <td>3.0</td>\n",
       "      <td>1188345600</td>\n",
       "      <td>\"What's going on down in Juarez and shining a ...</td>\n",
       "      <td>Informationally, this SHOWTIME original is ess...</td>\n",
       "      <td>positivo</td>\n",
       "      <td>positivo</td>\n",
       "    </tr>\n",
       "  </tbody>\n",
       "</table>\n",
       "</div>"
      ],
      "text/plain": [
       "    productId          userId                                 profileName  \\\n",
       "0  B003AI2VGA  A141HP4LYPWMSR            Brian E. Erland \"Rainbow Sphinx\"   \n",
       "1  B003AI2VGA  A328S9RN3U5M68                                  Grady Harp   \n",
       "2  B003AI2VGA  A1I7QGUDP043DG                   Chrissy K. McVay \"Writer\"   \n",
       "3  B003AI2VGA  A1M5405JH9THP9                                golgotha.gov   \n",
       "4  B003AI2VGA   ATXL536YX71TR  KerrLines \"&#34;Movies,Music,Theatre&#34;\"   \n",
       "\n",
       "  helpfulness  score        time  \\\n",
       "0         7/7    3.0  1182729600   \n",
       "1         4/4    3.0  1181952000   \n",
       "2        8/10    5.0  1164844800   \n",
       "3         1/1    3.0  1197158400   \n",
       "4         1/1    3.0  1188345600   \n",
       "\n",
       "                                             summary  \\\n",
       "0  \"There Is So Much Darkness Now ~ Come For The ...   \n",
       "1  Worthwhile and Important Story Hampered by Poo...   \n",
       "2                      This movie needed to be made.   \n",
       "3                  distantly based on a real tragedy   \n",
       "4  \"What's going on down in Juarez and shining a ...   \n",
       "\n",
       "                                                text sentiment_imdb_es  \\\n",
       "0  Synopsis: On the daily trek from Juarez, Mexic...          positivo   \n",
       "1  THE VIRGIN OF JUAREZ is based on true events s...          positivo   \n",
       "2  The scenes in this film can be very disquietin...          positivo   \n",
       "3  THE VIRGIN OF JUAREZ (2006)<br />directed by K...          positivo   \n",
       "4  Informationally, this SHOWTIME original is ess...          positivo   \n",
       "\n",
       "  sentiment_acl  \n",
       "0      positivo  \n",
       "1      positivo  \n",
       "2      positivo  \n",
       "3      positivo  \n",
       "4      positivo  "
      ]
     },
     "execution_count": 68,
     "metadata": {},
     "output_type": "execute_result"
    }
   ],
   "source": [
    "df_amazon.head()"
   ]
  },
  {
   "cell_type": "code",
   "execution_count": 71,
   "id": "8ad4bbc2",
   "metadata": {},
   "outputs": [
    {
     "data": {
      "text/html": [
       "<div>\n",
       "<style scoped>\n",
       "    .dataframe tbody tr th:only-of-type {\n",
       "        vertical-align: middle;\n",
       "    }\n",
       "\n",
       "    .dataframe tbody tr th {\n",
       "        vertical-align: top;\n",
       "    }\n",
       "\n",
       "    .dataframe thead th {\n",
       "        text-align: right;\n",
       "    }\n",
       "</style>\n",
       "<table border=\"1\" class=\"dataframe\">\n",
       "  <thead>\n",
       "    <tr style=\"text-align: right;\">\n",
       "      <th></th>\n",
       "      <th>productId</th>\n",
       "      <th>userId</th>\n",
       "      <th>profileName</th>\n",
       "      <th>helpfulness</th>\n",
       "      <th>score</th>\n",
       "      <th>time</th>\n",
       "      <th>summary</th>\n",
       "      <th>text</th>\n",
       "      <th>sentiment_imdb_es</th>\n",
       "      <th>sentiment_acl</th>\n",
       "      <th>sentiment_imdb_es_num</th>\n",
       "      <th>sentiment_acl_num</th>\n",
       "      <th>sentiment_amazon_num</th>\n",
       "    </tr>\n",
       "  </thead>\n",
       "  <tbody>\n",
       "    <tr>\n",
       "      <th>0</th>\n",
       "      <td>B003AI2VGA</td>\n",
       "      <td>A141HP4LYPWMSR</td>\n",
       "      <td>Brian E. Erland \"Rainbow Sphinx\"</td>\n",
       "      <td>7/7</td>\n",
       "      <td>3.0</td>\n",
       "      <td>1182729600</td>\n",
       "      <td>\"There Is So Much Darkness Now ~ Come For The ...</td>\n",
       "      <td>Synopsis: On the daily trek from Juarez, Mexic...</td>\n",
       "      <td>positivo</td>\n",
       "      <td>positivo</td>\n",
       "      <td>1</td>\n",
       "      <td>1</td>\n",
       "      <td>1</td>\n",
       "    </tr>\n",
       "    <tr>\n",
       "      <th>1</th>\n",
       "      <td>B003AI2VGA</td>\n",
       "      <td>A328S9RN3U5M68</td>\n",
       "      <td>Grady Harp</td>\n",
       "      <td>4/4</td>\n",
       "      <td>3.0</td>\n",
       "      <td>1181952000</td>\n",
       "      <td>Worthwhile and Important Story Hampered by Poo...</td>\n",
       "      <td>THE VIRGIN OF JUAREZ is based on true events s...</td>\n",
       "      <td>positivo</td>\n",
       "      <td>positivo</td>\n",
       "      <td>1</td>\n",
       "      <td>1</td>\n",
       "      <td>1</td>\n",
       "    </tr>\n",
       "    <tr>\n",
       "      <th>2</th>\n",
       "      <td>B003AI2VGA</td>\n",
       "      <td>A1I7QGUDP043DG</td>\n",
       "      <td>Chrissy K. McVay \"Writer\"</td>\n",
       "      <td>8/10</td>\n",
       "      <td>5.0</td>\n",
       "      <td>1164844800</td>\n",
       "      <td>This movie needed to be made.</td>\n",
       "      <td>The scenes in this film can be very disquietin...</td>\n",
       "      <td>positivo</td>\n",
       "      <td>positivo</td>\n",
       "      <td>1</td>\n",
       "      <td>1</td>\n",
       "      <td>1</td>\n",
       "    </tr>\n",
       "    <tr>\n",
       "      <th>3</th>\n",
       "      <td>B003AI2VGA</td>\n",
       "      <td>A1M5405JH9THP9</td>\n",
       "      <td>golgotha.gov</td>\n",
       "      <td>1/1</td>\n",
       "      <td>3.0</td>\n",
       "      <td>1197158400</td>\n",
       "      <td>distantly based on a real tragedy</td>\n",
       "      <td>THE VIRGIN OF JUAREZ (2006)&lt;br /&gt;directed by K...</td>\n",
       "      <td>positivo</td>\n",
       "      <td>positivo</td>\n",
       "      <td>1</td>\n",
       "      <td>1</td>\n",
       "      <td>1</td>\n",
       "    </tr>\n",
       "    <tr>\n",
       "      <th>4</th>\n",
       "      <td>B003AI2VGA</td>\n",
       "      <td>ATXL536YX71TR</td>\n",
       "      <td>KerrLines \"&amp;#34;Movies,Music,Theatre&amp;#34;\"</td>\n",
       "      <td>1/1</td>\n",
       "      <td>3.0</td>\n",
       "      <td>1188345600</td>\n",
       "      <td>\"What's going on down in Juarez and shining a ...</td>\n",
       "      <td>Informationally, this SHOWTIME original is ess...</td>\n",
       "      <td>positivo</td>\n",
       "      <td>positivo</td>\n",
       "      <td>1</td>\n",
       "      <td>1</td>\n",
       "      <td>1</td>\n",
       "    </tr>\n",
       "  </tbody>\n",
       "</table>\n",
       "</div>"
      ],
      "text/plain": [
       "    productId          userId                                 profileName  \\\n",
       "0  B003AI2VGA  A141HP4LYPWMSR            Brian E. Erland \"Rainbow Sphinx\"   \n",
       "1  B003AI2VGA  A328S9RN3U5M68                                  Grady Harp   \n",
       "2  B003AI2VGA  A1I7QGUDP043DG                   Chrissy K. McVay \"Writer\"   \n",
       "3  B003AI2VGA  A1M5405JH9THP9                                golgotha.gov   \n",
       "4  B003AI2VGA   ATXL536YX71TR  KerrLines \"&#34;Movies,Music,Theatre&#34;\"   \n",
       "\n",
       "  helpfulness  score        time  \\\n",
       "0         7/7    3.0  1182729600   \n",
       "1         4/4    3.0  1181952000   \n",
       "2        8/10    5.0  1164844800   \n",
       "3         1/1    3.0  1197158400   \n",
       "4         1/1    3.0  1188345600   \n",
       "\n",
       "                                             summary  \\\n",
       "0  \"There Is So Much Darkness Now ~ Come For The ...   \n",
       "1  Worthwhile and Important Story Hampered by Poo...   \n",
       "2                      This movie needed to be made.   \n",
       "3                  distantly based on a real tragedy   \n",
       "4  \"What's going on down in Juarez and shining a ...   \n",
       "\n",
       "                                                text sentiment_imdb_es  \\\n",
       "0  Synopsis: On the daily trek from Juarez, Mexic...          positivo   \n",
       "1  THE VIRGIN OF JUAREZ is based on true events s...          positivo   \n",
       "2  The scenes in this film can be very disquietin...          positivo   \n",
       "3  THE VIRGIN OF JUAREZ (2006)<br />directed by K...          positivo   \n",
       "4  Informationally, this SHOWTIME original is ess...          positivo   \n",
       "\n",
       "  sentiment_acl  sentiment_imdb_es_num  sentiment_acl_num  \\\n",
       "0      positivo                      1                  1   \n",
       "1      positivo                      1                  1   \n",
       "2      positivo                      1                  1   \n",
       "3      positivo                      1                  1   \n",
       "4      positivo                      1                  1   \n",
       "\n",
       "   sentiment_amazon_num  \n",
       "0                     1  \n",
       "1                     1  \n",
       "2                     1  \n",
       "3                     1  \n",
       "4                     1  "
      ]
     },
     "execution_count": 71,
     "metadata": {},
     "output_type": "execute_result"
    }
   ],
   "source": [
    "df_amazon['sentiment_imdb_es_num'] = df_amazon['sentiment_imdb_es'].map({'negativo':0, 'positivo':1})\n",
    "df_amazon['sentiment_acl_num'] = df_amazon['sentiment_acl'].map({'negativo':0, 'positivo':1})  \n",
    "df_amazon['sentiment_amazon_num'] = df_amazon['score'].apply(lambda x: 1 if x >= 3 else 0)  \n",
    "\n",
    "df_amazon.head()"
   ]
  },
  {
   "cell_type": "code",
   "execution_count": 73,
   "id": "f03aa5c3",
   "metadata": {},
   "outputs": [
    {
     "data": {
      "text/html": [
       "<div>\n",
       "<style scoped>\n",
       "    .dataframe tbody tr th:only-of-type {\n",
       "        vertical-align: middle;\n",
       "    }\n",
       "\n",
       "    .dataframe tbody tr th {\n",
       "        vertical-align: top;\n",
       "    }\n",
       "\n",
       "    .dataframe thead th {\n",
       "        text-align: right;\n",
       "    }\n",
       "</style>\n",
       "<table border=\"1\" class=\"dataframe\">\n",
       "  <thead>\n",
       "    <tr style=\"text-align: right;\">\n",
       "      <th></th>\n",
       "      <th>productId</th>\n",
       "      <th>avg_rating</th>\n",
       "      <th>avg_sentiment_amazon</th>\n",
       "      <th>avg_sentiment_imdb_es</th>\n",
       "      <th>avg_sentiment_acl</th>\n",
       "      <th>n_reviews</th>\n",
       "    </tr>\n",
       "  </thead>\n",
       "  <tbody>\n",
       "    <tr>\n",
       "      <th>0</th>\n",
       "      <td>0310582792</td>\n",
       "      <td>5.000000</td>\n",
       "      <td>1.0</td>\n",
       "      <td>1.000000</td>\n",
       "      <td>1.000000</td>\n",
       "      <td>1</td>\n",
       "    </tr>\n",
       "    <tr>\n",
       "      <th>1</th>\n",
       "      <td>073600193X</td>\n",
       "      <td>5.000000</td>\n",
       "      <td>1.0</td>\n",
       "      <td>0.333333</td>\n",
       "      <td>0.333333</td>\n",
       "      <td>3</td>\n",
       "    </tr>\n",
       "    <tr>\n",
       "      <th>2</th>\n",
       "      <td>0764004492</td>\n",
       "      <td>4.333333</td>\n",
       "      <td>1.0</td>\n",
       "      <td>0.333333</td>\n",
       "      <td>0.333333</td>\n",
       "      <td>3</td>\n",
       "    </tr>\n",
       "    <tr>\n",
       "      <th>3</th>\n",
       "      <td>0767002652</td>\n",
       "      <td>4.750000</td>\n",
       "      <td>1.0</td>\n",
       "      <td>1.000000</td>\n",
       "      <td>1.000000</td>\n",
       "      <td>24</td>\n",
       "    </tr>\n",
       "    <tr>\n",
       "      <th>4</th>\n",
       "      <td>076780046X</td>\n",
       "      <td>4.609375</td>\n",
       "      <td>1.0</td>\n",
       "      <td>0.937500</td>\n",
       "      <td>0.937500</td>\n",
       "      <td>64</td>\n",
       "    </tr>\n",
       "  </tbody>\n",
       "</table>\n",
       "</div>"
      ],
      "text/plain": [
       "    productId  avg_rating  avg_sentiment_amazon  avg_sentiment_imdb_es  \\\n",
       "0  0310582792    5.000000                   1.0               1.000000   \n",
       "1  073600193X    5.000000                   1.0               0.333333   \n",
       "2  0764004492    4.333333                   1.0               0.333333   \n",
       "3  0767002652    4.750000                   1.0               1.000000   \n",
       "4  076780046X    4.609375                   1.0               0.937500   \n",
       "\n",
       "   avg_sentiment_acl  n_reviews  \n",
       "0           1.000000          1  \n",
       "1           0.333333          3  \n",
       "2           0.333333          3  \n",
       "3           1.000000         24  \n",
       "4           0.937500         64  "
      ]
     },
     "execution_count": 73,
     "metadata": {},
     "output_type": "execute_result"
    }
   ],
   "source": [
    "# --- 4. Calcular métricas por producto/película ---\n",
    "df_movie_features = df_amazon.groupby('productId').agg(\n",
    "    avg_rating=('score','mean'),\n",
    "    avg_sentiment_amazon=('sentiment_amazon_num','mean'),\n",
    "    avg_sentiment_imdb_es=('sentiment_imdb_es_num','mean'),\n",
    "    avg_sentiment_acl=('sentiment_acl_num','mean'),\n",
    "    n_reviews=('text','count')\n",
    ").reset_index()\n",
    "\n",
    "\n",
    "df_movie_features.head()"
   ]
  },
  {
   "cell_type": "code",
   "execution_count": 74,
   "id": "e4131930",
   "metadata": {},
   "outputs": [
    {
     "name": "stdout",
     "output_type": "stream",
     "text": [
      "        avg_rating  avg_sentiment_amazon  avg_sentiment_imdb_es  \\\n",
      "count  1539.000000           1539.000000            1539.000000   \n",
      "mean      3.952616              0.842687               0.718825   \n",
      "std       0.941729              0.249386               0.317779   \n",
      "min       1.000000              0.000000               0.000000   \n",
      "25%       3.500000              0.793073               0.555556   \n",
      "50%       4.117647              0.961538               0.823529   \n",
      "75%       4.642183              1.000000               1.000000   \n",
      "max       5.000000              1.000000               1.000000   \n",
      "\n",
      "       avg_sentiment_acl    n_reviews  \n",
      "count        1539.000000  1539.000000  \n",
      "mean            0.718825    32.467836  \n",
      "std             0.317779    78.902432  \n",
      "min             0.000000     1.000000  \n",
      "25%             0.555556     2.000000  \n",
      "50%             0.823529     6.000000  \n",
      "75%             1.000000    24.000000  \n",
      "max             1.000000   669.000000  \n"
     ]
    }
   ],
   "source": [
    "\n",
    "print(df_movie_features.describe())"
   ]
  }
 ],
 "metadata": {
  "kernelspec": {
   "display_name": "Python 3",
   "language": "python",
   "name": "python3"
  },
  "language_info": {
   "codemirror_mode": {
    "name": "ipython",
    "version": 3
   },
   "file_extension": ".py",
   "mimetype": "text/x-python",
   "name": "python",
   "nbconvert_exporter": "python",
   "pygments_lexer": "ipython3",
   "version": "3.11.4"
  }
 },
 "nbformat": 4,
 "nbformat_minor": 5
}
