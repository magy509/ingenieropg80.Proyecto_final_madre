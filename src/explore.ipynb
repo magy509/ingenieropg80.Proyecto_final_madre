{
    "cells": [
        {
            "cell_type": "code",
            "execution_count": 3,
            "metadata": {},
            "outputs": [],
            "source": [
                "\n",
                "# Importación de librerías\n",
                "import pandas as pd\n",
                "import utils as eda\n",
                "import numpy as np\n",
                "import os\n",
                "import requests"
            ]
        },
        {
            "cell_type": "code",
            "execution_count": 41,
            "metadata": {},
            "outputs": [
                {
                    "name": "stdout",
                    "output_type": "stream",
                    "text": [
                        "<class 'pandas.core.frame.DataFrame'>\n",
                        "RangeIndex: 100000 entries, 0 to 99999\n",
                        "Data columns (total 48 columns):\n",
                        " #   Column                    Non-Null Count   Dtype  \n",
                        "---  ------                    --------------   -----  \n",
                        " 0   survey_code               100000 non-null  int64  \n",
                        " 1   age                       100000 non-null  int64  \n",
                        " 2   gender                    100000 non-null  object \n",
                        " 3   height                    100000 non-null  float64\n",
                        " 4   weight                    100000 non-null  float64\n",
                        " 5   bmi                       100000 non-null  float64\n",
                        " 6   bmi_estimated             100000 non-null  float64\n",
                        " 7   bmi_scaled                100000 non-null  float64\n",
                        " 8   bmi_corrected             100000 non-null  float64\n",
                        " 9   waist_size                100000 non-null  float64\n",
                        " 10  blood_pressure            92331 non-null   float64\n",
                        " 11  heart_rate                85997 non-null   float64\n",
                        " 12  cholesterol               100000 non-null  float64\n",
                        " 13  glucose                   100000 non-null  float64\n",
                        " 14  insulin                   84164 non-null   float64\n",
                        " 15  sleep_hours               100000 non-null  float64\n",
                        " 16  sleep_quality             100000 non-null  object \n",
                        " 17  work_hours                100000 non-null  float64\n",
                        " 18  physical_activity         100000 non-null  float64\n",
                        " 19  daily_steps               91671 non-null   float64\n",
                        " 20  calorie_intake            100000 non-null  float64\n",
                        " 21  sugar_intake              100000 non-null  float64\n",
                        " 22  alcohol_consumption       57613 non-null   object \n",
                        " 23  smoking_level             100000 non-null  object \n",
                        " 24  water_intake              100000 non-null  float64\n",
                        " 25  screen_time               100000 non-null  float64\n",
                        " 26  stress_level              100000 non-null  int64  \n",
                        " 27  mental_health_score       100000 non-null  int64  \n",
                        " 28  mental_health_support     100000 non-null  object \n",
                        " 29  education_level           100000 non-null  object \n",
                        " 30  job_type                  100000 non-null  object \n",
                        " 31  occupation                100000 non-null  object \n",
                        " 32  income                    91530 non-null   float64\n",
                        " 33  diet_type                 100000 non-null  object \n",
                        " 34  exercise_type             75031 non-null   object \n",
                        " 35  device_usage              100000 non-null  object \n",
                        " 36  healthcare_access         100000 non-null  object \n",
                        " 37  insurance                 100000 non-null  object \n",
                        " 38  sunlight_exposure         100000 non-null  object \n",
                        " 39  meals_per_day             100000 non-null  int64  \n",
                        " 40  caffeine_intake           66739 non-null   object \n",
                        " 41  family_history            100000 non-null  object \n",
                        " 42  pet_owner                 100000 non-null  object \n",
                        " 43  electrolyte_level         100000 non-null  int64  \n",
                        " 44  gene_marker_flag          89526 non-null   float64\n",
                        " 45  environmental_risk_score  100000 non-null  float64\n",
                        " 46  daily_supplement_dosage   100000 non-null  float64\n",
                        " 47  target                    100000 non-null  object \n",
                        "dtypes: float64(24), int64(6), object(18)\n",
                        "memory usage: 36.6+ MB\n"
                    ]
                }
            ],
            "source": [
                "# Cargar el archivo CSV\n",
                "df = pd.read_csv(\"../data/health_lifestyle_classification.csv\")  # Ajusta el nombre del archivo según corresponda\n",
                "\n",
                "# Vista rápida de los datos\n",
                "df.head()\n",
                "df.info()"
            ]
        },
        {
            "cell_type": "code",
            "execution_count": null,
            "metadata": {},
            "outputs": [],
            "source": []
        },
        {
            "cell_type": "code",
            "execution_count": 42,
            "metadata": {},
            "outputs": [
                {
                    "ename": "AttributeError",
                    "evalue": "module 'utils' has no attribute 'blancos'",
                    "output_type": "error",
                    "traceback": [
                        "\u001b[31m---------------------------------------------------------------------------\u001b[39m",
                        "\u001b[31mAttributeError\u001b[39m                            Traceback (most recent call last)",
                        "\u001b[36mCell\u001b[39m\u001b[36m \u001b[39m\u001b[32mIn[42]\u001b[39m\u001b[32m, line 1\u001b[39m\n\u001b[32m----> \u001b[39m\u001b[32m1\u001b[39m \u001b[43meda\u001b[49m\u001b[43m.\u001b[49m\u001b[43mblancos\u001b[49m(df)\n",
                        "\u001b[31mAttributeError\u001b[39m: module 'utils' has no attribute 'blancos'"
                    ]
                }
            ],
            "source": [
                "eda.blancos(df)"
            ]
        }
    ],
    "metadata": {
        "kernelspec": {
            "display_name": "Python 3",
            "language": "python",
            "name": "python3"
        },
        "language_info": {
            "codemirror_mode": {
                "name": "ipython",
                "version": 3
            },
            "file_extension": ".py",
            "mimetype": "text/x-python",
            "name": "python",
            "nbconvert_exporter": "python",
            "pygments_lexer": "ipython3",
            "version": "3.11.4"
        },
        "orig_nbformat": 4
    },
    "nbformat": 4,
    "nbformat_minor": 2
}
