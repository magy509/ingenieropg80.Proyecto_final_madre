{
 "cells": [
  {
   "cell_type": "markdown",
   "id": "c0728981",
   "metadata": {},
   "source": [
    "## Requerimientos"
   ]
  },
  {
   "cell_type": "code",
   "execution_count": 5,
   "id": "070249af",
   "metadata": {},
   "outputs": [
    {
     "name": "stdout",
     "output_type": "stream",
     "text": [
      "Defaulting to user installation because normal site-packages is not writeable\n",
      "Requirement already satisfied: ipyleaflet>=0.14.0 in /home/vscode/.local/lib/python3.11/site-packages (from -r ../requirements.txt (line 1)) (0.20.0)\n",
      "Requirement already satisfied: ipywidgets>=7.7.1 in /home/vscode/.local/lib/python3.11/site-packages (from -r ../requirements.txt (line 2)) (8.1.7)\n",
      "Requirement already satisfied: matplotlib>=3.7.0 in /home/vscode/.local/lib/python3.11/site-packages (from -r ../requirements.txt (line 3)) (3.10.6)\n",
      "Requirement already satisfied: numpy>=1.24.2 in /home/vscode/.local/lib/python3.11/site-packages (from -r ../requirements.txt (line 4)) (2.2.6)\n",
      "Requirement already satisfied: opencv-python>=4.1.2 in /home/vscode/.local/lib/python3.11/site-packages (from -r ../requirements.txt (line 5)) (4.12.0.88)\n",
      "Requirement already satisfied: pandas>=1.5.3 in /home/vscode/.local/lib/python3.11/site-packages (from -r ../requirements.txt (line 6)) (2.3.2)\n",
      "Requirement already satisfied: psycopg2-binary>=2.9.3 in /home/vscode/.local/lib/python3.11/site-packages (from -r ../requirements.txt (line 7)) (2.9.10)\n",
      "Requirement already satisfied: pymysql>=1.0.2 in /home/vscode/.local/lib/python3.11/site-packages (from -r ../requirements.txt (line 8)) (1.1.2)\n",
      "Requirement already satisfied: python-dotenv>=0.20.0 in /home/vscode/.local/lib/python3.11/site-packages (from -r ../requirements.txt (line 9)) (1.1.1)\n",
      "Requirement already satisfied: requests>=2.27.1 in /home/vscode/.local/lib/python3.11/site-packages (from -r ../requirements.txt (line 10)) (2.32.5)\n",
      "Requirement already satisfied: scikit-learn in /home/vscode/.local/lib/python3.11/site-packages (from -r ../requirements.txt (line 11)) (1.7.1)\n",
      "Requirement already satisfied: seaborn>=0.12.2 in /home/vscode/.local/lib/python3.11/site-packages (from -r ../requirements.txt (line 12)) (0.13.2)\n",
      "Requirement already satisfied: sqlalchemy>=2.0.38 in /home/vscode/.local/lib/python3.11/site-packages (from -r ../requirements.txt (line 13)) (2.0.43)\n",
      "Requirement already satisfied: sympy>=1.10.1 in /home/vscode/.local/lib/python3.11/site-packages (from -r ../requirements.txt (line 14)) (1.14.0)\n",
      "Requirement already satisfied: xgboost in /home/vscode/.local/lib/python3.11/site-packages (from -r ../requirements.txt (line 15)) (3.0.5)\n",
      "Requirement already satisfied: kaggle in /home/vscode/.local/lib/python3.11/site-packages (from -r ../requirements.txt (line 16)) (1.7.4.5)\n",
      "Requirement already satisfied: branca>=0.5.0 in /home/vscode/.local/lib/python3.11/site-packages (from ipyleaflet>=0.14.0->-r ../requirements.txt (line 1)) (0.8.1)\n",
      "Requirement already satisfied: jupyter-leaflet<0.21,>=0.20 in /home/vscode/.local/lib/python3.11/site-packages (from ipyleaflet>=0.14.0->-r ../requirements.txt (line 1)) (0.20.0)\n",
      "Requirement already satisfied: traittypes<3,>=0.2.1 in /home/vscode/.local/lib/python3.11/site-packages (from ipyleaflet>=0.14.0->-r ../requirements.txt (line 1)) (0.2.1)\n",
      "Requirement already satisfied: xyzservices>=2021.8.1 in /home/vscode/.local/lib/python3.11/site-packages (from ipyleaflet>=0.14.0->-r ../requirements.txt (line 1)) (2025.4.0)\n",
      "Requirement already satisfied: comm>=0.1.3 in /home/vscode/.local/lib/python3.11/site-packages (from ipywidgets>=7.7.1->-r ../requirements.txt (line 2)) (0.2.3)\n",
      "Requirement already satisfied: ipython>=6.1.0 in /home/vscode/.local/lib/python3.11/site-packages (from ipywidgets>=7.7.1->-r ../requirements.txt (line 2)) (9.5.0)\n",
      "Requirement already satisfied: traitlets>=4.3.1 in /home/vscode/.local/lib/python3.11/site-packages (from ipywidgets>=7.7.1->-r ../requirements.txt (line 2)) (5.14.3)\n",
      "Requirement already satisfied: widgetsnbextension~=4.0.14 in /home/vscode/.local/lib/python3.11/site-packages (from ipywidgets>=7.7.1->-r ../requirements.txt (line 2)) (4.0.14)\n",
      "Requirement already satisfied: jupyterlab_widgets~=3.0.15 in /home/vscode/.local/lib/python3.11/site-packages (from ipywidgets>=7.7.1->-r ../requirements.txt (line 2)) (3.0.15)\n",
      "Requirement already satisfied: contourpy>=1.0.1 in /home/vscode/.local/lib/python3.11/site-packages (from matplotlib>=3.7.0->-r ../requirements.txt (line 3)) (1.3.3)\n",
      "Requirement already satisfied: cycler>=0.10 in /home/vscode/.local/lib/python3.11/site-packages (from matplotlib>=3.7.0->-r ../requirements.txt (line 3)) (0.12.1)\n",
      "Requirement already satisfied: fonttools>=4.22.0 in /home/vscode/.local/lib/python3.11/site-packages (from matplotlib>=3.7.0->-r ../requirements.txt (line 3)) (4.59.2)\n",
      "Requirement already satisfied: kiwisolver>=1.3.1 in /home/vscode/.local/lib/python3.11/site-packages (from matplotlib>=3.7.0->-r ../requirements.txt (line 3)) (1.4.9)\n",
      "Requirement already satisfied: packaging>=20.0 in /home/vscode/.local/lib/python3.11/site-packages (from matplotlib>=3.7.0->-r ../requirements.txt (line 3)) (25.0)\n",
      "Requirement already satisfied: pillow>=8 in /home/vscode/.local/lib/python3.11/site-packages (from matplotlib>=3.7.0->-r ../requirements.txt (line 3)) (11.3.0)\n",
      "Requirement already satisfied: pyparsing>=2.3.1 in /home/vscode/.local/lib/python3.11/site-packages (from matplotlib>=3.7.0->-r ../requirements.txt (line 3)) (3.2.3)\n",
      "Requirement already satisfied: python-dateutil>=2.7 in /home/vscode/.local/lib/python3.11/site-packages (from matplotlib>=3.7.0->-r ../requirements.txt (line 3)) (2.9.0.post0)\n",
      "Requirement already satisfied: pytz>=2020.1 in /home/vscode/.local/lib/python3.11/site-packages (from pandas>=1.5.3->-r ../requirements.txt (line 6)) (2025.2)\n",
      "Requirement already satisfied: tzdata>=2022.7 in /home/vscode/.local/lib/python3.11/site-packages (from pandas>=1.5.3->-r ../requirements.txt (line 6)) (2025.2)\n",
      "Requirement already satisfied: charset_normalizer<4,>=2 in /home/vscode/.local/lib/python3.11/site-packages (from requests>=2.27.1->-r ../requirements.txt (line 10)) (3.4.3)\n",
      "Requirement already satisfied: idna<4,>=2.5 in /home/vscode/.local/lib/python3.11/site-packages (from requests>=2.27.1->-r ../requirements.txt (line 10)) (3.10)\n",
      "Requirement already satisfied: urllib3<3,>=1.21.1 in /home/vscode/.local/lib/python3.11/site-packages (from requests>=2.27.1->-r ../requirements.txt (line 10)) (2.5.0)\n",
      "Requirement already satisfied: certifi>=2017.4.17 in /home/vscode/.local/lib/python3.11/site-packages (from requests>=2.27.1->-r ../requirements.txt (line 10)) (2025.8.3)\n",
      "Requirement already satisfied: scipy>=1.8.0 in /home/vscode/.local/lib/python3.11/site-packages (from scikit-learn->-r ../requirements.txt (line 11)) (1.16.1)\n",
      "Requirement already satisfied: joblib>=1.2.0 in /home/vscode/.local/lib/python3.11/site-packages (from scikit-learn->-r ../requirements.txt (line 11)) (1.5.2)\n",
      "Requirement already satisfied: threadpoolctl>=3.1.0 in /home/vscode/.local/lib/python3.11/site-packages (from scikit-learn->-r ../requirements.txt (line 11)) (3.6.0)\n",
      "Requirement already satisfied: greenlet>=1 in /home/vscode/.local/lib/python3.11/site-packages (from sqlalchemy>=2.0.38->-r ../requirements.txt (line 13)) (3.2.4)\n",
      "Requirement already satisfied: typing-extensions>=4.6.0 in /home/vscode/.local/lib/python3.11/site-packages (from sqlalchemy>=2.0.38->-r ../requirements.txt (line 13)) (4.15.0)\n",
      "Requirement already satisfied: mpmath<1.4,>=1.1.0 in /home/vscode/.local/lib/python3.11/site-packages (from sympy>=1.10.1->-r ../requirements.txt (line 14)) (1.3.0)\n",
      "Requirement already satisfied: nvidia-nccl-cu12 in /home/vscode/.local/lib/python3.11/site-packages (from xgboost->-r ../requirements.txt (line 15)) (2.28.3)\n",
      "Requirement already satisfied: bleach in /home/vscode/.local/lib/python3.11/site-packages (from kaggle->-r ../requirements.txt (line 16)) (6.2.0)\n",
      "Requirement already satisfied: protobuf in /home/vscode/.local/lib/python3.11/site-packages (from kaggle->-r ../requirements.txt (line 16)) (6.32.0)\n",
      "Requirement already satisfied: python-slugify in /home/vscode/.local/lib/python3.11/site-packages (from kaggle->-r ../requirements.txt (line 16)) (8.0.4)\n",
      "Requirement already satisfied: setuptools>=21.0.0 in /usr/local/lib/python3.11/site-packages (from kaggle->-r ../requirements.txt (line 16)) (67.8.0)\n",
      "Requirement already satisfied: six>=1.10 in /home/vscode/.local/lib/python3.11/site-packages (from kaggle->-r ../requirements.txt (line 16)) (1.17.0)\n",
      "Requirement already satisfied: text-unidecode in /home/vscode/.local/lib/python3.11/site-packages (from kaggle->-r ../requirements.txt (line 16)) (1.3)\n",
      "Requirement already satisfied: tqdm in /home/vscode/.local/lib/python3.11/site-packages (from kaggle->-r ../requirements.txt (line 16)) (4.67.1)\n",
      "Requirement already satisfied: webencodings in /home/vscode/.local/lib/python3.11/site-packages (from kaggle->-r ../requirements.txt (line 16)) (0.5.1)\n",
      "Requirement already satisfied: jinja2>=3 in /home/vscode/.local/lib/python3.11/site-packages (from branca>=0.5.0->ipyleaflet>=0.14.0->-r ../requirements.txt (line 1)) (3.1.6)\n",
      "Requirement already satisfied: decorator in /home/vscode/.local/lib/python3.11/site-packages (from ipython>=6.1.0->ipywidgets>=7.7.1->-r ../requirements.txt (line 2)) (5.2.1)\n",
      "Requirement already satisfied: ipython-pygments-lexers in /home/vscode/.local/lib/python3.11/site-packages (from ipython>=6.1.0->ipywidgets>=7.7.1->-r ../requirements.txt (line 2)) (1.1.1)\n",
      "Requirement already satisfied: jedi>=0.16 in /home/vscode/.local/lib/python3.11/site-packages (from ipython>=6.1.0->ipywidgets>=7.7.1->-r ../requirements.txt (line 2)) (0.19.2)\n",
      "Requirement already satisfied: matplotlib-inline in /home/vscode/.local/lib/python3.11/site-packages (from ipython>=6.1.0->ipywidgets>=7.7.1->-r ../requirements.txt (line 2)) (0.1.7)\n",
      "Requirement already satisfied: pexpect>4.3 in /home/vscode/.local/lib/python3.11/site-packages (from ipython>=6.1.0->ipywidgets>=7.7.1->-r ../requirements.txt (line 2)) (4.9.0)\n",
      "Requirement already satisfied: prompt_toolkit<3.1.0,>=3.0.41 in /home/vscode/.local/lib/python3.11/site-packages (from ipython>=6.1.0->ipywidgets>=7.7.1->-r ../requirements.txt (line 2)) (3.0.52)\n",
      "Requirement already satisfied: pygments>=2.4.0 in /home/vscode/.local/lib/python3.11/site-packages (from ipython>=6.1.0->ipywidgets>=7.7.1->-r ../requirements.txt (line 2)) (2.19.2)\n",
      "Requirement already satisfied: stack_data in /home/vscode/.local/lib/python3.11/site-packages (from ipython>=6.1.0->ipywidgets>=7.7.1->-r ../requirements.txt (line 2)) (0.6.3)\n",
      "Requirement already satisfied: parso<0.9.0,>=0.8.4 in /home/vscode/.local/lib/python3.11/site-packages (from jedi>=0.16->ipython>=6.1.0->ipywidgets>=7.7.1->-r ../requirements.txt (line 2)) (0.8.5)\n",
      "Requirement already satisfied: MarkupSafe>=2.0 in /home/vscode/.local/lib/python3.11/site-packages (from jinja2>=3->branca>=0.5.0->ipyleaflet>=0.14.0->-r ../requirements.txt (line 1)) (3.0.2)\n",
      "Requirement already satisfied: ptyprocess>=0.5 in /home/vscode/.local/lib/python3.11/site-packages (from pexpect>4.3->ipython>=6.1.0->ipywidgets>=7.7.1->-r ../requirements.txt (line 2)) (0.7.0)\n",
      "Requirement already satisfied: wcwidth in /home/vscode/.local/lib/python3.11/site-packages (from prompt_toolkit<3.1.0,>=3.0.41->ipython>=6.1.0->ipywidgets>=7.7.1->-r ../requirements.txt (line 2)) (0.2.13)\n",
      "Requirement already satisfied: executing>=1.2.0 in /home/vscode/.local/lib/python3.11/site-packages (from stack_data->ipython>=6.1.0->ipywidgets>=7.7.1->-r ../requirements.txt (line 2)) (2.2.1)\n",
      "Requirement already satisfied: asttokens>=2.1.0 in /home/vscode/.local/lib/python3.11/site-packages (from stack_data->ipython>=6.1.0->ipywidgets>=7.7.1->-r ../requirements.txt (line 2)) (3.0.0)\n",
      "Requirement already satisfied: pure-eval in /home/vscode/.local/lib/python3.11/site-packages (from stack_data->ipython>=6.1.0->ipywidgets>=7.7.1->-r ../requirements.txt (line 2)) (0.2.3)\n",
      "\n",
      "\u001b[1m[\u001b[0m\u001b[34;49mnotice\u001b[0m\u001b[1;39;49m]\u001b[0m\u001b[39;49m A new release of pip is available: \u001b[0m\u001b[31;49m23.1.2\u001b[0m\u001b[39;49m -> \u001b[0m\u001b[32;49m25.2\u001b[0m\n",
      "\u001b[1m[\u001b[0m\u001b[34;49mnotice\u001b[0m\u001b[1;39;49m]\u001b[0m\u001b[39;49m To update, run: \u001b[0m\u001b[32;49mpip install --upgrade pip\u001b[0m\n"
     ]
    }
   ],
   "source": [
    "! pip install -r ../requirements.txt"
   ]
  },
  {
   "cell_type": "code",
   "execution_count": 6,
   "id": "500d65f3",
   "metadata": {},
   "outputs": [],
   "source": [
    "import requests, zipfile, io, os\n",
    "import tarfile\n",
    "import pandas as pd\n",
    "import time\n",
    "from bs4 import BeautifulSoup"
   ]
  },
  {
   "cell_type": "markdown",
   "id": "d6c17595",
   "metadata": {},
   "source": [
    "## Datasets de peliculas y datos de reseñas y etiquetas"
   ]
  },
  {
   "cell_type": "code",
   "execution_count": 7,
   "id": "585c0ee3",
   "metadata": {},
   "outputs": [],
   "source": [
    "url = \"https://files.grouplens.org/datasets/movielens/ml-32m.zip\"\n",
    "response = requests.get(url)\n",
    "response.raise_for_status()\n",
    "\n",
    "with zipfile.ZipFile(io.BytesIO(response.content)) as z:\n",
    "    z.extractall(\"../data/interim/movies-data\")"
   ]
  },
  {
   "cell_type": "markdown",
   "id": "fbb336da",
   "metadata": {},
   "source": [
    "## Información referente a comentarios de sentimientos, estos deben asociarse a peliculas "
   ]
  },
  {
   "cell_type": "code",
   "execution_count": 8,
   "id": "3080f614",
   "metadata": {},
   "outputs": [],
   "source": [
    "enlace = \"https://ai.stanford.edu/~amaas/data/sentiment/aclImdb_v1.tar.gz\"\n",
    "response = requests.get(enlace)\n",
    "response.raise_for_status()\n",
    "\n",
    "\n",
    "with tarfile.open(fileobj=io.BytesIO(response.content), mode=\"r:gz\") as tar:\n",
    "    tar.extractall(path=\"../data/interim/feeling\")"
   ]
  },
  {
   "cell_type": "markdown",
   "id": "07c93800",
   "metadata": {},
   "source": [
    "## Otro sitio de peliculas\n",
    "\n",
    "Este servira mas para mostrar datos o complementar los de una pelicula que ya tengamos en el dataset principal, lo que se muestra es un ejemplo "
   ]
  },
  {
   "cell_type": "code",
   "execution_count": 9,
   "id": "ac23fee4",
   "metadata": {},
   "outputs": [
    {
     "name": "stdout",
     "output_type": "stream",
     "text": [
      "Título: Toy Story\n",
      "Año: 1995\n",
      "Género: Animation, Adventure, Comedy\n",
      "Director: John Lasseter\n",
      "Actores: Tom Hanks, Tim Allen, Don Rickles\n",
      "Puntuación IMDb: 8.3\n",
      "Sinopsis: A little boy named Andy loves to be in his room, playing with his toys, especially his doll named \"Woody\". But, what do the toys do when Andy is not with them, they come to life. Woody believes that his life (as a toy) is good. However, he must worry about Andy's family moving, and what Woody does not know is about Andy's birthday party. Woody does not realize that Andy's mother gave him an action figure known as Buzz Lightyear, who does not believe that he is a toy, and quickly becomes Andy's new favorite toy. Woody, who is now consumed with jealousy, tries to get rid of Buzz. Then, both Woody and Buzz are now lost. They must find a way to get back to Andy before he moves without them, but they will have to pass through a ruthless toy killer, Sid Phillips.\n"
     ]
    }
   ],
   "source": [
    "api_key = \"fa1b7162\" ##Esto es lo importante, no lo borren ni cambien\n",
    "\n",
    "titulo = \"Toy Story\" ##Aqui se pone cualquier titulo de pelicla y se ejecuta el codigo\n",
    "\n",
    "url = f\"http://www.omdbapi.com/?t={titulo}&apikey={api_key}&plot=full\"\n",
    "\n",
    "response = requests.get(url)\n",
    "data = response.json()\n",
    "\n",
    "if data[\"Response\"] == \"True\":\n",
    "    print(\"Título:\", data[\"Title\"])\n",
    "    print(\"Año:\", data[\"Year\"])\n",
    "    print(\"Género:\", data[\"Genre\"])\n",
    "    print(\"Director:\", data[\"Director\"])\n",
    "    print(\"Actores:\", data[\"Actors\"])\n",
    "    print(\"Puntuación IMDb:\", data[\"imdbRating\"])\n",
    "    print(\"Sinopsis:\", data[\"Plot\"])\n",
    "else:\n",
    "    print(\"Película no encontrada\")"
   ]
  },
  {
   "cell_type": "markdown",
   "id": "1e16bfb3",
   "metadata": {},
   "source": [
    "## Dataset de Amazon que contiene usuario y reseña\n",
    "\n",
    "El problema es que las peliculas son por id y no se puede sacar constantemente de Amazon por que lo bloquea asi que recomiendo cambiar esa columna y asignar aleatoriamente otros id de las que ya tenemos"
   ]
  },
  {
   "cell_type": "code",
   "execution_count": 10,
   "id": "4d45e0d2",
   "metadata": {},
   "outputs": [
    {
     "name": "stdout",
     "output_type": "stream",
     "text": [
      "Descarga completada\n"
     ]
    }
   ],
   "source": [
    "import requests\n",
    "\n",
    "url = \"https://snap.stanford.edu/data/movies.txt.gz\"\n",
    "\n",
    "# Descargar por streaming y guardar en disco\n",
    "with requests.get(url, stream=True) as r:\n",
    "    r.raise_for_status()\n",
    "    with open(\"../data/interim/movies.txt.gz\", \"wb\") as f:\n",
    "        for chunk in r.iter_content(chunk_size=8192):\n",
    "            f.write(chunk)\n",
    "\n",
    "print(\"Descarga completada\")"
   ]
  },
  {
   "cell_type": "markdown",
   "id": "3db3589b",
   "metadata": {},
   "source": [
    "## Dataset de reseñas\n",
    "\n",
    "Para poder ejecutar esto hace falta usuario y clave api en kaggle"
   ]
  },
  {
   "cell_type": "code",
   "execution_count": null,
   "id": "ae85314b",
   "metadata": {},
   "outputs": [],
   "source": [
    "! chmod 600 ~/.kaggle/kaggle.json"
   ]
  },
  {
   "cell_type": "code",
   "execution_count": 15,
   "id": "502cf4c4",
   "metadata": {},
   "outputs": [
    {
     "name": "stdout",
     "output_type": "stream",
     "text": [
      "Dataset URL: https://www.kaggle.com/datasets/luisdiegofv97/imdb-dataset-of-50k-movie-reviews-spanish\n",
      "License(s): other\n",
      "Downloading imdb-dataset-of-50k-movie-reviews-spanish.zip to ../data/interim\n",
      "  0%|                                               | 0.00/52.6M [00:00<?, ?B/s]\n",
      "100%|██████████████████████████████████████| 52.6M/52.6M [00:00<00:00, 1.54GB/s]\n"
     ]
    }
   ],
   "source": [
    "! kaggle datasets download -d luisdiegofv97/imdb-dataset-of-50k-movie-reviews-spanish -p ../data/interim"
   ]
  },
  {
   "cell_type": "code",
   "execution_count": 17,
   "id": "e080e7b8",
   "metadata": {},
   "outputs": [
    {
     "name": "stdout",
     "output_type": "stream",
     "text": [
      "Archive:  ../data/interim/imdb-dataset-of-50k-movie-reviews-spanish.zip\n",
      "  inflating: ../data/interim/imdb-dataset/IMDB Dataset SPANISH.csv  \n"
     ]
    }
   ],
   "source": [
    "! unzip ../data/interim/imdb-dataset-of-50k-movie-reviews-spanish.zip -d ../data/interim/imdb-dataset/"
   ]
  }
 ],
 "metadata": {
  "kernelspec": {
   "display_name": "Python 3",
   "language": "python",
   "name": "python3"
  },
  "language_info": {
   "codemirror_mode": {
    "name": "ipython",
    "version": 3
   },
   "file_extension": ".py",
   "mimetype": "text/x-python",
   "name": "python",
   "nbconvert_exporter": "python",
   "pygments_lexer": "ipython3",
   "version": "3.11.4"
  }
 },
 "nbformat": 4,
 "nbformat_minor": 5
}
