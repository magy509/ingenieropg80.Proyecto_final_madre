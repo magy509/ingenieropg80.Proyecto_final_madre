{
 "cells": [
  {
   "cell_type": "markdown",
   "id": "c0728981",
   "metadata": {},
   "source": [
    "## Requerimientos"
   ]
  },
  {
   "cell_type": "code",
   "execution_count": 1,
   "id": "070249af",
   "metadata": {},
   "outputs": [
    {
     "name": "stdout",
     "output_type": "stream",
     "text": [
      "Defaulting to user installation because normal site-packages is not writeable\n",
      "Collecting ipyleaflet>=0.14.0 (from -r ../requirements.txt (line 1))\n",
      "  Downloading ipyleaflet-0.20.0-py3-none-any.whl (31 kB)\n",
      "Collecting ipywidgets>=7.7.1 (from -r ../requirements.txt (line 2))\n",
      "  Downloading ipywidgets-8.1.7-py3-none-any.whl (139 kB)\n",
      "\u001b[2K     \u001b[90m━━━━━━━━━━━━━━━━━━━━━━━━━━━━━━━━━━━━━━\u001b[0m \u001b[32m139.8/139.8 kB\u001b[0m \u001b[31m35.0 MB/s\u001b[0m eta \u001b[36m0:00:00\u001b[0m\n",
      "\u001b[?25hCollecting matplotlib>=3.7.0 (from -r ../requirements.txt (line 3))\n",
      "  Downloading matplotlib-3.10.6-cp311-cp311-manylinux2014_x86_64.manylinux_2_17_x86_64.whl (8.7 MB)\n",
      "\u001b[2K     \u001b[90m━━━━━━━━━━━━━━━━━━━━━━━━━━━━━━━━━━━━━━━━\u001b[0m \u001b[32m8.7/8.7 MB\u001b[0m \u001b[31m29.0 MB/s\u001b[0m eta \u001b[36m0:00:00\u001b[0m00:01\u001b[0m00:01\u001b[0m\n",
      "\u001b[?25hCollecting numpy>=1.24.2 (from -r ../requirements.txt (line 4))\n",
      "  Downloading numpy-2.3.3-cp311-cp311-manylinux_2_27_x86_64.manylinux_2_28_x86_64.whl (16.9 MB)\n",
      "\u001b[2K     \u001b[90m━━━━━━━━━━━━━━━━━━━━━━━━━━━━━━━━━━━━━━━━\u001b[0m \u001b[32m16.9/16.9 MB\u001b[0m \u001b[31m42.2 MB/s\u001b[0m eta \u001b[36m0:00:00\u001b[0m00:01\u001b[0m00:01\u001b[0m\n",
      "\u001b[?25hCollecting opencv-python>=4.1.2 (from -r ../requirements.txt (line 5))\n",
      "  Downloading opencv_python-4.12.0.88-cp37-abi3-manylinux2014_x86_64.manylinux_2_17_x86_64.whl (67.0 MB)\n",
      "\u001b[2K     \u001b[90m━━━━━━━━━━━━━━━━━━━━━━━━━━━━━━━━━━━━━━━━\u001b[0m \u001b[32m67.0/67.0 MB\u001b[0m \u001b[31m13.4 MB/s\u001b[0m eta \u001b[36m0:00:00\u001b[0m00:01\u001b[0m00:01\u001b[0m\n",
      "\u001b[?25hCollecting pandas>=1.5.3 (from -r ../requirements.txt (line 6))\n",
      "  Downloading pandas-2.3.2-cp311-cp311-manylinux_2_17_x86_64.manylinux2014_x86_64.whl (12.4 MB)\n",
      "\u001b[2K     \u001b[90m━━━━━━━━━━━━━━━━━━━━━━━━━━━━━━━━━━━━━━━━\u001b[0m \u001b[32m12.4/12.4 MB\u001b[0m \u001b[31m62.7 MB/s\u001b[0m eta \u001b[36m0:00:00\u001b[0m00:01\u001b[0m00:01\u001b[0m\n",
      "\u001b[?25hCollecting psycopg2-binary>=2.9.3 (from -r ../requirements.txt (line 7))\n",
      "  Downloading psycopg2_binary-2.9.10-cp311-cp311-manylinux_2_17_x86_64.manylinux2014_x86_64.whl (3.0 MB)\n",
      "\u001b[2K     \u001b[90m━━━━━━━━━━━━━━━━━━━━━━━━━━━━━━━━━━━━━━━━\u001b[0m \u001b[32m3.0/3.0 MB\u001b[0m \u001b[31m66.0 MB/s\u001b[0m eta \u001b[36m0:00:00\u001b[0m:00:01\u001b[0m\n",
      "\u001b[?25hCollecting pymysql>=1.0.2 (from -r ../requirements.txt (line 8))\n",
      "  Downloading pymysql-1.1.2-py3-none-any.whl (45 kB)\n",
      "\u001b[2K     \u001b[90m━━━━━━━━━━━━━━━━━━━━━━━━━━━━━━━━━━━━━━━━\u001b[0m \u001b[32m45.3/45.3 kB\u001b[0m \u001b[31m16.3 MB/s\u001b[0m eta \u001b[36m0:00:00\u001b[0m\n",
      "\u001b[?25hCollecting python-dotenv>=0.20.0 (from -r ../requirements.txt (line 9))\n",
      "  Downloading python_dotenv-1.1.1-py3-none-any.whl (20 kB)\n",
      "Collecting requests>=2.27.1 (from -r ../requirements.txt (line 10))\n",
      "  Downloading requests-2.32.5-py3-none-any.whl (64 kB)\n",
      "\u001b[2K     \u001b[90m━━━━━━━━━━━━━━━━━━━━━━━━━━━━━━━━━━━━━━━━\u001b[0m \u001b[32m64.7/64.7 kB\u001b[0m \u001b[31m17.5 MB/s\u001b[0m eta \u001b[36m0:00:00\u001b[0m\n",
      "\u001b[?25hCollecting scikit-learn (from -r ../requirements.txt (line 11))\n",
      "  Downloading scikit_learn-1.7.2-cp311-cp311-manylinux2014_x86_64.manylinux_2_17_x86_64.whl (9.7 MB)\n",
      "\u001b[2K     \u001b[90m━━━━━━━━━━━━━━━━━━━━━━━━━━━━━━━━━━━━━━━━\u001b[0m \u001b[32m9.7/9.7 MB\u001b[0m \u001b[31m21.7 MB/s\u001b[0m eta \u001b[36m0:00:00\u001b[0m:00:01\u001b[0m00:01\u001b[0m\n",
      "\u001b[?25hCollecting seaborn>=0.12.2 (from -r ../requirements.txt (line 12))\n",
      "  Downloading seaborn-0.13.2-py3-none-any.whl (294 kB)\n",
      "\u001b[2K     \u001b[90m━━━━━━━━━━━━━━━━━━━━━━━━━━━━━━━━━━━━━━\u001b[0m \u001b[32m294.9/294.9 kB\u001b[0m \u001b[31m60.8 MB/s\u001b[0m eta \u001b[36m0:00:00\u001b[0m\n",
      "\u001b[?25hCollecting sqlalchemy>=2.0.38 (from -r ../requirements.txt (line 13))\n",
      "  Downloading sqlalchemy-2.0.43-cp311-cp311-manylinux_2_17_x86_64.manylinux2014_x86_64.whl (3.3 MB)\n",
      "\u001b[2K     \u001b[90m━━━━━━━━━━━━━━━━━━━━━━━━━━━━━━━━━━━━━━━━\u001b[0m \u001b[32m3.3/3.3 MB\u001b[0m \u001b[31m60.9 MB/s\u001b[0m eta \u001b[36m0:00:00\u001b[0m:00:01\u001b[0m\n",
      "\u001b[?25hCollecting sympy>=1.10.1 (from -r ../requirements.txt (line 14))\n",
      "  Downloading sympy-1.14.0-py3-none-any.whl (6.3 MB)\n",
      "\u001b[2K     \u001b[90m━━━━━━━━━━━━━━━━━━━━━━━━━━━━━━━━━━━━━━━━\u001b[0m \u001b[32m6.3/6.3 MB\u001b[0m \u001b[31m69.5 MB/s\u001b[0m eta \u001b[36m0:00:00\u001b[0m:00:01\u001b[0m\n",
      "\u001b[?25hCollecting xgboost (from -r ../requirements.txt (line 15))\n",
      "  Downloading xgboost-3.0.5-py3-none-manylinux_2_28_x86_64.whl (94.9 MB)\n",
      "\u001b[2K     \u001b[90m━━━━━━━━━━━━━━━━━━━━━━━━━━━━━━━━━━━━━━━━\u001b[0m \u001b[32m94.9/94.9 MB\u001b[0m \u001b[31m9.6 MB/s\u001b[0m eta \u001b[36m0:00:00\u001b[0m:00:01\u001b[0m00:01\u001b[0m\n",
      "\u001b[?25hCollecting kaggle (from -r ../requirements.txt (line 16))\n",
      "  Downloading kaggle-1.7.4.5-py3-none-any.whl (181 kB)\n",
      "\u001b[2K     \u001b[90m━━━━━━━━━━━━━━━━━━━━━━━━━━━━━━━━━━━━━━\u001b[0m \u001b[32m181.2/181.2 kB\u001b[0m \u001b[31m11.5 MB/s\u001b[0m eta \u001b[36m0:00:00\u001b[0m\n",
      "\u001b[?25hCollecting branca>=0.5.0 (from ipyleaflet>=0.14.0->-r ../requirements.txt (line 1))\n",
      "  Downloading branca-0.8.1-py3-none-any.whl (26 kB)\n",
      "Collecting jupyter-leaflet<0.21,>=0.20 (from ipyleaflet>=0.14.0->-r ../requirements.txt (line 1))\n",
      "  Downloading jupyter_leaflet-0.20.0-py3-none-any.whl (1.1 MB)\n",
      "\u001b[2K     \u001b[90m━━━━━━━━━━━━━━━━━━━━━━━━━━━━━━━━━━━━━━━━\u001b[0m \u001b[32m1.1/1.1 MB\u001b[0m \u001b[31m43.7 MB/s\u001b[0m eta \u001b[36m0:00:00\u001b[0m\n",
      "\u001b[?25hCollecting traittypes<3,>=0.2.1 (from ipyleaflet>=0.14.0->-r ../requirements.txt (line 1))\n",
      "  Downloading traittypes-0.2.1-py2.py3-none-any.whl (8.6 kB)\n",
      "Collecting xyzservices>=2021.8.1 (from ipyleaflet>=0.14.0->-r ../requirements.txt (line 1))\n",
      "  Downloading xyzservices-2025.4.0-py3-none-any.whl (90 kB)\n",
      "\u001b[2K     \u001b[90m━━━━━━━━━━━━━━━━━━━━━━━━━━━━━━━━━━━━━━━━\u001b[0m \u001b[32m90.4/90.4 kB\u001b[0m \u001b[31m26.9 MB/s\u001b[0m eta \u001b[36m0:00:00\u001b[0m\n",
      "\u001b[?25hRequirement already satisfied: comm>=0.1.3 in /home/vscode/.local/lib/python3.11/site-packages (from ipywidgets>=7.7.1->-r ../requirements.txt (line 2)) (0.2.3)\n",
      "Requirement already satisfied: ipython>=6.1.0 in /home/vscode/.local/lib/python3.11/site-packages (from ipywidgets>=7.7.1->-r ../requirements.txt (line 2)) (9.5.0)\n",
      "Requirement already satisfied: traitlets>=4.3.1 in /home/vscode/.local/lib/python3.11/site-packages (from ipywidgets>=7.7.1->-r ../requirements.txt (line 2)) (5.14.3)\n",
      "Collecting widgetsnbextension~=4.0.14 (from ipywidgets>=7.7.1->-r ../requirements.txt (line 2))\n",
      "  Downloading widgetsnbextension-4.0.14-py3-none-any.whl (2.2 MB)\n",
      "\u001b[2K     \u001b[90m━━━━━━━━━━━━━━━━━━━━━━━━━━━━━━━━━━━━━━━━\u001b[0m \u001b[32m2.2/2.2 MB\u001b[0m \u001b[31m56.4 MB/s\u001b[0m eta \u001b[36m0:00:00\u001b[0m:00:01\u001b[0m\n",
      "\u001b[?25hCollecting jupyterlab_widgets~=3.0.15 (from ipywidgets>=7.7.1->-r ../requirements.txt (line 2))\n",
      "  Downloading jupyterlab_widgets-3.0.15-py3-none-any.whl (216 kB)\n",
      "\u001b[2K     \u001b[90m━━━━━━━━━━━━━━━━━━━━━━━━━━━━━━━━━━━━━━\u001b[0m \u001b[32m216.6/216.6 kB\u001b[0m \u001b[31m31.6 MB/s\u001b[0m eta \u001b[36m0:00:00\u001b[0m\n",
      "\u001b[?25hCollecting contourpy>=1.0.1 (from matplotlib>=3.7.0->-r ../requirements.txt (line 3))\n",
      "  Downloading contourpy-1.3.3-cp311-cp311-manylinux_2_27_x86_64.manylinux_2_28_x86_64.whl (355 kB)\n",
      "\u001b[2K     \u001b[90m━━━━━━━━━━━━━━━━━━━━━━━━━━━━━━━━━━━━━━\u001b[0m \u001b[32m355.2/355.2 kB\u001b[0m \u001b[31m42.6 MB/s\u001b[0m eta \u001b[36m0:00:00\u001b[0m\n",
      "\u001b[?25hCollecting cycler>=0.10 (from matplotlib>=3.7.0->-r ../requirements.txt (line 3))\n",
      "  Downloading cycler-0.12.1-py3-none-any.whl (8.3 kB)\n",
      "Collecting fonttools>=4.22.0 (from matplotlib>=3.7.0->-r ../requirements.txt (line 3))\n",
      "  Downloading fonttools-4.59.2-cp311-cp311-manylinux2014_x86_64.manylinux_2_17_x86_64.whl (5.0 MB)\n",
      "\u001b[2K     \u001b[90m━━━━━━━━━━━━━━━━━━━━━━━━━━━━━━━━━━━━━━━━\u001b[0m \u001b[32m5.0/5.0 MB\u001b[0m \u001b[31m64.9 MB/s\u001b[0m eta \u001b[36m0:00:00\u001b[0m:00:01\u001b[0m\n",
      "\u001b[?25hCollecting kiwisolver>=1.3.1 (from matplotlib>=3.7.0->-r ../requirements.txt (line 3))\n",
      "  Downloading kiwisolver-1.4.9-cp311-cp311-manylinux2014_x86_64.manylinux_2_17_x86_64.whl (1.4 MB)\n",
      "\u001b[2K     \u001b[90m━━━━━━━━━━━━━━━━━━━━━━━━━━━━━━━━━━━━━━━━\u001b[0m \u001b[32m1.4/1.4 MB\u001b[0m \u001b[31m69.4 MB/s\u001b[0m eta \u001b[36m0:00:00\u001b[0m\n",
      "\u001b[?25hRequirement already satisfied: packaging>=20.0 in /home/vscode/.local/lib/python3.11/site-packages (from matplotlib>=3.7.0->-r ../requirements.txt (line 3)) (25.0)\n",
      "Collecting pillow>=8 (from matplotlib>=3.7.0->-r ../requirements.txt (line 3))\n",
      "  Downloading pillow-11.3.0-cp311-cp311-manylinux_2_27_x86_64.manylinux_2_28_x86_64.whl (6.6 MB)\n",
      "\u001b[2K     \u001b[90m━━━━━━━━━━━━━━━━━━━━━━━━━━━━━━━━━━━━━━━━\u001b[0m \u001b[32m6.6/6.6 MB\u001b[0m \u001b[31m62.7 MB/s\u001b[0m eta \u001b[36m0:00:00\u001b[0m:00:01\u001b[0m00:01\u001b[0m\n",
      "\u001b[?25hCollecting pyparsing>=2.3.1 (from matplotlib>=3.7.0->-r ../requirements.txt (line 3))\n",
      "  Downloading pyparsing-3.2.3-py3-none-any.whl (111 kB)\n",
      "\u001b[2K     \u001b[90m━━━━━━━━━━━━━━━━━━━━━━━━━━━━━━━━━━━━━━\u001b[0m \u001b[32m111.1/111.1 kB\u001b[0m \u001b[31m24.4 MB/s\u001b[0m eta \u001b[36m0:00:00\u001b[0m\n",
      "\u001b[?25hRequirement already satisfied: python-dateutil>=2.7 in /home/vscode/.local/lib/python3.11/site-packages (from matplotlib>=3.7.0->-r ../requirements.txt (line 3)) (2.9.0.post0)\n",
      "Collecting numpy>=1.24.2 (from -r ../requirements.txt (line 4))\n",
      "  Downloading numpy-2.2.6-cp311-cp311-manylinux_2_17_x86_64.manylinux2014_x86_64.whl (16.8 MB)\n",
      "\u001b[2K     \u001b[90m━━━━━━━━━━━━━━━━━━━━━━━━━━━━━━━━━━━━━━━━\u001b[0m \u001b[32m16.8/16.8 MB\u001b[0m \u001b[31m46.1 MB/s\u001b[0m eta \u001b[36m0:00:00\u001b[0m00:01\u001b[0m00:01\u001b[0m\n",
      "\u001b[?25hCollecting pytz>=2020.1 (from pandas>=1.5.3->-r ../requirements.txt (line 6))\n",
      "  Downloading pytz-2025.2-py2.py3-none-any.whl (509 kB)\n",
      "\u001b[2K     \u001b[90m━━━━━━━━━━━━━━━━━━━━━━━━━━━━━━━━━━━━━━\u001b[0m \u001b[32m509.2/509.2 kB\u001b[0m \u001b[31m59.4 MB/s\u001b[0m eta \u001b[36m0:00:00\u001b[0m\n",
      "\u001b[?25hCollecting tzdata>=2022.7 (from pandas>=1.5.3->-r ../requirements.txt (line 6))\n",
      "  Downloading tzdata-2025.2-py2.py3-none-any.whl (347 kB)\n",
      "\u001b[2K     \u001b[90m━━━━━━━━━━━━━━━━━━━━━━━━━━━━━━━━━━━━━━\u001b[0m \u001b[32m347.8/347.8 kB\u001b[0m \u001b[31m48.3 MB/s\u001b[0m eta \u001b[36m0:00:00\u001b[0m\n",
      "\u001b[?25hCollecting charset_normalizer<4,>=2 (from requests>=2.27.1->-r ../requirements.txt (line 10))\n",
      "  Downloading charset_normalizer-3.4.3-cp311-cp311-manylinux2014_x86_64.manylinux_2_17_x86_64.manylinux_2_28_x86_64.whl (150 kB)\n",
      "\u001b[2K     \u001b[90m━━━━━━━━━━━━━━━━━━━━━━━━━━━━━━━━━━━━━━\u001b[0m \u001b[32m150.3/150.3 kB\u001b[0m \u001b[31m37.8 MB/s\u001b[0m eta \u001b[36m0:00:00\u001b[0m\n",
      "\u001b[?25hCollecting idna<4,>=2.5 (from requests>=2.27.1->-r ../requirements.txt (line 10))\n",
      "  Downloading idna-3.10-py3-none-any.whl (70 kB)\n",
      "\u001b[2K     \u001b[90m━━━━━━━━━━━━━━━━━━━━━━━━━━━━━━━━━━━━━━━━\u001b[0m \u001b[32m70.4/70.4 kB\u001b[0m \u001b[31m20.7 MB/s\u001b[0m eta \u001b[36m0:00:00\u001b[0m\n",
      "\u001b[?25hCollecting urllib3<3,>=1.21.1 (from requests>=2.27.1->-r ../requirements.txt (line 10))\n",
      "  Downloading urllib3-2.5.0-py3-none-any.whl (129 kB)\n",
      "\u001b[2K     \u001b[90m━━━━━━━━━━━━━━━━━━━━━━━━━━━━━━━━━━━━━━\u001b[0m \u001b[32m129.8/129.8 kB\u001b[0m \u001b[31m33.6 MB/s\u001b[0m eta \u001b[36m0:00:00\u001b[0m\n",
      "\u001b[?25hCollecting certifi>=2017.4.17 (from requests>=2.27.1->-r ../requirements.txt (line 10))\n",
      "  Downloading certifi-2025.8.3-py3-none-any.whl (161 kB)\n",
      "\u001b[2K     \u001b[90m━━━━━━━━━━━━━━━━━━━━━━━━━━━━━━━━━━━━━━\u001b[0m \u001b[32m161.2/161.2 kB\u001b[0m \u001b[31m35.8 MB/s\u001b[0m eta \u001b[36m0:00:00\u001b[0m\n",
      "\u001b[?25hCollecting scipy>=1.8.0 (from scikit-learn->-r ../requirements.txt (line 11))\n",
      "  Downloading scipy-1.16.1-cp311-cp311-manylinux2014_x86_64.manylinux_2_17_x86_64.whl (35.4 MB)\n",
      "\u001b[2K     \u001b[90m━━━━━━━━━━━━━━━━━━━━━━━━━━━━━━━━━━━━━━━━\u001b[0m \u001b[32m35.4/35.4 MB\u001b[0m \u001b[31m24.2 MB/s\u001b[0m eta \u001b[36m0:00:00\u001b[0m00:01\u001b[0m00:01\u001b[0m\n",
      "\u001b[?25hCollecting joblib>=1.2.0 (from scikit-learn->-r ../requirements.txt (line 11))\n",
      "  Downloading joblib-1.5.2-py3-none-any.whl (308 kB)\n",
      "\u001b[2K     \u001b[90m━━━━━━━━━━━━━━━━━━━━━━━━━━━━━━━━━━━━━━\u001b[0m \u001b[32m308.4/308.4 kB\u001b[0m \u001b[31m54.7 MB/s\u001b[0m eta \u001b[36m0:00:00\u001b[0m\n",
      "\u001b[?25hCollecting threadpoolctl>=3.1.0 (from scikit-learn->-r ../requirements.txt (line 11))\n",
      "  Downloading threadpoolctl-3.6.0-py3-none-any.whl (18 kB)\n",
      "Collecting greenlet>=1 (from sqlalchemy>=2.0.38->-r ../requirements.txt (line 13))\n",
      "  Downloading greenlet-3.2.4-cp311-cp311-manylinux_2_24_x86_64.manylinux_2_28_x86_64.whl (587 kB)\n",
      "\u001b[2K     \u001b[90m━━━━━━━━━━━━━━━━━━━━━━━━━━━━━━━━━━━━━━\u001b[0m \u001b[32m587.7/587.7 kB\u001b[0m \u001b[31m33.6 MB/s\u001b[0m eta \u001b[36m0:00:00\u001b[0m\n",
      "\u001b[?25hRequirement already satisfied: typing-extensions>=4.6.0 in /home/vscode/.local/lib/python3.11/site-packages (from sqlalchemy>=2.0.38->-r ../requirements.txt (line 13)) (4.15.0)\n",
      "Collecting mpmath<1.4,>=1.1.0 (from sympy>=1.10.1->-r ../requirements.txt (line 14))\n",
      "  Downloading mpmath-1.3.0-py3-none-any.whl (536 kB)\n",
      "\u001b[2K     \u001b[90m━━━━━━━━━━━━━━━━━━━━━━━━━━━━━━━━━━━━━━\u001b[0m \u001b[32m536.2/536.2 kB\u001b[0m \u001b[31m59.4 MB/s\u001b[0m eta \u001b[36m0:00:00\u001b[0m\n",
      "\u001b[?25hCollecting nvidia-nccl-cu12 (from xgboost->-r ../requirements.txt (line 15))\n",
      "  Downloading nvidia_nccl_cu12-2.28.3-py3-none-manylinux_2_18_x86_64.whl (295.9 MB)\n",
      "\u001b[2K     \u001b[90m━━━━━━━━━━━━━━━━━━━━━━━━━━━━━━━━━━━━━━━\u001b[0m \u001b[32m295.9/295.9 MB\u001b[0m \u001b[31m2.7 MB/s\u001b[0m eta \u001b[36m0:00:00\u001b[0m00:01\u001b[0m00:01\u001b[0m\n",
      "\u001b[?25hCollecting bleach (from kaggle->-r ../requirements.txt (line 16))\n",
      "  Downloading bleach-6.2.0-py3-none-any.whl (163 kB)\n",
      "\u001b[2K     \u001b[90m━━━━━━━━━━━━━━━━━━━━━━━━━━━━━━━━━━━━━━\u001b[0m \u001b[32m163.4/163.4 kB\u001b[0m \u001b[31m37.5 MB/s\u001b[0m eta \u001b[36m0:00:00\u001b[0m\n",
      "\u001b[?25hCollecting protobuf (from kaggle->-r ../requirements.txt (line 16))\n",
      "  Downloading protobuf-6.32.0-cp39-abi3-manylinux2014_x86_64.whl (322 kB)\n",
      "\u001b[2K     \u001b[90m━━━━━━━━━━━━━━━━━━━━━━━━━━━━━━━━━━━━━━\u001b[0m \u001b[32m322.0/322.0 kB\u001b[0m \u001b[31m53.0 MB/s\u001b[0m eta \u001b[36m0:00:00\u001b[0m\n",
      "\u001b[?25hCollecting python-slugify (from kaggle->-r ../requirements.txt (line 16))\n",
      "  Downloading python_slugify-8.0.4-py2.py3-none-any.whl (10 kB)\n",
      "Requirement already satisfied: setuptools>=21.0.0 in /usr/local/lib/python3.11/site-packages (from kaggle->-r ../requirements.txt (line 16)) (67.8.0)\n",
      "Requirement already satisfied: six>=1.10 in /home/vscode/.local/lib/python3.11/site-packages (from kaggle->-r ../requirements.txt (line 16)) (1.17.0)\n",
      "Collecting text-unidecode (from kaggle->-r ../requirements.txt (line 16))\n",
      "  Downloading text_unidecode-1.3-py2.py3-none-any.whl (78 kB)\n",
      "\u001b[2K     \u001b[90m━━━━━━━━━━━━━━━━━━━━━━━━━━━━━━━━━━━━━━━━\u001b[0m \u001b[32m78.2/78.2 kB\u001b[0m \u001b[31m21.0 MB/s\u001b[0m eta \u001b[36m0:00:00\u001b[0m\n",
      "\u001b[?25hCollecting tqdm (from kaggle->-r ../requirements.txt (line 16))\n",
      "  Downloading tqdm-4.67.1-py3-none-any.whl (78 kB)\n",
      "\u001b[2K     \u001b[90m━━━━━━━━━━━━━━━━━━━━━━━━━━━━━━━━━━━━━━━━\u001b[0m \u001b[32m78.5/78.5 kB\u001b[0m \u001b[31m19.4 MB/s\u001b[0m eta \u001b[36m0:00:00\u001b[0m\n",
      "\u001b[?25hCollecting webencodings (from kaggle->-r ../requirements.txt (line 16))\n",
      "  Downloading webencodings-0.5.1-py2.py3-none-any.whl (11 kB)\n",
      "Collecting jinja2>=3 (from branca>=0.5.0->ipyleaflet>=0.14.0->-r ../requirements.txt (line 1))\n",
      "  Downloading jinja2-3.1.6-py3-none-any.whl (134 kB)\n",
      "\u001b[2K     \u001b[90m━━━━━━━━━━━━━━━━━━━━━━━━━━━━━━━━━━━━━━\u001b[0m \u001b[32m134.9/134.9 kB\u001b[0m \u001b[31m35.9 MB/s\u001b[0m eta \u001b[36m0:00:00\u001b[0m\n",
      "\u001b[?25hRequirement already satisfied: decorator in /home/vscode/.local/lib/python3.11/site-packages (from ipython>=6.1.0->ipywidgets>=7.7.1->-r ../requirements.txt (line 2)) (5.2.1)\n",
      "Requirement already satisfied: ipython-pygments-lexers in /home/vscode/.local/lib/python3.11/site-packages (from ipython>=6.1.0->ipywidgets>=7.7.1->-r ../requirements.txt (line 2)) (1.1.1)\n",
      "Requirement already satisfied: jedi>=0.16 in /home/vscode/.local/lib/python3.11/site-packages (from ipython>=6.1.0->ipywidgets>=7.7.1->-r ../requirements.txt (line 2)) (0.19.2)\n",
      "Requirement already satisfied: matplotlib-inline in /home/vscode/.local/lib/python3.11/site-packages (from ipython>=6.1.0->ipywidgets>=7.7.1->-r ../requirements.txt (line 2)) (0.1.7)\n",
      "Requirement already satisfied: pexpect>4.3 in /home/vscode/.local/lib/python3.11/site-packages (from ipython>=6.1.0->ipywidgets>=7.7.1->-r ../requirements.txt (line 2)) (4.9.0)\n",
      "Requirement already satisfied: prompt_toolkit<3.1.0,>=3.0.41 in /home/vscode/.local/lib/python3.11/site-packages (from ipython>=6.1.0->ipywidgets>=7.7.1->-r ../requirements.txt (line 2)) (3.0.52)\n",
      "Requirement already satisfied: pygments>=2.4.0 in /home/vscode/.local/lib/python3.11/site-packages (from ipython>=6.1.0->ipywidgets>=7.7.1->-r ../requirements.txt (line 2)) (2.19.2)\n",
      "Requirement already satisfied: stack_data in /home/vscode/.local/lib/python3.11/site-packages (from ipython>=6.1.0->ipywidgets>=7.7.1->-r ../requirements.txt (line 2)) (0.6.3)\n",
      "Requirement already satisfied: parso<0.9.0,>=0.8.4 in /home/vscode/.local/lib/python3.11/site-packages (from jedi>=0.16->ipython>=6.1.0->ipywidgets>=7.7.1->-r ../requirements.txt (line 2)) (0.8.5)\n",
      "Collecting MarkupSafe>=2.0 (from jinja2>=3->branca>=0.5.0->ipyleaflet>=0.14.0->-r ../requirements.txt (line 1))\n",
      "  Downloading MarkupSafe-3.0.2-cp311-cp311-manylinux_2_17_x86_64.manylinux2014_x86_64.whl (23 kB)\n",
      "Requirement already satisfied: ptyprocess>=0.5 in /home/vscode/.local/lib/python3.11/site-packages (from pexpect>4.3->ipython>=6.1.0->ipywidgets>=7.7.1->-r ../requirements.txt (line 2)) (0.7.0)\n",
      "Requirement already satisfied: wcwidth in /home/vscode/.local/lib/python3.11/site-packages (from prompt_toolkit<3.1.0,>=3.0.41->ipython>=6.1.0->ipywidgets>=7.7.1->-r ../requirements.txt (line 2)) (0.2.13)\n",
      "Requirement already satisfied: executing>=1.2.0 in /home/vscode/.local/lib/python3.11/site-packages (from stack_data->ipython>=6.1.0->ipywidgets>=7.7.1->-r ../requirements.txt (line 2)) (2.2.1)\n",
      "Requirement already satisfied: asttokens>=2.1.0 in /home/vscode/.local/lib/python3.11/site-packages (from stack_data->ipython>=6.1.0->ipywidgets>=7.7.1->-r ../requirements.txt (line 2)) (3.0.0)\n",
      "Requirement already satisfied: pure-eval in /home/vscode/.local/lib/python3.11/site-packages (from stack_data->ipython>=6.1.0->ipywidgets>=7.7.1->-r ../requirements.txt (line 2)) (0.2.3)\n",
      "Installing collected packages: webencodings, text-unidecode, pytz, mpmath, xyzservices, widgetsnbextension, urllib3, tzdata, traittypes, tqdm, threadpoolctl, sympy, python-slugify, python-dotenv, pyparsing, pymysql, psycopg2-binary, protobuf, pillow, nvidia-nccl-cu12, numpy, MarkupSafe, kiwisolver, jupyterlab_widgets, jupyter-leaflet, joblib, idna, greenlet, fonttools, cycler, charset_normalizer, certifi, bleach, sqlalchemy, scipy, requests, pandas, opencv-python, jinja2, contourpy, xgboost, scikit-learn, matplotlib, kaggle, ipywidgets, branca, seaborn, ipyleaflet\n",
      "Successfully installed MarkupSafe-3.0.2 bleach-6.2.0 branca-0.8.1 certifi-2025.8.3 charset_normalizer-3.4.3 contourpy-1.3.3 cycler-0.12.1 fonttools-4.59.2 greenlet-3.2.4 idna-3.10 ipyleaflet-0.20.0 ipywidgets-8.1.7 jinja2-3.1.6 joblib-1.5.2 jupyter-leaflet-0.20.0 jupyterlab_widgets-3.0.15 kaggle-1.7.4.5 kiwisolver-1.4.9 matplotlib-3.10.6 mpmath-1.3.0 numpy-2.2.6 nvidia-nccl-cu12-2.28.3 opencv-python-4.12.0.88 pandas-2.3.2 pillow-11.3.0 protobuf-6.32.0 psycopg2-binary-2.9.10 pymysql-1.1.2 pyparsing-3.2.3 python-dotenv-1.1.1 python-slugify-8.0.4 pytz-2025.2 requests-2.32.5 scikit-learn-1.7.2 scipy-1.16.1 seaborn-0.13.2 sqlalchemy-2.0.43 sympy-1.14.0 text-unidecode-1.3 threadpoolctl-3.6.0 tqdm-4.67.1 traittypes-0.2.1 tzdata-2025.2 urllib3-2.5.0 webencodings-0.5.1 widgetsnbextension-4.0.14 xgboost-3.0.5 xyzservices-2025.4.0\n",
      "\n",
      "\u001b[1m[\u001b[0m\u001b[34;49mnotice\u001b[0m\u001b[1;39;49m]\u001b[0m\u001b[39;49m A new release of pip is available: \u001b[0m\u001b[31;49m23.1.2\u001b[0m\u001b[39;49m -> \u001b[0m\u001b[32;49m25.2\u001b[0m\n",
      "\u001b[1m[\u001b[0m\u001b[34;49mnotice\u001b[0m\u001b[1;39;49m]\u001b[0m\u001b[39;49m To update, run: \u001b[0m\u001b[32;49mpip install --upgrade pip\u001b[0m\n"
     ]
    }
   ],
   "source": [
    "! pip install -r ../requirements.txt"
   ]
  },
  {
   "cell_type": "code",
   "execution_count": null,
   "id": "500d65f3",
   "metadata": {},
   "outputs": [],
   "source": [
    "import requests, zipfile, io, os\n",
    "import tarfile\n",
    "import pandas as pd\n",
    "import time\n",
    "from bs4 import BeautifulSoup\n",
    "import os\n",
    "\n",
    "os.environ['KAGGLE_CONFIG_DIR'] = '../data'"
   ]
  },
  {
   "cell_type": "markdown",
   "id": "d6c17595",
   "metadata": {},
   "source": [
    "## Datasets de peliculas y datos de reseñas y etiquetas"
   ]
  },
  {
   "cell_type": "code",
   "execution_count": 5,
   "id": "585c0ee3",
   "metadata": {},
   "outputs": [],
   "source": [
    "url = \"https://files.grouplens.org/datasets/movielens/ml-32m.zip\"\n",
    "response = requests.get(url)\n",
    "response.raise_for_status()\n",
    "\n",
    "with zipfile.ZipFile(io.BytesIO(response.content)) as z:\n",
    "    z.extractall(\"../data/interim/movies-data\")"
   ]
  },
  {
   "cell_type": "markdown",
   "id": "fbb336da",
   "metadata": {},
   "source": [
    "## Información referente a comentarios de sentimientos, estos deben asociarse a peliculas "
   ]
  },
  {
   "cell_type": "code",
   "execution_count": 6,
   "id": "3080f614",
   "metadata": {},
   "outputs": [],
   "source": [
    "enlace = \"https://ai.stanford.edu/~amaas/data/sentiment/aclImdb_v1.tar.gz\"\n",
    "response = requests.get(enlace)\n",
    "response.raise_for_status()\n",
    "\n",
    "\n",
    "with tarfile.open(fileobj=io.BytesIO(response.content), mode=\"r:gz\") as tar:\n",
    "    tar.extractall(path=\"../data/interim/feeling\")"
   ]
  },
  {
   "cell_type": "markdown",
   "id": "07c93800",
   "metadata": {},
   "source": [
    "## Otro sitio de peliculas\n",
    "\n",
    "Este servira mas para mostrar datos o complementar los de una pelicula que ya tengamos en el dataset principal, lo que se muestra es un ejemplo "
   ]
  },
  {
   "cell_type": "code",
   "execution_count": 7,
   "id": "ac23fee4",
   "metadata": {},
   "outputs": [
    {
     "name": "stdout",
     "output_type": "stream",
     "text": [
      "Título: Toy Story\n",
      "Año: 1995\n",
      "Género: Animation, Adventure, Comedy\n",
      "Director: John Lasseter\n",
      "Actores: Tom Hanks, Tim Allen, Don Rickles\n",
      "Puntuación IMDb: 8.3\n",
      "Sinopsis: A little boy named Andy loves to be in his room, playing with his toys, especially his doll named \"Woody\". But, what do the toys do when Andy is not with them, they come to life. Woody believes that his life (as a toy) is good. However, he must worry about Andy's family moving, and what Woody does not know is about Andy's birthday party. Woody does not realize that Andy's mother gave him an action figure known as Buzz Lightyear, who does not believe that he is a toy, and quickly becomes Andy's new favorite toy. Woody, who is now consumed with jealousy, tries to get rid of Buzz. Then, both Woody and Buzz are now lost. They must find a way to get back to Andy before he moves without them, but they will have to pass through a ruthless toy killer, Sid Phillips.\n"
     ]
    }
   ],
   "source": [
    "api_key = \"fa1b7162\" ##Esto es lo importante, no lo borren ni cambien\n",
    "\n",
    "titulo = \"Toy Story\" ##Aqui se pone cualquier titulo de pelicla y se ejecuta el codigo\n",
    "\n",
    "url = f\"http://www.omdbapi.com/?t={titulo}&apikey={api_key}&plot=full\"\n",
    "\n",
    "response = requests.get(url)\n",
    "data = response.json()\n",
    "\n",
    "if data[\"Response\"] == \"True\":\n",
    "    print(\"Título:\", data[\"Title\"])\n",
    "    print(\"Año:\", data[\"Year\"])\n",
    "    print(\"Género:\", data[\"Genre\"])\n",
    "    print(\"Director:\", data[\"Director\"])\n",
    "    print(\"Actores:\", data[\"Actors\"])\n",
    "    print(\"Puntuación IMDb:\", data[\"imdbRating\"])\n",
    "    print(\"Sinopsis:\", data[\"Plot\"])\n",
    "else:\n",
    "    print(\"Película no encontrada\")"
   ]
  },
  {
   "cell_type": "markdown",
   "id": "1e16bfb3",
   "metadata": {},
   "source": [
    "## Dataset de Amazon que contiene usuario y reseña\n",
    "\n",
    "El problema es que las peliculas son por id y no se puede sacar constantemente de Amazon por que lo bloquea asi que recomiendo cambiar esa columna y asignar aleatoriamente otros id de las que ya tenemos"
   ]
  },
  {
   "cell_type": "code",
   "execution_count": 8,
   "id": "4d45e0d2",
   "metadata": {},
   "outputs": [
    {
     "name": "stdout",
     "output_type": "stream",
     "text": [
      "Descarga completada\n"
     ]
    }
   ],
   "source": [
    "import requests\n",
    "\n",
    "url = \"https://snap.stanford.edu/data/movies.txt.gz\"\n",
    "\n",
    "# Descargar por streaming y guardar en disco\n",
    "with requests.get(url, stream=True) as r:\n",
    "    r.raise_for_status()\n",
    "    with open(\"../data/interim/movies.txt.gz\", \"wb\") as f:\n",
    "        for chunk in r.iter_content(chunk_size=8192):\n",
    "            f.write(chunk)\n",
    "\n",
    "print(\"Descarga completada\")"
   ]
  },
  {
   "cell_type": "markdown",
   "id": "3db3589b",
   "metadata": {},
   "source": [
    "## Dataset de reseñas\n",
    "\n",
    "Para poder ejecutar esto hace falta usuario y clave api en kaggle"
   ]
  },
  {
   "cell_type": "code",
   "execution_count": 9,
   "id": "ae85314b",
   "metadata": {},
   "outputs": [
    {
     "name": "stdout",
     "output_type": "stream",
     "text": [
      "chmod: cannot access '/home/vscode/.kaggle/kaggle.json': No such file or directory\n"
     ]
    }
   ],
   "source": [
    "! chmod 600 ~/.kaggle/kaggle.json"
   ]
  },
  {
   "cell_type": "code",
   "execution_count": 12,
   "id": "502cf4c4",
   "metadata": {},
   "outputs": [
    {
     "name": "stdout",
     "output_type": "stream",
     "text": [
      "Warning: Your Kaggle API key is readable by other users on this system! To fix this, you can run 'chmod 600 ../data/kaggle.json'\n",
      "Dataset URL: https://www.kaggle.com/datasets/luisdiegofv97/imdb-dataset-of-50k-movie-reviews-spanish\n",
      "License(s): other\n",
      "Downloading imdb-dataset-of-50k-movie-reviews-spanish.zip to ../data/interim\n",
      "  0%|                                               | 0.00/52.6M [00:00<?, ?B/s]\n",
      "100%|██████████████████████████████████████| 52.6M/52.6M [00:00<00:00, 1.44GB/s]\n"
     ]
    }
   ],
   "source": [
    "! kaggle datasets download -d luisdiegofv97/imdb-dataset-of-50k-movie-reviews-spanish -p ../data/interim"
   ]
  },
  {
   "cell_type": "code",
   "execution_count": 13,
   "id": "e080e7b8",
   "metadata": {},
   "outputs": [
    {
     "name": "stdout",
     "output_type": "stream",
     "text": [
      "Archive:  ../data/interim/imdb-dataset-of-50k-movie-reviews-spanish.zip\n",
      "  inflating: ../data/interim/imdb-dataset/IMDB Dataset SPANISH.csv  \n"
     ]
    }
   ],
   "source": [
    "! unzip ../data/interim/imdb-dataset-of-50k-movie-reviews-spanish.zip -d ../data/interim/imdb-dataset/"
   ]
  }
 ],
 "metadata": {
  "kernelspec": {
   "display_name": "Python 3",
   "language": "python",
   "name": "python3"
  },
  "language_info": {
   "codemirror_mode": {
    "name": "ipython",
    "version": 3
   },
   "file_extension": ".py",
   "mimetype": "text/x-python",
   "name": "python",
   "nbconvert_exporter": "python",
   "pygments_lexer": "ipython3",
   "version": "3.11.4"
  }
 },
 "nbformat": 4,
 "nbformat_minor": 5
}
