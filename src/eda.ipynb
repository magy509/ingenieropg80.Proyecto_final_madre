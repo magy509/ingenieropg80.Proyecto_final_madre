{
 "cells": [
  {
   "cell_type": "code",
   "execution_count": 2,
   "id": "bb7892ed",
   "metadata": {},
   "outputs": [
    {
     "name": "stdout",
     "output_type": "stream",
     "text": [
      "Librerias cargadas\n"
     ]
    }
   ],
   "source": [
    "import pandas as pd\n",
    "import openpyxl\n",
    "import warnings\n",
    "import os\n",
    "import matplotlib.pyplot as plt \n",
    "import seaborn as sns\n",
    "import utils as eda\n",
    "\n",
    "def warn(*args, **kwargs):\n",
    "    pass\n",
    "warnings.warn = warn\n",
    "warnings.filterwarnings(\"ignore\", category=FutureWarning)\n",
    "print(\"Librerias cargadas\")"
   ]
  },
  {
   "cell_type": "code",
   "execution_count": 3,
   "id": "af0e2709",
   "metadata": {},
   "outputs": [
    {
     "name": "stdout",
     "output_type": "stream",
     "text": [
      "Dataset Extraido\n"
     ]
    }
   ],
   "source": [
    "#movies = pd.read_csv(\"../data/interim/movies-data/ml-32m/movies.csv\")\n",
    "#tags = pd.read_csv(\"../data/interim/movies-data/ml-32m/tags.csv\")\n",
    "ratings = pd.read_csv(\"../data/interim/movies-data/ml-32m/ratings.csv\")\n",
    "print(\"Dataset Extraido\")\n"
   ]
  },
  {
   "cell_type": "markdown",
   "id": "55b6a8e1",
   "metadata": {},
   "source": [
    "# Cargamos Librerías"
   ]
  },
  {
   "cell_type": "code",
   "execution_count": 4,
   "id": "60146a6c",
   "metadata": {},
   "outputs": [
    {
     "name": "stdout",
     "output_type": "stream",
     "text": [
      "Variables numéricas: ['userId', 'movieId', 'rating', 'timestamp']\n",
      "Variables no numéricas: []\n",
      "\n",
      "Shape del dataset: (32000204, 4)\n",
      "\n",
      "Información del dataset:\n",
      "<class 'pandas.core.frame.DataFrame'>\n",
      "RangeIndex: 32000204 entries, 0 to 32000203\n",
      "Data columns (total 4 columns):\n",
      " #   Column     Dtype  \n",
      "---  ------     -----  \n",
      " 0   userId     int64  \n",
      " 1   movieId    int64  \n",
      " 2   rating     float64\n",
      " 3   timestamp  int64  \n",
      "dtypes: float64(1), int64(3)\n",
      "memory usage: 976.6 MB\n",
      "None\n",
      "\n",
      "Valores nulos por columna:\n",
      "userId       0\n",
      "movieId      0\n",
      "rating       0\n",
      "timestamp    0\n",
      "dtype: int64\n",
      "\n",
      "Filas duplicadas:\n",
      "Empty DataFrame\n",
      "Columns: [userId, movieId, rating, timestamp]\n",
      "Index: []\n"
     ]
    }
   ],
   "source": [
    "target='rating'\n",
    "eda.analisis(ratings) #Primer contacto cn dataset ratings\n"
   ]
  },
  {
   "cell_type": "markdown",
   "id": "3080e5ed",
   "metadata": {},
   "source": [
    "Analisis de resultados :\n",
    "1. Dataset sin filas completamente duplicadas.\n",
    "2. Dataset Sin valores nulos \n"
   ]
  },
  {
   "cell_type": "code",
   "execution_count": 5,
   "id": "07e01163",
   "metadata": {},
   "outputs": [
    {
     "name": "stdout",
     "output_type": "stream",
     "text": [
      "RANGO TEMPORAL:\n",
      "Fecha más antigua: 1995-01-09 11:46:44\n",
      "Fecha más reciente: 2023-10-13 02:29:07\n",
      "Años cubiertos: 1995 - 2023\n",
      "\n",
      "==================================================\n"
     ]
    },
    {
     "data": {
      "text/html": [
       "<div>\n",
       "<style scoped>\n",
       "    .dataframe tbody tr th:only-of-type {\n",
       "        vertical-align: middle;\n",
       "    }\n",
       "\n",
       "    .dataframe tbody tr th {\n",
       "        vertical-align: top;\n",
       "    }\n",
       "\n",
       "    .dataframe thead th {\n",
       "        text-align: right;\n",
       "    }\n",
       "</style>\n",
       "<table border=\"1\" class=\"dataframe\">\n",
       "  <thead>\n",
       "    <tr style=\"text-align: right;\">\n",
       "      <th></th>\n",
       "      <th>userId</th>\n",
       "      <th>movieId</th>\n",
       "      <th>rating</th>\n",
       "      <th>timestamp</th>\n",
       "      <th>datetime</th>\n",
       "      <th>year</th>\n",
       "    </tr>\n",
       "  </thead>\n",
       "  <tbody>\n",
       "    <tr>\n",
       "      <th>0</th>\n",
       "      <td>1</td>\n",
       "      <td>17</td>\n",
       "      <td>4.0</td>\n",
       "      <td>944249077</td>\n",
       "      <td>1999-12-03 19:24:37</td>\n",
       "      <td>1999</td>\n",
       "    </tr>\n",
       "    <tr>\n",
       "      <th>1</th>\n",
       "      <td>1</td>\n",
       "      <td>25</td>\n",
       "      <td>1.0</td>\n",
       "      <td>944250228</td>\n",
       "      <td>1999-12-03 19:43:48</td>\n",
       "      <td>1999</td>\n",
       "    </tr>\n",
       "    <tr>\n",
       "      <th>2</th>\n",
       "      <td>1</td>\n",
       "      <td>29</td>\n",
       "      <td>2.0</td>\n",
       "      <td>943230976</td>\n",
       "      <td>1999-11-22 00:36:16</td>\n",
       "      <td>1999</td>\n",
       "    </tr>\n",
       "    <tr>\n",
       "      <th>3</th>\n",
       "      <td>1</td>\n",
       "      <td>30</td>\n",
       "      <td>5.0</td>\n",
       "      <td>944249077</td>\n",
       "      <td>1999-12-03 19:24:37</td>\n",
       "      <td>1999</td>\n",
       "    </tr>\n",
       "    <tr>\n",
       "      <th>4</th>\n",
       "      <td>1</td>\n",
       "      <td>32</td>\n",
       "      <td>5.0</td>\n",
       "      <td>943228858</td>\n",
       "      <td>1999-11-22 00:00:58</td>\n",
       "      <td>1999</td>\n",
       "    </tr>\n",
       "  </tbody>\n",
       "</table>\n",
       "</div>"
      ],
      "text/plain": [
       "   userId  movieId  rating  timestamp            datetime  year\n",
       "0       1       17     4.0  944249077 1999-12-03 19:24:37  1999\n",
       "1       1       25     1.0  944250228 1999-12-03 19:43:48  1999\n",
       "2       1       29     2.0  943230976 1999-11-22 00:36:16  1999\n",
       "3       1       30     5.0  944249077 1999-12-03 19:24:37  1999\n",
       "4       1       32     5.0  943228858 1999-11-22 00:00:58  1999"
      ]
     },
     "execution_count": 5,
     "metadata": {},
     "output_type": "execute_result"
    }
   ],
   "source": [
    "# Convertir timestamp a fecha legible\n",
    "ratings['datetime'] = pd.to_datetime(ratings['timestamp'], unit='s')\n",
    "ratings['year'] = ratings['datetime'].dt.year\n",
    "\n",
    "print(\"RANGO TEMPORAL:\")\n",
    "print(f\"Fecha más antigua: {ratings['datetime'].min()}\")\n",
    "print(f\"Fecha más reciente: {ratings['datetime'].max()}\")\n",
    "print(f\"Años cubiertos: {ratings['year'].min()} - {ratings['year'].max()}\")\n",
    "print(\"\\n\" + \"=\"*50)\n",
    "ratings.head()\n"
   ]
  },
  {
   "cell_type": "code",
   "execution_count": 6,
   "id": "54f20bc6",
   "metadata": {},
   "outputs": [
    {
     "name": "stdout",
     "output_type": "stream",
     "text": [
      "   userId  movieId  rating            datetime  year\n",
      "0       1       17     4.0 1999-12-03 19:24:37  1999\n",
      "1       1       25     1.0 1999-12-03 19:43:48  1999\n",
      "2       1       29     2.0 1999-11-22 00:36:16  1999\n",
      "3       1       30     5.0 1999-12-03 19:24:37  1999\n",
      "4       1       32     5.0 1999-11-22 00:00:58  1999\n"
     ]
    }
   ],
   "source": [
    "# elimina la columna timestamp\n",
    "ratings.drop(columns=['timestamp'], inplace=True)\n",
    "\n",
    "# Verificar\n",
    "print(ratings.head())"
   ]
  },
  {
   "cell_type": "code",
   "execution_count": null,
   "id": "4f7fc79e",
   "metadata": {},
   "outputs": [
    {
     "name": "stdout",
     "output_type": "stream",
     "text": [
      "VALORES ÚNICOS:\n",
      "Usuarios únicos: 200,948\n",
      "Películas únicas: 84,432\n"
     ]
    }
   ],
   "source": [
    "# Análisis de valores únicos\n",
    "print(\"VALORES ÚNICOS:\")\n",
    "print(f\"Usuarios únicos: {ratings['userId'].nunique():,}\")\n",
    "print(f\"Películas únicas: {ratings['movieId'].nunique():,}\")"
   ]
  },
  {
   "cell_type": "code",
   "execution_count": null,
   "id": "c1b4a9b3",
   "metadata": {},
   "outputs": [
    {
     "name": "stdout",
     "output_type": "stream",
     "text": [
      " DISTRIBUCIÓN DE ACTIVIDAD DE USUARIOS:\n",
      "Usuario más activo: 33332 ratings\n",
      "Usuario menos activo: 20 ratings\n",
      "Mediana de ratings por usuario: 73.0\n",
      "\n"
     ]
    }
   ],
   "source": [
    "# Distribución de ratings por usuario\n",
    "user_rating_counts = ratings['userId'].value_counts()\n",
    "print(\" DISTRIBUCIÓN DE ACTIVIDAD DE USUARIOS:\")\n",
    "print(f\"Usuario más activo: {user_rating_counts.max()} ratings\")\n",
    "print(f\"Usuario menos activo: {user_rating_counts.min()} ratings\")\n",
    "print(f\"Mediana de ratings por usuario: {user_rating_counts.median()}\")"
   ]
  },
  {
   "cell_type": "code",
   "execution_count": null,
   "id": "9608a0c1",
   "metadata": {},
   "outputs": [
    {
     "name": "stdout",
     "output_type": "stream",
     "text": [
      " DISTRIBUCIÓN DE POPULARIDAD DE PELÍCULAS:\n",
      "Película más valorada: 102929 ratings\n",
      "Película menos valorada: 1 ratings\n",
      "Mediana de ratings por película: 5.0\n"
     ]
    }
   ],
   "source": [
    "# Distribución de ratings por película\n",
    "movie_rating_counts = ratings['movieId'].value_counts()\n",
    "print(\" DISTRIBUCIÓN DE POPULARIDAD DE PELÍCULAS:\")\n",
    "print(f\"Película más valorada: {movie_rating_counts.max()} ratings\")\n",
    "print(f\"Película menos valorada: {movie_rating_counts.min()} ratings\")\n",
    "print(f\"Mediana de ratings por película: {movie_rating_counts.median()}\")"
   ]
  }
 ],
 "metadata": {
  "kernelspec": {
   "display_name": "Python 3",
   "language": "python",
   "name": "python3"
  },
  "language_info": {
   "codemirror_mode": {
    "name": "ipython",
    "version": 3
   },
   "file_extension": ".py",
   "mimetype": "text/x-python",
   "name": "python",
   "nbconvert_exporter": "python",
   "pygments_lexer": "ipython3",
   "version": "3.11.4"
  }
 },
 "nbformat": 4,
 "nbformat_minor": 5
}
