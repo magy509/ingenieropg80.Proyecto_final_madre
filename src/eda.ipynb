{
 "cells": [
  {
   "cell_type": "code",
   "execution_count": 3,
   "id": "bb7892ed",
   "metadata": {},
   "outputs": [],
   "source": [
    "# Cargamos Librerías"
   ]
  },
  {
   "cell_type": "code",
   "execution_count": 4,
   "id": "98016ec1",
   "metadata": {},
   "outputs": [
    {
     "name": "stdout",
     "output_type": "stream",
     "text": [
      "Librerias cargadas\n"
     ]
    }
   ],
   "source": [
    "import pandas as pd\n",
    "import openpyxl\n",
    "import warnings\n",
    "import os\n",
    "import matplotlib.pyplot as plt \n",
    "import seaborn as sns\n",
    "import utils as eda\n",
    "import numpy as np\n",
    "\n",
    "def warn(*args, **kwargs):\n",
    "    pass\n",
    "warnings.warn = warn\n",
    "#warnings.filterwarnings(\"ignore\", category=FutureWarning)\n",
    "print(\"Librerias cargadas\")"
   ]
  },
  {
   "cell_type": "code",
   "execution_count": 5,
   "id": "af0e2709",
   "metadata": {},
   "outputs": [
    {
     "ename": "NameError",
     "evalue": "name 'movies' is not defined",
     "output_type": "error",
     "traceback": [
      "\u001b[31m---------------------------------------------------------------------------\u001b[39m",
      "\u001b[31mNameError\u001b[39m                                 Traceback (most recent call last)",
      "\u001b[36mCell\u001b[39m\u001b[36m \u001b[39m\u001b[32mIn[5]\u001b[39m\u001b[32m, line 1\u001b[39m\n\u001b[32m----> \u001b[39m\u001b[32m1\u001b[39m eda.analisis(\u001b[43mmovies\u001b[49m)\n",
      "\u001b[31mNameError\u001b[39m: name 'movies' is not defined"
     ]
    }
   ],
   "source": [
    "eda.analisis(movies)"
   ]
  },
  {
   "cell_type": "markdown",
   "id": "f8a27e2c",
   "metadata": {},
   "source": [
    "El dataset de películas, *movies*, contiene 3 variables: una variable numérica y dos variables categóricas. Hay 87585  registros en total, sin valores nulos."
   ]
  },
  {
   "cell_type": "markdown",
   "id": "80660e3e",
   "metadata": {},
   "source": [
    "## Eliminar Duplicados\n",
    "\n",
    "Verificamos, para cada dataset, si existen duplicados."
   ]
  }
 ],
 "metadata": {
  "kernelspec": {
   "display_name": "Python 3",
   "language": "python",
   "name": "python3"
  },
  "language_info": {
   "codemirror_mode": {
    "name": "ipython",
    "version": 3
   },
   "file_extension": ".py",
   "mimetype": "text/x-python",
   "name": "python",
   "nbconvert_exporter": "python",
   "pygments_lexer": "ipython3",
   "version": "3.11.4"
  }
 },
 "nbformat": 4,
 "nbformat_minor": 5
}
