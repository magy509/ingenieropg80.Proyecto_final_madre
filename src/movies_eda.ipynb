{
 "cells": [
  {
   "cell_type": "markdown",
   "id": "1de9f837",
   "metadata": {},
   "source": [
    "# 1. Cargar Librerías"
   ]
  },
  {
   "cell_type": "code",
   "execution_count": null,
   "id": "98016ec1",
   "metadata": {},
   "outputs": [],
   "source": [
    "import warnings\n",
    "import os\n",
    "import pandas as pd \n",
    "import numpy as np \n",
    "import seaborn as sns \n",
    "import matplotlib.pyplot as plt \n",
    "import datasets as ds\n",
    "import math\n",
    "import utils as ut\n",
    "import pickle\n",
    "\n",
    "from sklearn.model_selection import train_test_split\n",
    "from sklearn.feature_extraction.text import CountVectorizer\n",
    "from sklearn.naive_bayes import MultinomialNB\n",
    "from sklearn.metrics import accuracy_score\n",
    "from sklearn.pipeline import Pipeline\n",
    "from sklearn.model_selection import RandomizedSearchCV\n",
    "from sklearn.linear_model import LogisticRegression\n",
    "from sklearn.preprocessing import MultiLabelBinarizer, LabelEncoder\n",
    "\n",
    "def warn(*args, **kwargs):\n",
    "    pass\n",
    "warnings.warn = warn\n",
    "warnings.filterwarnings(\"ignore\", category=FutureWarning)"
   ]
  },
  {
   "cell_type": "markdown",
   "id": "823accbe",
   "metadata": {},
   "source": [
    "# 2. Cargar los Dataset"
   ]
  },
  {
   "cell_type": "code",
   "execution_count": null,
   "id": "b3b1738e",
   "metadata": {},
   "outputs": [],
   "source": [
    "movies_df = pd.read_csv(\"../data/raw/rotten_tomatoes_movies.csv\")\n",
    "\n",
    "movies_df.head()"
   ]
  },
  {
   "cell_type": "code",
   "execution_count": null,
   "id": "5dd1fcc6",
   "metadata": {},
   "outputs": [],
   "source": [
    "critics_df = pd.read_csv(\"../data/raw/rotten_tomatoes_critic_reviews.csv\")\n",
    "\n",
    "critics_df.head()"
   ]
  },
  {
   "cell_type": "code",
   "execution_count": null,
   "id": "af0e2709",
   "metadata": {},
   "outputs": [],
   "source": [
    "ut.analisis(movies_df)"
   ]
  },
  {
   "cell_type": "code",
   "execution_count": null,
   "id": "a3b03cad",
   "metadata": {},
   "outputs": [],
   "source": [
    "ut.analisis(critics_df)"
   ]
  },
  {
   "cell_type": "markdown",
   "id": "633c5348",
   "metadata": {},
   "source": [
    "El dataset de películas, ***movies_df***, contiene 22 variables: 8 variable numéricas y 14 variables categóricas.\n",
    "\n",
    "- rotten_tomatoes_link: Identificador o enlace único de la película en Rotten Tomatoes.\n",
    "- movie_title: Título de la película.\n",
    "- movie_info: Información general (sinopsis, detalles adicionales).\n",
    "- critics_consensus: Resumen del consenso de los críticos.\n",
    "- content_rating: Clasificación de la película (PG, R, etc.).\n",
    "- genres: Género(s) de la película.\n",
    "- directors: Director(es) de la película.\n",
    "- authors: Críticos o autores asociados.\n",
    "- actors: Actores principales.\n",
    "- original_release_date: Fecha de estreno original.\n",
    "- streaming_release_date: Fecha de estreno en plataformas digitales.\n",
    "- runtime: Duración de la película (minutos).\n",
    "- production_company: Productora responsable.\n",
    "- tomatometer_status: Estado en el Tomatometer (Certified Fresh, Fresh, Rotten).\n",
    "- tomatometer_rating: Puntuación promedio de críticos.\n",
    "- tomatometer_count: Número de críticas registradas.\n",
    "- audience_status: Estado de la audiencia (Upright/Spilled).\n",
    "- audience_rating: Puntuación promedio de la audiencia.\n",
    "- audience_count: Número de valoraciones de la audiencia.\n",
    "- tomatometer_top_critics_count: Número de críticas de críticos top.\n",
    "- tomatometer_fresh_critics_count: Cantidad de críticas positivas.\n",
    "- tomatometer_rotten_critics_count: Cantidad de críticas negativas.\n"
   ]
  },
  {
   "cell_type": "markdown",
   "id": "833c8693",
   "metadata": {},
   "source": [
    "El dataset de reseñas, ***critics_df***, contiene 8 variables categóricas.\n",
    "\n",
    "- rotten_tomatoes_link: Sirve como identificador de la película\n",
    "- critic_name: Nombre del critico que comento la película\n",
    "- top_critic: Valor booleano que aclara si el crítico es un crítico destacado o no\n",
    "- publisher_name: nombre de la editorial para la que trabaja el crítico\n",
    "- review_type: Determina si la reseña es positiva (fresh) o negativa (rotten)\n",
    "- review_score: Puntaje proporcionado por el crítico\n",
    "- review_date: Fecha de la reseña\n",
    "- review_content: Contenido de la reseña"
   ]
  },
  {
   "cell_type": "markdown",
   "id": "dbb03aee",
   "metadata": {},
   "source": [
    "# 2. Exploración y limpieza"
   ]
  },
  {
   "cell_type": "markdown",
   "id": "f2e89938",
   "metadata": {},
   "source": [
    "### 2.1 Comprensión de Datos"
   ]
  },
  {
   "cell_type": "code",
   "execution_count": null,
   "id": "7c411e48",
   "metadata": {},
   "outputs": [],
   "source": [
    "print(f'El dataframe movies_df contiene {movies_df.shape[0]} filas y {movies_df.shape[1]} columnas.')"
   ]
  },
  {
   "cell_type": "code",
   "execution_count": null,
   "id": "bc55da80",
   "metadata": {},
   "outputs": [],
   "source": [
    "print(f'El dataframe critics_df contiene {critics_df.shape[0]} filas y {critics_df.shape[1]} columnas.')"
   ]
  },
  {
   "cell_type": "markdown",
   "id": "298acde9",
   "metadata": {},
   "source": [
    "### 2.2 Identificando nulos y duplicados"
   ]
  },
  {
   "cell_type": "code",
   "execution_count": null,
   "id": "d6a6b745",
   "metadata": {},
   "outputs": [],
   "source": [
    "movies_df.info()"
   ]
  },
  {
   "cell_type": "code",
   "execution_count": null,
   "id": "e7a48915",
   "metadata": {},
   "outputs": [],
   "source": [
    "print(movies_df.isnull().sum())\n",
    "\n",
    "print(\"Duplicados:\", movies_df.duplicated().sum())"
   ]
  },
  {
   "cell_type": "code",
   "execution_count": null,
   "id": "4890f421",
   "metadata": {},
   "outputs": [],
   "source": [
    "movies_df = movies_df.drop_duplicates()"
   ]
  },
  {
   "cell_type": "code",
   "execution_count": null,
   "id": "5417509d",
   "metadata": {},
   "outputs": [],
   "source": [
    "critics_df.info()"
   ]
  },
  {
   "cell_type": "code",
   "execution_count": null,
   "id": "eb27806f",
   "metadata": {},
   "outputs": [],
   "source": [
    "print(critics_df.isnull().sum())\n",
    "\n",
    "print(\"Duplicados:\", critics_df.duplicated().sum())"
   ]
  },
  {
   "cell_type": "code",
   "execution_count": null,
   "id": "36e96921",
   "metadata": {},
   "outputs": [],
   "source": [
    "critics_df = critics_df.drop_duplicates()\n",
    "critics_df = critics_df.dropna(subset=['review_content'])"
   ]
  },
  {
   "cell_type": "markdown",
   "id": "dfcc5c44",
   "metadata": {},
   "source": [
    "- Los nulos en el nombre del crítico se contrastan con el de publisher name asi que no es grave y se puede mantener\n",
    "- El de review score se compensa con el de review type ya que determina si es util o no\n",
    "- El de texto si es necesario arreglarlo para cuando se haga el NLP"
   ]
  },
  {
   "cell_type": "markdown",
   "id": "d231cb24",
   "metadata": {},
   "source": [
    "### 2.3 Eliminar Información Irrelevante"
   ]
  },
  {
   "cell_type": "code",
   "execution_count": null,
   "id": "b45cb730",
   "metadata": {},
   "outputs": [],
   "source": [
    "critics = critics_df.copy().drop(columns=['review_date', 'review_score', 'critic_name'])\n",
    "\n",
    "critics.head()"
   ]
  },
  {
   "cell_type": "markdown",
   "id": "bd18b1bb",
   "metadata": {},
   "source": [
    "- La fecha no es relevante para el estudio.\n",
    "- El puntaje tiene sus nulos, además de que ya hay un boolean que dice si la reseña será positiva o negativa.\n",
    "- El nombre del crítico no hace falta si ya está el de la editorial que lo publica."
   ]
  },
  {
   "cell_type": "markdown",
   "id": "8af58623",
   "metadata": {},
   "source": [
    "### 2.4 Crear Listas\n",
    "Para poder hacer un mejor análisis de los datos, por cada columna que tenga varios valores, crearemos una lista de esos valores."
   ]
  },
  {
   "cell_type": "code",
   "execution_count": null,
   "id": "27354a45",
   "metadata": {},
   "outputs": [],
   "source": [
    "movies = movies_df.copy()"
   ]
  },
  {
   "cell_type": "markdown",
   "id": "03f890a5",
   "metadata": {},
   "source": [
    "#### Géneros"
   ]
  },
  {
   "cell_type": "code",
   "execution_count": null,
   "id": "12fb20b7",
   "metadata": {},
   "outputs": [],
   "source": [
    "movies[\"genres\"] = movies[\"genres\"].str.split(\",\")\n",
    "\n",
    "movies[\"genres\"] = movies[\"genres\"].apply(\n",
    "    lambda lst: [g.strip() for g in lst] if isinstance(lst, list) else []\n",
    ")"
   ]
  },
  {
   "cell_type": "markdown",
   "id": "32c9b760",
   "metadata": {},
   "source": [
    "#### Directores"
   ]
  },
  {
   "cell_type": "code",
   "execution_count": null,
   "id": "20c48094",
   "metadata": {},
   "outputs": [],
   "source": [
    "movies[\"directors\"] = movies[\"directors\"].str.split(\",\")\n",
    "\n",
    "movies[\"directors\"] = movies[\"directors\"].apply(\n",
    "    lambda lst: [g.strip() for g in lst] if isinstance(lst, list) else []\n",
    ")"
   ]
  },
  {
   "cell_type": "markdown",
   "id": "34ca1a50",
   "metadata": {},
   "source": [
    "#### Autores"
   ]
  },
  {
   "cell_type": "code",
   "execution_count": null,
   "id": "5f354757",
   "metadata": {},
   "outputs": [],
   "source": [
    "movies[\"authors\"] = movies[\"authors\"].str.split(\",\")\n",
    "\n",
    "movies[\"authors\"] = movies[\"authors\"].apply(\n",
    "    lambda lst: [g.strip() for g in lst] if isinstance(lst, list) else []\n",
    ")"
   ]
  },
  {
   "cell_type": "markdown",
   "id": "12a40593",
   "metadata": {},
   "source": [
    "#### Actores"
   ]
  },
  {
   "cell_type": "code",
   "execution_count": null,
   "id": "adf1142e",
   "metadata": {},
   "outputs": [],
   "source": [
    "movies[\"actors\"] = movies[\"actors\"].str.split(\",\")\n",
    "\n",
    "movies[\"actors\"] = movies[\"actors\"].apply(\n",
    "    lambda lst: [g.strip() for g in lst] if isinstance(lst, list) else []\n",
    ")"
   ]
  },
  {
   "cell_type": "markdown",
   "id": "df3821d9",
   "metadata": {},
   "source": [
    "### 2.5 Nuevos Datasets\n",
    "Para las listas creadas previamente, crearemos nuevos datasets en el que cada fila corresponda a un elemento de la lista. Con estos datasets haremos un análisis univariante de esas variables."
   ]
  },
  {
   "cell_type": "code",
   "execution_count": null,
   "id": "010e3868",
   "metadata": {},
   "outputs": [],
   "source": [
    "movie_genre = movies.explode(\"genres\").reset_index(drop=True)\n",
    "\n",
    "movie_genre = movie_genre.rename(columns={\"genres\": \"genre\"})\n",
    "\n",
    "movie_genre = movie_genre[[\"rotten_tomatoes_link\", \"genre\"]].drop_duplicates()"
   ]
  },
  {
   "cell_type": "code",
   "execution_count": null,
   "id": "371f0137",
   "metadata": {},
   "outputs": [],
   "source": [
    "movie_genre.head()"
   ]
  },
  {
   "cell_type": "markdown",
   "id": "34024a4d",
   "metadata": {},
   "source": [
    "#### Directores"
   ]
  },
  {
   "cell_type": "code",
   "execution_count": null,
   "id": "3d7233af",
   "metadata": {},
   "outputs": [],
   "source": [
    "movie_director = movies.explode(\"directors\").reset_index(drop=True)\n",
    "\n",
    "movie_director = movie_director.rename(columns={\"directors\": \"director\"})\n",
    "\n",
    "movie_director = movie_director[[\"rotten_tomatoes_link\", \"director\"]].drop_duplicates()"
   ]
  },
  {
   "cell_type": "code",
   "execution_count": null,
   "id": "2d6d4ade",
   "metadata": {},
   "outputs": [],
   "source": [
    "movie_director.head()"
   ]
  },
  {
   "cell_type": "markdown",
   "id": "e9c91acc",
   "metadata": {},
   "source": [
    "#### Autores"
   ]
  },
  {
   "cell_type": "code",
   "execution_count": null,
   "id": "021263c0",
   "metadata": {},
   "outputs": [],
   "source": [
    "movie_author = movies.explode(\"authors\").reset_index(drop=True)\n",
    "\n",
    "movie_author = movie_author.rename(columns={\"authors\": \"author\"})\n",
    "\n",
    "movie_author = movie_author[[\"rotten_tomatoes_link\", \"author\"]].drop_duplicates()"
   ]
  },
  {
   "cell_type": "code",
   "execution_count": null,
   "id": "ca0a514e",
   "metadata": {},
   "outputs": [],
   "source": [
    "movie_author.head()"
   ]
  },
  {
   "cell_type": "markdown",
   "id": "d2183596",
   "metadata": {},
   "source": [
    "#### Actores"
   ]
  },
  {
   "cell_type": "code",
   "execution_count": null,
   "id": "bd67c99f",
   "metadata": {},
   "outputs": [],
   "source": [
    "movie_actor = movies.explode(\"actors\").reset_index(drop=True)\n",
    "\n",
    "movie_actor = movie_actor.rename(columns={\"actors\": \"actor\"})\n",
    "\n",
    "movie_actor = movie_actor[[\"rotten_tomatoes_link\", \"actor\"]].drop_duplicates()"
   ]
  },
  {
   "cell_type": "code",
   "execution_count": null,
   "id": "1c4bcafe",
   "metadata": {},
   "outputs": [],
   "source": [
    "movie_actor.head()"
   ]
  },
  {
   "cell_type": "markdown",
   "id": "56b474c2",
   "metadata": {},
   "source": [
    "### 2.6 Transformamos las fechas en un formato que nos pueda servir para el análisis"
   ]
  },
  {
   "cell_type": "code",
   "execution_count": null,
   "id": "c183757e",
   "metadata": {},
   "outputs": [],
   "source": [
    "movies[\"original_release_date\"] = pd.to_datetime(movies[\"original_release_date\"], errors=\"coerce\")\n",
    "\n",
    "#movies[\"release_timestamp\"] = movies[\"original_release_date\"].astype(\"int64\") // 10**9\n",
    "\n",
    "movies[\"release_year\"] = movies['original_release_date'].dt.year\n",
    "\n",
    "movies[\"release_year\"] = movies[\"release_year\"].fillna(0).astype(int)"
   ]
  },
  {
   "cell_type": "code",
   "execution_count": null,
   "id": "40ccd095",
   "metadata": {},
   "outputs": [],
   "source": [
    "movies[\"streaming_release_date\"] = pd.to_datetime(movies[\"streaming_release_date\"], errors=\"coerce\")\n",
    "\n",
    "#movies[\"streaming_timestamp\"] = movies[\"streaming_release_date\"].astype(\"int64\") // 10**9\n",
    "\n",
    "movies[\"streaming_release_year\"] = movies['streaming_release_date'].dt.year\n",
    "\n",
    "movies[\"streaming_release_year\"] = movies[\"streaming_release_year\"].fillna(0).astype(int)"
   ]
  },
  {
   "cell_type": "code",
   "execution_count": null,
   "id": "f117bc56",
   "metadata": {},
   "outputs": [],
   "source": [
    "movies.drop(columns=[\"original_release_date\", \"streaming_release_date\"], inplace=True)"
   ]
  },
  {
   "cell_type": "markdown",
   "id": "104ba74c",
   "metadata": {},
   "source": [
    "## 3. Análisis Univariante"
   ]
  },
  {
   "cell_type": "markdown",
   "id": "cc42bfc0",
   "metadata": {},
   "source": [
    "### 3.1 Variables Numéricas"
   ]
  },
  {
   "cell_type": "code",
   "execution_count": null,
   "id": "d95a5014",
   "metadata": {},
   "outputs": [],
   "source": [
    "fig, axis = plt.subplots(1, 2, figsize=(8, 4))\n",
    "\n",
    "# runtime\n",
    "sns.histplot(ax = axis[0], data = movies, x = \"runtime\")\n",
    "sns.boxplot(ax = axis[1], data = movies, x = \"runtime\")\n",
    "\n",
    "plt.tight_layout()\n",
    "plt.show()"
   ]
  },
  {
   "cell_type": "code",
   "execution_count": null,
   "id": "14fa58fd",
   "metadata": {},
   "outputs": [],
   "source": [
    "fig, axis = plt.subplots(1, 2, figsize=(8, 4))\n",
    "\n",
    "# tomatometer_rating\n",
    "sns.histplot(ax = axis[0], data = movies, x = \"tomatometer_rating\")\n",
    "sns.boxplot(ax = axis[1], data = movies, x = \"tomatometer_rating\")\n",
    "\n",
    "plt.tight_layout()\n",
    "plt.show()"
   ]
  },
  {
   "cell_type": "code",
   "execution_count": null,
   "id": "e2fcf299",
   "metadata": {},
   "outputs": [],
   "source": [
    "fig, axis = plt.subplots(1, 2, figsize=(8, 4))\n",
    "\n",
    "# tomatometer_count\n",
    "sns.histplot(ax = axis[0], data = movies, x = \"tomatometer_count\")\n",
    "sns.boxplot(ax = axis[1], data = movies, x = \"tomatometer_count\")\n",
    "\n",
    "plt.tight_layout()\n",
    "plt.show()"
   ]
  },
  {
   "cell_type": "code",
   "execution_count": null,
   "id": "22d6a19f",
   "metadata": {},
   "outputs": [],
   "source": [
    "fig, axis = plt.subplots(1, 2, figsize=(8, 4))\n",
    "\n",
    "# audience_rating\n",
    "sns.histplot(ax = axis[0], data = movies, x = \"audience_rating\")\n",
    "sns.boxplot(ax = axis[1], data = movies, x = \"audience_rating\")\n",
    "\n",
    "plt.tight_layout()\n",
    "plt.show()"
   ]
  },
  {
   "cell_type": "code",
   "execution_count": null,
   "id": "a48f4bc1",
   "metadata": {},
   "outputs": [],
   "source": [
    "fig, axis = plt.subplots(1, 2, figsize=(8, 4))\n",
    "\n",
    "# audience_count\n",
    "sns.histplot(ax = axis[0], data = movies, x = \"audience_count\")\n",
    "sns.boxplot(ax = axis[1], data = movies, x = \"audience_count\")\n",
    "\n",
    "plt.tight_layout()\n",
    "plt.show()"
   ]
  },
  {
   "cell_type": "code",
   "execution_count": null,
   "id": "9279c1da",
   "metadata": {},
   "outputs": [],
   "source": [
    "fig, axis = plt.subplots(1, 2, figsize=(8, 4))\n",
    "\n",
    "# tomatometer_top_critics_count\n",
    "sns.histplot(ax = axis[0], data = movies, x = \"tomatometer_top_critics_count\")\n",
    "sns.boxplot(ax = axis[1], data = movies, x = \"tomatometer_top_critics_count\")\n",
    "\n",
    "plt.tight_layout()\n",
    "plt.show()"
   ]
  },
  {
   "cell_type": "code",
   "execution_count": null,
   "id": "ee703d1b",
   "metadata": {},
   "outputs": [],
   "source": [
    "fig, axis = plt.subplots(1, 2, figsize=(8, 4))\n",
    "\n",
    "# tomatometer_fresh_critics_count\n",
    "sns.histplot(ax = axis[0], data = movies, x = \"tomatometer_fresh_critics_count\")\n",
    "sns.boxplot(ax = axis[1], data = movies, x = \"tomatometer_fresh_critics_count\")\n",
    "\n",
    "plt.tight_layout()\n",
    "plt.show()"
   ]
  },
  {
   "cell_type": "code",
   "execution_count": null,
   "id": "3272b44b",
   "metadata": {},
   "outputs": [],
   "source": [
    "fig, axis = plt.subplots(1, 2, figsize=(8, 4))\n",
    "\n",
    "# tomatometer_rotten_critics_count\n",
    "sns.histplot(ax = axis[0], data = movies, x = \"tomatometer_rotten_critics_count\")\n",
    "sns.boxplot(ax = axis[1], data = movies, x = \"tomatometer_rotten_critics_count\")\n",
    "\n",
    "plt.tight_layout()\n",
    "plt.show()"
   ]
  },
  {
   "cell_type": "code",
   "execution_count": null,
   "id": "39e455e5",
   "metadata": {},
   "outputs": [],
   "source": [
    "fig, axis = plt.subplots(1, 2, figsize=(8, 4))\n",
    "\n",
    "# year\n",
    "sns.histplot(ax = axis[0], data = movies[movies[\"release_year\"] > 0], x = \"release_year\")\n",
    "sns.boxplot(ax = axis[1], data = movies[movies[\"release_year\"] > 0], x = \"release_year\")\n",
    "\n",
    "plt.tight_layout()\n",
    "plt.show()"
   ]
  },
  {
   "cell_type": "code",
   "execution_count": null,
   "id": "25ff6ce3",
   "metadata": {},
   "outputs": [],
   "source": [
    "fig, axis = plt.subplots(1, 2, figsize=(8, 4))\n",
    "\n",
    "# year\n",
    "sns.histplot(ax = axis[0], data = movies[movies[\"streaming_release_year\"] > 0], x = \"streaming_release_year\")\n",
    "sns.boxplot(ax = axis[1], data = movies[movies[\"streaming_release_year\"] > 0], x = \"streaming_release_year\")\n",
    "\n",
    "plt.tight_layout()\n",
    "plt.show()"
   ]
  },
  {
   "cell_type": "markdown",
   "id": "18d30658",
   "metadata": {},
   "source": [
    "### 3.2 Variables Categóricas"
   ]
  },
  {
   "cell_type": "code",
   "execution_count": null,
   "id": "f08e4580",
   "metadata": {},
   "outputs": [],
   "source": [
    "#Genres\n",
    "plt.figure(figsize=(12, 6))\n",
    "ax = sns.countplot(\n",
    "    data=movie_genre,\n",
    "    x=\"genre\",\n",
    "    order=movie_genre[\"genre\"].value_counts().index,\n",
    "    palette=\"Set2\"\n",
    ")\n",
    "\n",
    "plt.title(\"Distribución por Género\")\n",
    "ax.tick_params(axis='x', rotation=90, labelsize=8)\n",
    "plt.tight_layout()\n",
    "plt.show()"
   ]
  },
  {
   "cell_type": "code",
   "execution_count": null,
   "id": "93eb843e",
   "metadata": {},
   "outputs": [],
   "source": [
    "#Directors\n",
    "plt.figure(figsize=(12, 6))\n",
    "ax = sns.countplot(\n",
    "    data=movie_director,\n",
    "    x=\"director\",\n",
    "    order=movie_director[\"director\"].value_counts().index,\n",
    "    palette=\"Set2\"\n",
    ")\n",
    "\n",
    "plt.title(\"Distribución por Directores\")\n",
    "ax.tick_params(axis='x', rotation=90, labelsize=8)\n",
    "plt.tight_layout()\n",
    "plt.show()"
   ]
  },
  {
   "cell_type": "markdown",
   "id": "c122bf9a",
   "metadata": {},
   "source": [
    "Al tener tantos directores, nos enfocaremos en aquellos que hayan dirigido más de 10 películas."
   ]
  },
  {
   "cell_type": "code",
   "execution_count": null,
   "id": "ffb00339",
   "metadata": {},
   "outputs": [],
   "source": [
    "# Contar películas por director\n",
    "director_counts = movie_director['director'].value_counts()\n",
    "\n",
    "# Filtrar solo directores con más de 10 películas\n",
    "top_directors_over_10 = director_counts[director_counts > 10].index\n",
    "\n",
    "# Filtrar el dataset\n",
    "movie_director_over_10 = movie_director[movie_director['director'].isin(top_directors_over_10)]\n",
    "\n",
    "# Gráfico\n",
    "plt.figure(figsize=(12, 6))\n",
    "ax = sns.countplot(\n",
    "    data=movie_director_over_10,\n",
    "    x=\"director\",\n",
    "    order=movie_director_over_10[\"director\"].value_counts().index,\n",
    "    palette=\"Set2\"\n",
    ")\n",
    "\n",
    "plt.title(\"Distribución por Directores con entre 10 y 8 películas\")\n",
    "ax.tick_params(axis='x', rotation=90, labelsize=5)\n",
    "plt.tight_layout()\n",
    "plt.show()"
   ]
  },
  {
   "cell_type": "markdown",
   "id": "39a17f53",
   "metadata": {},
   "source": [
    "### Autores"
   ]
  },
  {
   "cell_type": "code",
   "execution_count": null,
   "id": "83d81c39",
   "metadata": {},
   "outputs": [],
   "source": [
    "#Autores\n",
    "plt.figure(figsize=(12, 6))\n",
    "ax = sns.countplot(\n",
    "    data=movie_author,\n",
    "    x=\"author\",\n",
    "    order=movie_author[\"author\"].value_counts().index,\n",
    "    palette=\"Set2\"\n",
    ")\n",
    "\n",
    "plt.title(\"Distribución por Autores\")\n",
    "ax.tick_params(axis='x', rotation=90, labelsize=8)\n",
    "plt.tight_layout()\n",
    "plt.show()"
   ]
  },
  {
   "cell_type": "markdown",
   "id": "2961937d",
   "metadata": {},
   "source": [
    "Al tener tantos autores, nos enfocaremos en aquellos con más de 10 películas."
   ]
  },
  {
   "cell_type": "code",
   "execution_count": null,
   "id": "c5675e57",
   "metadata": {},
   "outputs": [],
   "source": [
    "author_counts = movie_author['author'].value_counts()\n",
    "\n",
    "top_authors = author_counts[author_counts > 10].index\n",
    "\n",
    "# Filtrar el dataset\n",
    "movie_author_top = movie_author[movie_author['author'].isin(top_authors)]\n",
    "\n",
    "# Gráfico\n",
    "plt.figure(figsize=(12, 6))\n",
    "ax = sns.countplot(\n",
    "    data=movie_author_top,\n",
    "    x=\"author\",\n",
    "    order=movie_author_top[\"author\"].value_counts().index,\n",
    "    palette=\"Set2\"\n",
    ")\n",
    "\n",
    "plt.title(\"Distribución por Autores con >10 películas\")\n",
    "ax.tick_params(axis='x', rotation=90, labelsize=5)\n",
    "plt.tight_layout()\n",
    "plt.show()"
   ]
  },
  {
   "cell_type": "markdown",
   "id": "2c45eb04",
   "metadata": {},
   "source": [
    "Para el dataset de críticas, usaremos otro enfoque."
   ]
  },
  {
   "cell_type": "markdown",
   "id": "5ce2a180",
   "metadata": {},
   "source": [
    "#### 3.2.1. Dividir el Dataset en categoricos y numericos"
   ]
  },
  {
   "cell_type": "code",
   "execution_count": null,
   "id": "da6da74e",
   "metadata": {},
   "outputs": [],
   "source": [
    "c_df_copy = critics.copy()\n",
    "c_df_copy.dtypes.unique()"
   ]
  },
  {
   "cell_type": "markdown",
   "id": "79c39ea0",
   "metadata": {},
   "source": [
    "Todas las variables son categoricas."
   ]
  },
  {
   "cell_type": "markdown",
   "id": "4f7ed533",
   "metadata": {},
   "source": [
    "#### 3.2.2 Análisis sober variables categóricas"
   ]
  },
  {
   "cell_type": "code",
   "execution_count": null,
   "id": "d203c073",
   "metadata": {},
   "outputs": [],
   "source": [
    "print(c_df_copy['rotten_tomatoes_link'].value_counts().head(10))\n",
    "print(f\"Total de productos únicos: {c_df_copy['rotten_tomatoes_link'].nunique()}\")\n",
    "print(\"------------------------------------------------------\")\n",
    "print(c_df_copy['publisher_name'].value_counts().head(10))\n",
    "print(f\"Total de editoriales únicos: {c_df_copy['publisher_name'].nunique()}\")"
   ]
  },
  {
   "cell_type": "code",
   "execution_count": null,
   "id": "34ae347d",
   "metadata": {},
   "outputs": [],
   "source": [
    "categorical_cols = [ 'top_critic', 'review_type']\n",
    "\n",
    "\n",
    "for col in categorical_cols:\n",
    "    c_df_copy[col].value_counts().plot(kind='bar', figsize=(6,4), title=col)\n",
    "    plt.show()"
   ]
  },
  {
   "cell_type": "markdown",
   "id": "d2000a7e",
   "metadata": {},
   "source": [
    "- La mayoría de críticos no son destacados en una proporción casi dos veces más que los que sí lo son.\n",
    "- Las reseñas positivas son casi el doble de las negativas."
   ]
  },
  {
   "cell_type": "code",
   "execution_count": null,
   "id": "6b108bc2",
   "metadata": {},
   "outputs": [],
   "source": [
    "top_n_peliculas = 10\n",
    "top_n_editorial = 10\n",
    "\n",
    "fig, axis = plt.subplots(1, 2, figsize=(16, 6))\n",
    "\n",
    "# PRODUCTOS\n",
    "top_products = c_df_copy['rotten_tomatoes_link'].value_counts().head(top_n_peliculas).index\n",
    "sns.countplot(ax=axis[0], data=c_df_copy, x='rotten_tomatoes_link', order=top_products)\n",
    "axis[0].set_title(\"Top 10 Peliculas reseñadas\")\n",
    "axis[0].tick_params(axis='x', rotation=90)\n",
    "print(\"Top 10 peliculas graficados:\", len(top_products))\n",
    "\n",
    "# USUARIOS\n",
    "top_users = c_df_copy['publisher_name'].value_counts().head(top_n_editorial).index\n",
    "sns.countplot(ax=axis[1], data=c_df_copy, x='publisher_name', order=top_users)\n",
    "axis[1].set_title(\"Top 10 Editoriales\")\n",
    "axis[1].tick_params(axis='x', rotation=45)\n",
    "print(\"Top 10 editoriales graficados:\", len(top_users))\n",
    "\n",
    "plt.tight_layout()\n",
    "plt.show()"
   ]
  },
  {
   "cell_type": "markdown",
   "id": "d6474dd2",
   "metadata": {},
   "source": [
    "- El top de peliculas reseñadas esta rodeando las 500 reseñas.\n",
    "- La editorial con mas reseñas de películas es New York Times con casi 12000, avanzando de manera descendente hasta Chicado Sun-Times con casi 8000."
   ]
  },
  {
   "cell_type": "markdown",
   "id": "fe1c7692",
   "metadata": {},
   "source": [
    "## 4. Análisis Multivariante"
   ]
  },
  {
   "cell_type": "markdown",
   "id": "938d6a43",
   "metadata": {},
   "source": [
    "### 4.1 Análisis Numérico - Numérico"
   ]
  },
  {
   "cell_type": "code",
   "execution_count": null,
   "id": "a8c12bff",
   "metadata": {},
   "outputs": [],
   "source": [
    "fig, axis = plt.subplots(5, 2, figsize = (15, 20))\n",
    "\n",
    "# Crear un diagrama de dispersión múltiple\n",
    "\n",
    "sns.regplot(ax = axis[0, 0], data = movies, x = \"audience_rating\", y = \"tomatometer_rating\").set(ylabel=None)\n",
    "sns.heatmap(movies[[\"tomatometer_rating\", \"audience_rating\"]].corr(), annot = True, fmt = \".2f\", ax = axis[0, 1])\n",
    "\n",
    "sns.regplot(ax = axis[1, 0], data = movies, x = \"tomatometer_fresh_critics_count\", y = \"tomatometer_rating\").set(ylabel=None)\n",
    "sns.heatmap(movies[[\"tomatometer_rating\", \"tomatometer_fresh_critics_count\"]].corr(), annot = True, fmt = \".2f\", ax = axis[1, 1])\n",
    "\n",
    "sns.regplot(ax = axis[2, 0], data = movies, x = \"tomatometer_rotten_critics_count\", y = \"tomatometer_rating\").set(ylabel=None)\n",
    "sns.heatmap(movies[[\"tomatometer_rating\", \"tomatometer_rotten_critics_count\"]].corr(), annot = True, fmt = \".2f\", ax = axis[2, 1])\n",
    "\n",
    "sns.regplot(ax = axis[3, 0], data = movies, x = \"tomatometer_fresh_critics_count\", y = \"audience_rating\").set(ylabel=None)\n",
    "sns.heatmap(movies[[\"audience_rating\", \"tomatometer_fresh_critics_count\"]].corr(), annot = True, fmt = \".2f\", ax = axis[3, 1])\n",
    "\n",
    "sns.regplot(ax = axis[4, 0], data = movies, x = \"tomatometer_rotten_critics_count\", y = \"audience_rating\").set(ylabel=None)\n",
    "sns.heatmap(movies[[\"audience_rating\", \"tomatometer_rotten_critics_count\"]].corr(), annot = True, fmt = \".2f\", ax = axis[4, 1])\n",
    "\n",
    "# Ajustar el layout\n",
    "plt.tight_layout()\n",
    "\n",
    "# Mostrar el plot\n",
    "plt.show()"
   ]
  },
  {
   "cell_type": "markdown",
   "id": "1264dbb3",
   "metadata": {},
   "source": [
    "### 4.2 Análisis Categórico - Categórico"
   ]
  },
  {
   "cell_type": "code",
   "execution_count": null,
   "id": "94c0515b",
   "metadata": {},
   "outputs": [],
   "source": [
    "def cat_cat(df, cat1, cat2, top_n_cat1=None, top_n_cat2=None):\n",
    "    \n",
    "    if top_n_cat1:\n",
    "        top_values1 = df[cat1].value_counts().nlargest(top_n_cat1).index\n",
    "        df = df[df[cat1].isin(top_values1)]\n",
    "    if top_n_cat2:\n",
    "        top_values2 = df[cat2].value_counts().nlargest(top_n_cat2).index\n",
    "        df = df[df[cat2].isin(top_values2)]\n",
    "    \n",
    "    ct = pd.crosstab(df[cat1], df[cat2])\n",
    "    \n",
    "    ct_prop = ct.div(ct.sum(axis=1).replace(0,1), axis=0)\n",
    "    \n",
    "    ct_prop.plot(kind='bar', stacked=True, figsize=(12,6))\n",
    "    plt.xlabel(cat1)\n",
    "    plt.ylabel('Proporción')\n",
    "    plt.xticks(rotation=45, ha='right')\n",
    "    plt.legend(title=cat2, bbox_to_anchor=(1.05, 1), loc='upper left')\n",
    "    plt.tight_layout()\n",
    "    plt.show()"
   ]
  },
  {
   "cell_type": "code",
   "execution_count": null,
   "id": "2c67ee9f",
   "metadata": {},
   "outputs": [],
   "source": [
    "movies_exploded_dir = movies.explode('directors')\n",
    "\n",
    "movies_exploded_dir = movies_exploded_dir[movies_exploded_dir['directors'] != '']\n",
    "movies_exploded_dir = movies_exploded_dir.dropna(subset=['directors'])\n",
    "\n",
    "top10_directors = (\n",
    "    movies_exploded_dir['directors']\n",
    "    .value_counts()\n",
    "    .head(10)\n",
    "    .index\n",
    ")\n",
    "movies_top_directors = movies_exploded_dir[movies_exploded_dir['directors'].isin(top10_directors)]"
   ]
  },
  {
   "cell_type": "code",
   "execution_count": null,
   "id": "421b66ef",
   "metadata": {},
   "outputs": [],
   "source": [
    "movies_exploded_aut = movies.explode('authors')\n",
    "\n",
    "movies_exploded_aut = movies_exploded_aut[movies_exploded_aut['authors'] != '']\n",
    "movies_exploded_aut = movies_exploded_aut.dropna(subset=['authors'])\n",
    "\n",
    "top10_authors = (\n",
    "    movies_exploded_aut['authors']\n",
    "    .value_counts()\n",
    "    .head(10)\n",
    "    .index\n",
    ")\n",
    "movies_top_authors = movies_exploded_aut[movies_exploded_aut['authors'].isin(top10_authors)]"
   ]
  },
  {
   "cell_type": "code",
   "execution_count": null,
   "id": "f240c5db",
   "metadata": {},
   "outputs": [],
   "source": [
    "movies_exploded_act = movies.explode('actors')\n",
    "\n",
    "movies_exploded_act = movies_exploded_act[movies_exploded_act['actors'] != '']\n",
    "movies_exploded_act = movies_exploded_act.dropna(subset=['actors'])\n",
    "\n",
    "top10_actors = (\n",
    "    movies_exploded_act['actors']\n",
    "    .value_counts()\n",
    "    .head(10)\n",
    "    .index\n",
    ")\n",
    "movies_top_actors = movies_exploded_act[movies_exploded_act['actors'].isin(top10_actors)]"
   ]
  },
  {
   "cell_type": "code",
   "execution_count": null,
   "id": "ef6aefa8",
   "metadata": {},
   "outputs": [],
   "source": [
    "movies_exploded_genres = movies.explode('genres')\n",
    "\n",
    "cat_cat(\n",
    "    df=movies_exploded_genres,\n",
    "    cat1='genres',        \n",
    "    cat2='content_rating',\n",
    "    top_n_cat1=None,      \n",
    "    top_n_cat2=None       \n",
    ")\n"
   ]
  },
  {
   "cell_type": "code",
   "execution_count": null,
   "id": "9f541958",
   "metadata": {},
   "outputs": [],
   "source": [
    "cat_cat(\n",
    "    df=movies_exploded_genres,\n",
    "    cat1='genres',        \n",
    "    cat2='tomatometer_status',\n",
    "    top_n_cat1=None,      \n",
    "    top_n_cat2=None       \n",
    ")"
   ]
  },
  {
   "cell_type": "code",
   "execution_count": null,
   "id": "e7930808",
   "metadata": {},
   "outputs": [],
   "source": [
    "cat_cat(\n",
    "    df=movies_exploded_genres,\n",
    "    cat1='genres',        \n",
    "    cat2='audience_status',\n",
    "    top_n_cat1=None,      \n",
    "    top_n_cat2=None       \n",
    ")"
   ]
  },
  {
   "cell_type": "code",
   "execution_count": null,
   "id": "9a3f4f2f",
   "metadata": {},
   "outputs": [],
   "source": [
    "cat_cat(\n",
    "    df=movies_top_directors,\n",
    "    cat1='content_rating',        \n",
    "    cat2='directors',\n",
    "    top_n_cat1=None,      \n",
    "    top_n_cat2=None       \n",
    ")\n"
   ]
  },
  {
   "cell_type": "code",
   "execution_count": null,
   "id": "b32bdd15",
   "metadata": {},
   "outputs": [],
   "source": [
    "cat_cat(\n",
    "    df=movies_top_authors,\n",
    "    cat1='content_rating',        \n",
    "    cat2='authors',\n",
    "    top_n_cat1=None,      \n",
    "    top_n_cat2=None       \n",
    ")"
   ]
  },
  {
   "cell_type": "code",
   "execution_count": null,
   "id": "b01bb38f",
   "metadata": {},
   "outputs": [],
   "source": [
    "cat_cat(\n",
    "    df=movies_top_actors,\n",
    "    cat1='content_rating',        \n",
    "    cat2='actors',\n",
    "    top_n_cat1=None,      \n",
    "    top_n_cat2=None       \n",
    ")"
   ]
  },
  {
   "cell_type": "code",
   "execution_count": null,
   "id": "24117436",
   "metadata": {},
   "outputs": [],
   "source": [
    "cat_cat(c_df_copy, 'rotten_tomatoes_link', 'publisher_name', top_n_cat1=top_n_peliculas, top_n_cat2=top_n_editorial)"
   ]
  },
  {
   "cell_type": "markdown",
   "id": "65b97316",
   "metadata": {},
   "source": [
    "Parece que eFilmCritic.com es quien más reseñas hace a las peliculas con más reseñas del top."
   ]
  },
  {
   "cell_type": "code",
   "execution_count": null,
   "id": "a695db8b",
   "metadata": {},
   "outputs": [],
   "source": [
    "cat_cat(c_df_copy, 'top_critic', 'publisher_name', top_n_cat2=20)"
   ]
  },
  {
   "cell_type": "markdown",
   "id": "3bf6b0eb",
   "metadata": {},
   "source": [
    "Se ve que la mayoría de las editoriales con mas reseñas tienen críticos cuya opinión es validada, es importante teniendo en cuenta que hay más con la categoría false que con true."
   ]
  },
  {
   "cell_type": "code",
   "execution_count": null,
   "id": "ac0829c4",
   "metadata": {},
   "outputs": [],
   "source": [
    "cat_cat(c_df_copy, 'review_type', 'rotten_tomatoes_link', top_n_cat2=20)"
   ]
  },
  {
   "cell_type": "markdown",
   "id": "f340e208",
   "metadata": {},
   "source": [
    "Las buenas reseñas estan distribuidas mas equitativamente entre las películas mientras que las malas se acumulan, esto sugiere que se le da importancia a que hay películas con más reseñas malas que buenas."
   ]
  },
  {
   "cell_type": "markdown",
   "id": "e603307f",
   "metadata": {},
   "source": [
    "### 4.3 Análisis Numérico - Categórico"
   ]
  },
  {
   "cell_type": "markdown",
   "id": "f814c1d5",
   "metadata": {},
   "source": [
    "### 4.3.1 Matriz de Correlación Múltiple"
   ]
  },
  {
   "cell_type": "markdown",
   "id": "82c11b56",
   "metadata": {},
   "source": [
    "Para continuar con el análisis de las variables categóricas y poder hacer un gráfico de correlaciones, debemos transformar estas variables en variables numéricas."
   ]
  },
  {
   "cell_type": "code",
   "execution_count": null,
   "id": "0f3eefbd",
   "metadata": {},
   "outputs": [],
   "source": [
    "movies_n = movies.copy()"
   ]
  },
  {
   "cell_type": "code",
   "execution_count": null,
   "id": "e617f8ca",
   "metadata": {},
   "outputs": [],
   "source": [
    "movies_n[\"content_rating_n\"] = pd.factorize(movies_n[\"content_rating\"])[0]\n",
    "movies_n[\"production_company_n\"] = pd.factorize(movies_n[\"production_company\"])[0]\n",
    "movies_n[\"tomatometer_status_n\"] = pd.factorize(movies_n[\"tomatometer_status\"])[0]\n",
    "movies_n[\"audience_status_n\"] = pd.factorize(movies_n[\"audience_status\"])[0]"
   ]
  },
  {
   "cell_type": "code",
   "execution_count": null,
   "id": "ec957bbe",
   "metadata": {},
   "outputs": [],
   "source": [
    "cols = [\n",
    "    \"content_rating_n\",\n",
    "    \"release_year\",\n",
    "    \"streaming_release_year\",\n",
    "    \"runtime\",\n",
    "    \"production_company_n\",\n",
    "    \"tomatometer_status_n\",\n",
    "    \"tomatometer_rating\",\n",
    "    \"tomatometer_count\",\n",
    "    \"audience_status_n\",\n",
    "    \"audience_rating\",\n",
    "    \"audience_count\",\n",
    "    \"tomatometer_top_critics_count\",\n",
    "    \"tomatometer_fresh_critics_count\",\n",
    "    \"tomatometer_rotten_critics_count\"\n",
    "]\n",
    "\n",
    "movies_corr = movies_n[cols]\n",
    "\n",
    "movies_corr = movies_corr.fillna(0)\n"
   ]
  },
  {
   "cell_type": "code",
   "execution_count": null,
   "id": "474788fa",
   "metadata": {},
   "outputs": [],
   "source": [
    "corr_matrix = movies_corr.corr()\n",
    "\n",
    "fig, axis = plt.subplots(figsize = (15, 15))\n",
    "\n",
    "sns.heatmap(corr_matrix, annot = True, fmt = \".2f\")\n",
    "\n",
    "plt.tight_layout()\n",
    "\n",
    "plt.show()"
   ]
  },
  {
   "cell_type": "markdown",
   "id": "d4759cb2",
   "metadata": {},
   "source": [
    "## 5. Ingeniería de características"
   ]
  },
  {
   "cell_type": "markdown",
   "id": "965d454c",
   "metadata": {},
   "source": [
    "### 5.1. Preparar los datos"
   ]
  },
  {
   "cell_type": "markdown",
   "id": "c3e9e441",
   "metadata": {},
   "source": [
    "Como primera etapa vamos a mapear las reseñas de frescas o podridas como boolean"
   ]
  },
  {
   "cell_type": "code",
   "execution_count": null,
   "id": "bd6afa18",
   "metadata": {},
   "outputs": [],
   "source": [
    "c_df_copy['review_label'] = c_df_copy['review_type'].map({'Fresh': 1, 'Rotten': 0})\n",
    "\n",
    "print(c_df_copy[['review_type', 'review_label']].head())\n",
    "c_df_copy.drop(columns=['review_type'], inplace=True)"
   ]
  },
  {
   "cell_type": "code",
   "execution_count": null,
   "id": "d8138d84",
   "metadata": {},
   "outputs": [],
   "source": [
    "c_df_copy.head()"
   ]
  },
  {
   "cell_type": "code",
   "execution_count": null,
   "id": "44d23652",
   "metadata": {},
   "outputs": [],
   "source": [
    "c_df_copy['top_critic_num'] = c_df_copy['top_critic'].astype(int)\n",
    "c_df_copy.drop(columns=['top_critic'], inplace=True)"
   ]
  },
  {
   "cell_type": "code",
   "execution_count": null,
   "id": "6f4e82e2",
   "metadata": {},
   "outputs": [],
   "source": [
    "c_df_copy['review_len'] = c_df_copy['review_content'].str.len()\n",
    "\n",
    "# cantidad de palabras\n",
    "c_df_copy['review_word_count'] = c_df_copy['review_content'].str.split().apply(len)"
   ]
  },
  {
   "cell_type": "code",
   "execution_count": null,
   "id": "f174f6b2",
   "metadata": {},
   "outputs": [],
   "source": [
    "c_df_copy.head()"
   ]
  },
  {
   "cell_type": "markdown",
   "id": "f55c4651",
   "metadata": {},
   "source": [
    "### 5.2. Análisis de outliers"
   ]
  },
  {
   "cell_type": "markdown",
   "id": "7880a10f",
   "metadata": {},
   "source": [
    "Sólo se tendrán en cuenta que las reseñas con una longitud mínima."
   ]
  },
  {
   "cell_type": "code",
   "execution_count": null,
   "id": "afe5deb7",
   "metadata": {},
   "outputs": [],
   "source": [
    "c_df_copy = c_df_copy[(c_df_copy['review_len'] >= 10) & (c_df_copy['review_len'] <= 5000)]"
   ]
  },
  {
   "cell_type": "code",
   "execution_count": null,
   "id": "4867cd75",
   "metadata": {},
   "outputs": [],
   "source": [
    "num_cols = ['review_len', 'review_word_count', 'top_critic_num', 'review_label']\n",
    "\n",
    "for col in num_cols:\n",
    "    plt.figure(figsize=(8,2))\n",
    "    sns.boxplot(x=c_df_copy[col])\n",
    "    plt.title(f'Boxplot de {col}')\n",
    "    plt.show()"
   ]
  },
  {
   "cell_type": "markdown",
   "id": "1c0ab3fa",
   "metadata": {},
   "source": [
    "### 5.3. Dividir el train/test de marcos de datos"
   ]
  },
  {
   "cell_type": "code",
   "execution_count": null,
   "id": "f1902e23",
   "metadata": {},
   "outputs": [],
   "source": [
    "X = c_df_copy['review_content']  \n",
    "y = c_df_copy['review_label']    \n",
    "\n",
    "X_train, X_test, y_train, y_test = train_test_split(\n",
    "    X, y, test_size=0.2, random_state=42, stratify=y\n",
    ")"
   ]
  },
  {
   "cell_type": "markdown",
   "id": "3d88a876",
   "metadata": {},
   "source": [
    "## 6. Transformar el texto en matriz"
   ]
  },
  {
   "cell_type": "code",
   "execution_count": null,
   "id": "3023c015",
   "metadata": {},
   "outputs": [],
   "source": [
    "vec_model = CountVectorizer(stop_words = \"english\", max_features=5000)\n",
    "X_train_vec = vec_model.fit_transform(X_train)\n",
    "X_test_vec = vec_model.transform(X_test)"
   ]
  },
  {
   "cell_type": "markdown",
   "id": "81b648dd",
   "metadata": {},
   "source": [
    "## 7. Construir el Modelo usando Naive Bayes"
   ]
  },
  {
   "cell_type": "code",
   "execution_count": null,
   "id": "d1e7de2c",
   "metadata": {},
   "outputs": [],
   "source": [
    "nb_model = MultinomialNB()\n",
    "nb_model.fit(X_train_vec, y_train)\n",
    "\n",
    "y_pred_nb = nb_model.predict(X_test_vec)\n",
    "print(\"Naive Bayes Accuracy:\", accuracy_score(y_test, y_pred_nb))"
   ]
  },
  {
   "cell_type": "markdown",
   "id": "ca9c4e8b",
   "metadata": {},
   "source": [
    "## 8. Optimización"
   ]
  },
  {
   "cell_type": "code",
   "execution_count": null,
   "id": "aff99836",
   "metadata": {},
   "outputs": [],
   "source": [
    "def evaluar_modelo(model, X_train_vec, X_test_vec, y_train, y_test, nombre=\"Modelo\"):\n",
    "    model.fit(X_train_vec, y_train)\n",
    "    y_pred = model.predict(X_test_vec)\n",
    "    acc = accuracy_score(y_test, y_pred)\n",
    "    print(f\"{nombre} Accuracy: {acc:.5f}\")\n",
    "    return model, y_pred"
   ]
  },
  {
   "cell_type": "code",
   "execution_count": null,
   "id": "360f438f",
   "metadata": {},
   "outputs": [],
   "source": [
    "pipeline = Pipeline([\n",
    "    ('vectorizer', CountVectorizer(stop_words='english')),\n",
    "    ('nb', MultinomialNB())\n",
    "])\n",
    "\n",
    "hyperparams = {\n",
    "    'vectorizer__max_features': [1000, 2000, 3000, None],\n",
    "    'vectorizer__ngram_range': [(1,1), (1,2)],\n",
    "    'nb__alpha': np.linspace(0.1, 2.0, 20)\n",
    "}"
   ]
  },
  {
   "cell_type": "code",
   "execution_count": null,
   "id": "4d247233",
   "metadata": {},
   "outputs": [],
   "source": [
    "# Naive Bayes simple\n",
    "vec_model = CountVectorizer(stop_words=\"english\")\n",
    "X_train_vec = vec_model.fit_transform(X_train)\n",
    "X_test_vec  = vec_model.transform(X_test)\n",
    "\n",
    "nb_model = MultinomialNB()\n",
    "nb_model, y_pred_nb = evaluar_modelo(nb_model, X_train_vec, X_test_vec, y_train, y_test, \"Naive Bayes\")"
   ]
  },
  {
   "cell_type": "code",
   "execution_count": null,
   "id": "4e7e810a",
   "metadata": {},
   "outputs": [],
   "source": [
    "# 5. Naive Bayes optimizado con Pipeline + RandomizedSearchCV\n",
    "pipeline = Pipeline([\n",
    "    ('vectorizer', CountVectorizer(stop_words='english')),\n",
    "    ('nb', MultinomialNB())\n",
    "])\n",
    "\n",
    "hyperparams = {\n",
    "    'vectorizer__max_features': [1000, 2000, 3000, None],\n",
    "    'vectorizer__ngram_range': [(1,1), (1,2)],\n",
    "    'nb__alpha': np.linspace(0.1, 2.0, 20)\n",
    "}\n",
    "\n",
    "grid = RandomizedSearchCV(pipeline, hyperparams, scoring=\"accuracy\", n_iter=20, random_state=42)\n",
    "grid.fit(X_train, y_train)\n",
    "\n",
    "best_nb_model = grid.best_estimator_\n",
    "y_pred_best_nb = best_nb_model.predict(X_test)\n",
    "\n",
    "print(\"Naive Bayes Optimizado Accuracy:\", accuracy_score(y_test, y_pred_best_nb))\n",
    "print(\"Mejores parámetros:\", grid.best_params_)"
   ]
  },
  {
   "cell_type": "code",
   "execution_count": null,
   "id": "064e2478",
   "metadata": {},
   "outputs": [],
   "source": [
    "#Logistic Regression\n",
    "log_model = LogisticRegression(max_iter=1000)\n",
    "log_model, y_pred_log = evaluar_modelo(log_model, X_train_vec, X_test_vec, y_train, y_test, \"Logistic Regression\")"
   ]
  },
  {
   "cell_type": "code",
   "execution_count": null,
   "id": "6f0f28e9",
   "metadata": {},
   "outputs": [],
   "source": [
    "acc_nb = accuracy_score(y_test, y_pred_best_nb)\n",
    "acc_log = accuracy_score(y_test, y_pred_log)\n",
    "\n",
    "if acc_log > acc_nb:\n",
    "    modelo_final = log_model\n",
    "    nombre_final = \"Logistic Regression\"\n",
    "else:\n",
    "    modelo_final = best_nb_model\n",
    "    nombre_final = \"Naive Bayes Optimizado\"\n",
    "\n",
    "print(f\"Mejor modelo: {nombre_final} ({max(acc_nb, acc_log):.5f})\")"
   ]
  },
  {
   "cell_type": "code",
   "execution_count": null,
   "id": "0e6627d7",
   "metadata": {},
   "outputs": [],
   "source": [
    "pipeline = Pipeline([\n",
    "    (\"vectorizer\", CountVectorizer(stop_words=\"english\")),\n",
    "    (\"classifier\", modelo_final)   \n",
    "])\n",
    "\n",
    "pipeline.fit(X_train, y_train)\n",
    "\n",
    "# Guardar el pipeline completo\n",
    "with open(\"../models/rotten_pipeline.pkl\", \"wb\") as f:\n",
    "    pickle.dump(pipeline, f)\n",
    "\n",
    "print(\"Pipeline con modelo final guardado correctamente.\")"
   ]
  },
  {
   "cell_type": "markdown",
   "id": "3cd1e351",
   "metadata": {},
   "source": [
    "## 9. Combinar Datasets"
   ]
  },
  {
   "cell_type": "markdown",
   "id": "f94dff26",
   "metadata": {},
   "source": [
    "Para el sistema de recomendación, necesitaremos trabajar con un único modelo, por lo cual agregaremos al dataset *movies* una columna adicional que contenga el valor promedio del puntaje obtenido al hacer el análisis de sentimientos."
   ]
  },
  {
   "cell_type": "code",
   "execution_count": null,
   "id": "63eca876",
   "metadata": {},
   "outputs": [],
   "source": [
    "critics[\"review_content\"] = critics[\"review_content\"].fillna(\"\")\n",
    "\n",
    "critics[\"sentiment_prob\"] = pipeline.predict_proba(critics[\"review_content\"])[:, 1]"
   ]
  },
  {
   "cell_type": "code",
   "execution_count": null,
   "id": "9d5c5e39",
   "metadata": {},
   "outputs": [],
   "source": [
    "# Aqui se argupan por el id y se saca la media\n",
    "sentiment_scores = critics.groupby(\"rotten_tomatoes_link\")[\"sentiment_prob\"].mean().reset_index()\n",
    "sentiment_scores.rename(columns={\"sentiment_prob\": \"avg_sentiment_score\"}, inplace=True)\n",
    "\n",
    "# Unir al dataset de películas\n",
    "movies = movies.merge(sentiment_scores, on=\"rotten_tomatoes_link\", how=\"left\")"
   ]
  },
  {
   "cell_type": "code",
   "execution_count": null,
   "id": "c6cadb20",
   "metadata": {},
   "outputs": [],
   "source": [
    "movies.head()"
   ]
  },
  {
   "cell_type": "markdown",
   "id": "a4b02d30",
   "metadata": {},
   "source": [
    "## 10. Guardar Dataset"
   ]
  },
  {
   "cell_type": "code",
   "execution_count": null,
   "id": "eeb4ee38",
   "metadata": {},
   "outputs": [],
   "source": [
    "movies.to_csv(\"../data/processed/movies.csv\", index=False)"
   ]
  }
 ],
 "metadata": {
  "kernelspec": {
   "display_name": "Python 3",
   "language": "python",
   "name": "python3"
  },
  "language_info": {
   "codemirror_mode": {
    "name": "ipython",
    "version": 3
   },
   "file_extension": ".py",
   "mimetype": "text/x-python",
   "name": "python",
   "nbconvert_exporter": "python",
   "pygments_lexer": "ipython3",
   "version": "3.11.4"
  }
 },
 "nbformat": 4,
 "nbformat_minor": 5
}
