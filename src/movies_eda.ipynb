{
 "cells": [
  {
   "cell_type": "markdown",
   "id": "1de9f837",
   "metadata": {},
   "source": [
    "# 1. Cargar Librerías"
   ]
  },
  {
   "cell_type": "code",
   "execution_count": 2,
   "id": "98016ec1",
   "metadata": {},
   "outputs": [],
   "source": [
    "import warnings\n",
    "import os\n",
    "import pandas as pd \n",
    "import numpy as np \n",
    "import seaborn as sns \n",
    "import matplotlib.pyplot as plt \n",
    "import math\n",
    "import utils as ut\n",
    "import pickle\n",
    "import openpyxl\n",
    "\n",
    "def warn(*args, **kwargs):\n",
    "    pass\n",
    "warnings.warn = warn\n",
    "warnings.filterwarnings(\"ignore\", category=FutureWarning)"
   ]
  },
  {
   "cell_type": "markdown",
   "id": "823accbe",
   "metadata": {},
   "source": [
    "# 2. Cargar los Dataset"
   ]
  },
  {
   "cell_type": "code",
   "execution_count": 3,
   "id": "b3b1738e",
   "metadata": {},
   "outputs": [
    {
     "data": {
      "text/html": [
       "<div>\n",
       "<style scoped>\n",
       "    .dataframe tbody tr th:only-of-type {\n",
       "        vertical-align: middle;\n",
       "    }\n",
       "\n",
       "    .dataframe tbody tr th {\n",
       "        vertical-align: top;\n",
       "    }\n",
       "\n",
       "    .dataframe thead th {\n",
       "        text-align: right;\n",
       "    }\n",
       "</style>\n",
       "<table border=\"1\" class=\"dataframe\">\n",
       "  <thead>\n",
       "    <tr style=\"text-align: right;\">\n",
       "      <th></th>\n",
       "      <th>rotten_tomatoes_link</th>\n",
       "      <th>movie_title</th>\n",
       "      <th>movie_info</th>\n",
       "      <th>critics_consensus</th>\n",
       "      <th>content_rating</th>\n",
       "      <th>genres</th>\n",
       "      <th>directors</th>\n",
       "      <th>authors</th>\n",
       "      <th>actors</th>\n",
       "      <th>original_release_date</th>\n",
       "      <th>...</th>\n",
       "      <th>production_company</th>\n",
       "      <th>tomatometer_status</th>\n",
       "      <th>tomatometer_rating</th>\n",
       "      <th>tomatometer_count</th>\n",
       "      <th>audience_status</th>\n",
       "      <th>audience_rating</th>\n",
       "      <th>audience_count</th>\n",
       "      <th>tomatometer_top_critics_count</th>\n",
       "      <th>tomatometer_fresh_critics_count</th>\n",
       "      <th>tomatometer_rotten_critics_count</th>\n",
       "    </tr>\n",
       "  </thead>\n",
       "  <tbody>\n",
       "    <tr>\n",
       "      <th>0</th>\n",
       "      <td>m/0814255</td>\n",
       "      <td>Percy Jackson &amp; the Olympians: The Lightning T...</td>\n",
       "      <td>Always trouble-prone, the life of teenager Per...</td>\n",
       "      <td>Though it may seem like just another Harry Pot...</td>\n",
       "      <td>PG</td>\n",
       "      <td>Action &amp; Adventure, Comedy, Drama, Science Fic...</td>\n",
       "      <td>Chris Columbus</td>\n",
       "      <td>Craig Titley, Chris Columbus, Rick Riordan</td>\n",
       "      <td>Logan Lerman, Brandon T. Jackson, Alexandra Da...</td>\n",
       "      <td>2010-02-12</td>\n",
       "      <td>...</td>\n",
       "      <td>20th Century Fox</td>\n",
       "      <td>Rotten</td>\n",
       "      <td>49.0</td>\n",
       "      <td>149.0</td>\n",
       "      <td>Spilled</td>\n",
       "      <td>53.0</td>\n",
       "      <td>254421.0</td>\n",
       "      <td>43</td>\n",
       "      <td>73</td>\n",
       "      <td>76</td>\n",
       "    </tr>\n",
       "    <tr>\n",
       "      <th>1</th>\n",
       "      <td>m/0878835</td>\n",
       "      <td>Please Give</td>\n",
       "      <td>Kate (Catherine Keener) and her husband Alex (...</td>\n",
       "      <td>Nicole Holofcener's newest might seem slight i...</td>\n",
       "      <td>R</td>\n",
       "      <td>Comedy</td>\n",
       "      <td>Nicole Holofcener</td>\n",
       "      <td>Nicole Holofcener</td>\n",
       "      <td>Catherine Keener, Amanda Peet, Oliver Platt, R...</td>\n",
       "      <td>2010-04-30</td>\n",
       "      <td>...</td>\n",
       "      <td>Sony Pictures Classics</td>\n",
       "      <td>Certified-Fresh</td>\n",
       "      <td>87.0</td>\n",
       "      <td>142.0</td>\n",
       "      <td>Upright</td>\n",
       "      <td>64.0</td>\n",
       "      <td>11574.0</td>\n",
       "      <td>44</td>\n",
       "      <td>123</td>\n",
       "      <td>19</td>\n",
       "    </tr>\n",
       "    <tr>\n",
       "      <th>2</th>\n",
       "      <td>m/10</td>\n",
       "      <td>10</td>\n",
       "      <td>A successful, middle-aged Hollywood songwriter...</td>\n",
       "      <td>Blake Edwards' bawdy comedy may not score a pe...</td>\n",
       "      <td>R</td>\n",
       "      <td>Comedy, Romance</td>\n",
       "      <td>Blake Edwards</td>\n",
       "      <td>Blake Edwards</td>\n",
       "      <td>Dudley Moore, Bo Derek, Julie Andrews, Robert ...</td>\n",
       "      <td>1979-10-05</td>\n",
       "      <td>...</td>\n",
       "      <td>Waner Bros.</td>\n",
       "      <td>Fresh</td>\n",
       "      <td>67.0</td>\n",
       "      <td>24.0</td>\n",
       "      <td>Spilled</td>\n",
       "      <td>53.0</td>\n",
       "      <td>14684.0</td>\n",
       "      <td>2</td>\n",
       "      <td>16</td>\n",
       "      <td>8</td>\n",
       "    </tr>\n",
       "    <tr>\n",
       "      <th>3</th>\n",
       "      <td>m/1000013-12_angry_men</td>\n",
       "      <td>12 Angry Men (Twelve Angry Men)</td>\n",
       "      <td>Following the closing arguments in a murder tr...</td>\n",
       "      <td>Sidney Lumet's feature debut is a superbly wri...</td>\n",
       "      <td>NR</td>\n",
       "      <td>Classics, Drama</td>\n",
       "      <td>Sidney Lumet</td>\n",
       "      <td>Reginald Rose</td>\n",
       "      <td>Martin Balsam, John Fiedler, Lee J. Cobb, E.G....</td>\n",
       "      <td>1957-04-13</td>\n",
       "      <td>...</td>\n",
       "      <td>Criterion Collection</td>\n",
       "      <td>Certified-Fresh</td>\n",
       "      <td>100.0</td>\n",
       "      <td>54.0</td>\n",
       "      <td>Upright</td>\n",
       "      <td>97.0</td>\n",
       "      <td>105386.0</td>\n",
       "      <td>6</td>\n",
       "      <td>54</td>\n",
       "      <td>0</td>\n",
       "    </tr>\n",
       "    <tr>\n",
       "      <th>4</th>\n",
       "      <td>m/1000079-20000_leagues_under_the_sea</td>\n",
       "      <td>20,000 Leagues Under The Sea</td>\n",
       "      <td>In 1866, Professor Pierre M. Aronnax (Paul Luk...</td>\n",
       "      <td>One of Disney's finest live-action adventures,...</td>\n",
       "      <td>G</td>\n",
       "      <td>Action &amp; Adventure, Drama, Kids &amp; Family</td>\n",
       "      <td>Richard Fleischer</td>\n",
       "      <td>Earl Felton</td>\n",
       "      <td>James Mason, Kirk Douglas, Paul Lukas, Peter L...</td>\n",
       "      <td>1954-01-01</td>\n",
       "      <td>...</td>\n",
       "      <td>Disney</td>\n",
       "      <td>Fresh</td>\n",
       "      <td>89.0</td>\n",
       "      <td>27.0</td>\n",
       "      <td>Upright</td>\n",
       "      <td>74.0</td>\n",
       "      <td>68918.0</td>\n",
       "      <td>5</td>\n",
       "      <td>24</td>\n",
       "      <td>3</td>\n",
       "    </tr>\n",
       "  </tbody>\n",
       "</table>\n",
       "<p>5 rows × 22 columns</p>\n",
       "</div>"
      ],
      "text/plain": [
       "                    rotten_tomatoes_link  \\\n",
       "0                              m/0814255   \n",
       "1                              m/0878835   \n",
       "2                                   m/10   \n",
       "3                 m/1000013-12_angry_men   \n",
       "4  m/1000079-20000_leagues_under_the_sea   \n",
       "\n",
       "                                         movie_title  \\\n",
       "0  Percy Jackson & the Olympians: The Lightning T...   \n",
       "1                                        Please Give   \n",
       "2                                                 10   \n",
       "3                    12 Angry Men (Twelve Angry Men)   \n",
       "4                       20,000 Leagues Under The Sea   \n",
       "\n",
       "                                          movie_info  \\\n",
       "0  Always trouble-prone, the life of teenager Per...   \n",
       "1  Kate (Catherine Keener) and her husband Alex (...   \n",
       "2  A successful, middle-aged Hollywood songwriter...   \n",
       "3  Following the closing arguments in a murder tr...   \n",
       "4  In 1866, Professor Pierre M. Aronnax (Paul Luk...   \n",
       "\n",
       "                                   critics_consensus content_rating  \\\n",
       "0  Though it may seem like just another Harry Pot...             PG   \n",
       "1  Nicole Holofcener's newest might seem slight i...              R   \n",
       "2  Blake Edwards' bawdy comedy may not score a pe...              R   \n",
       "3  Sidney Lumet's feature debut is a superbly wri...             NR   \n",
       "4  One of Disney's finest live-action adventures,...              G   \n",
       "\n",
       "                                              genres          directors  \\\n",
       "0  Action & Adventure, Comedy, Drama, Science Fic...     Chris Columbus   \n",
       "1                                             Comedy  Nicole Holofcener   \n",
       "2                                    Comedy, Romance      Blake Edwards   \n",
       "3                                    Classics, Drama       Sidney Lumet   \n",
       "4           Action & Adventure, Drama, Kids & Family  Richard Fleischer   \n",
       "\n",
       "                                      authors  \\\n",
       "0  Craig Titley, Chris Columbus, Rick Riordan   \n",
       "1                           Nicole Holofcener   \n",
       "2                               Blake Edwards   \n",
       "3                               Reginald Rose   \n",
       "4                                 Earl Felton   \n",
       "\n",
       "                                              actors original_release_date  \\\n",
       "0  Logan Lerman, Brandon T. Jackson, Alexandra Da...            2010-02-12   \n",
       "1  Catherine Keener, Amanda Peet, Oliver Platt, R...            2010-04-30   \n",
       "2  Dudley Moore, Bo Derek, Julie Andrews, Robert ...            1979-10-05   \n",
       "3  Martin Balsam, John Fiedler, Lee J. Cobb, E.G....            1957-04-13   \n",
       "4  James Mason, Kirk Douglas, Paul Lukas, Peter L...            1954-01-01   \n",
       "\n",
       "   ...      production_company  tomatometer_status tomatometer_rating  \\\n",
       "0  ...        20th Century Fox              Rotten               49.0   \n",
       "1  ...  Sony Pictures Classics     Certified-Fresh               87.0   \n",
       "2  ...             Waner Bros.               Fresh               67.0   \n",
       "3  ...    Criterion Collection     Certified-Fresh              100.0   \n",
       "4  ...                  Disney               Fresh               89.0   \n",
       "\n",
       "  tomatometer_count  audience_status  audience_rating audience_count  \\\n",
       "0             149.0          Spilled             53.0       254421.0   \n",
       "1             142.0          Upright             64.0        11574.0   \n",
       "2              24.0          Spilled             53.0        14684.0   \n",
       "3              54.0          Upright             97.0       105386.0   \n",
       "4              27.0          Upright             74.0        68918.0   \n",
       "\n",
       "   tomatometer_top_critics_count  tomatometer_fresh_critics_count  \\\n",
       "0                             43                               73   \n",
       "1                             44                              123   \n",
       "2                              2                               16   \n",
       "3                              6                               54   \n",
       "4                              5                               24   \n",
       "\n",
       "   tomatometer_rotten_critics_count  \n",
       "0                                76  \n",
       "1                                19  \n",
       "2                                 8  \n",
       "3                                 0  \n",
       "4                                 3  \n",
       "\n",
       "[5 rows x 22 columns]"
      ]
     },
     "execution_count": 3,
     "metadata": {},
     "output_type": "execute_result"
    }
   ],
   "source": [
    "movies_df = pd.read_csv(\"../data/raw/rotten_tomatoes_movies.csv\")\n",
    "\n",
    "movies_df.head()"
   ]
  },
  {
   "cell_type": "code",
   "execution_count": 4,
   "id": "5dd1fcc6",
   "metadata": {},
   "outputs": [
    {
     "data": {
      "text/html": [
       "<div>\n",
       "<style scoped>\n",
       "    .dataframe tbody tr th:only-of-type {\n",
       "        vertical-align: middle;\n",
       "    }\n",
       "\n",
       "    .dataframe tbody tr th {\n",
       "        vertical-align: top;\n",
       "    }\n",
       "\n",
       "    .dataframe thead th {\n",
       "        text-align: right;\n",
       "    }\n",
       "</style>\n",
       "<table border=\"1\" class=\"dataframe\">\n",
       "  <thead>\n",
       "    <tr style=\"text-align: right;\">\n",
       "      <th></th>\n",
       "      <th>rotten_tomatoes_link</th>\n",
       "      <th>critic_name</th>\n",
       "      <th>top_critic</th>\n",
       "      <th>publisher_name</th>\n",
       "      <th>review_type</th>\n",
       "      <th>review_score</th>\n",
       "      <th>review_date</th>\n",
       "      <th>review_content</th>\n",
       "    </tr>\n",
       "  </thead>\n",
       "  <tbody>\n",
       "    <tr>\n",
       "      <th>0</th>\n",
       "      <td>m/0814255</td>\n",
       "      <td>Andrew L. Urban</td>\n",
       "      <td>False</td>\n",
       "      <td>Urban Cinefile</td>\n",
       "      <td>Fresh</td>\n",
       "      <td>NaN</td>\n",
       "      <td>2010-02-06</td>\n",
       "      <td>A fantasy adventure that fuses Greek mythology...</td>\n",
       "    </tr>\n",
       "    <tr>\n",
       "      <th>1</th>\n",
       "      <td>m/0814255</td>\n",
       "      <td>Louise Keller</td>\n",
       "      <td>False</td>\n",
       "      <td>Urban Cinefile</td>\n",
       "      <td>Fresh</td>\n",
       "      <td>NaN</td>\n",
       "      <td>2010-02-06</td>\n",
       "      <td>Uma Thurman as Medusa, the gorgon with a coiff...</td>\n",
       "    </tr>\n",
       "    <tr>\n",
       "      <th>2</th>\n",
       "      <td>m/0814255</td>\n",
       "      <td>NaN</td>\n",
       "      <td>False</td>\n",
       "      <td>FILMINK (Australia)</td>\n",
       "      <td>Fresh</td>\n",
       "      <td>NaN</td>\n",
       "      <td>2010-02-09</td>\n",
       "      <td>With a top-notch cast and dazzling special eff...</td>\n",
       "    </tr>\n",
       "    <tr>\n",
       "      <th>3</th>\n",
       "      <td>m/0814255</td>\n",
       "      <td>Ben McEachen</td>\n",
       "      <td>False</td>\n",
       "      <td>Sunday Mail (Australia)</td>\n",
       "      <td>Fresh</td>\n",
       "      <td>3.5/5</td>\n",
       "      <td>2010-02-09</td>\n",
       "      <td>Whether audiences will get behind The Lightnin...</td>\n",
       "    </tr>\n",
       "    <tr>\n",
       "      <th>4</th>\n",
       "      <td>m/0814255</td>\n",
       "      <td>Ethan Alter</td>\n",
       "      <td>True</td>\n",
       "      <td>Hollywood Reporter</td>\n",
       "      <td>Rotten</td>\n",
       "      <td>NaN</td>\n",
       "      <td>2010-02-10</td>\n",
       "      <td>What's really lacking in The Lightning Thief i...</td>\n",
       "    </tr>\n",
       "  </tbody>\n",
       "</table>\n",
       "</div>"
      ],
      "text/plain": [
       "  rotten_tomatoes_link      critic_name  top_critic           publisher_name  \\\n",
       "0            m/0814255  Andrew L. Urban       False           Urban Cinefile   \n",
       "1            m/0814255    Louise Keller       False           Urban Cinefile   \n",
       "2            m/0814255              NaN       False      FILMINK (Australia)   \n",
       "3            m/0814255     Ben McEachen       False  Sunday Mail (Australia)   \n",
       "4            m/0814255      Ethan Alter        True       Hollywood Reporter   \n",
       "\n",
       "  review_type review_score review_date  \\\n",
       "0       Fresh          NaN  2010-02-06   \n",
       "1       Fresh          NaN  2010-02-06   \n",
       "2       Fresh          NaN  2010-02-09   \n",
       "3       Fresh        3.5/5  2010-02-09   \n",
       "4      Rotten          NaN  2010-02-10   \n",
       "\n",
       "                                      review_content  \n",
       "0  A fantasy adventure that fuses Greek mythology...  \n",
       "1  Uma Thurman as Medusa, the gorgon with a coiff...  \n",
       "2  With a top-notch cast and dazzling special eff...  \n",
       "3  Whether audiences will get behind The Lightnin...  \n",
       "4  What's really lacking in The Lightning Thief i...  "
      ]
     },
     "execution_count": 4,
     "metadata": {},
     "output_type": "execute_result"
    }
   ],
   "source": [
    "critics_df = pd.read_csv(\"../data/raw/rotten_tomatoes_critic_reviews.csv\")\n",
    "\n",
    "critics_df.head()"
   ]
  },
  {
   "cell_type": "code",
   "execution_count": 6,
   "id": "af0e2709",
   "metadata": {},
   "outputs": [
    {
     "name": "stdout",
     "output_type": "stream",
     "text": [
      "Variables numéricas: ['runtime', 'tomatometer_rating', 'tomatometer_count', 'audience_rating', 'audience_count', 'tomatometer_top_critics_count', 'tomatometer_fresh_critics_count', 'tomatometer_rotten_critics_count']\n",
      "Variables no numéricas: ['rotten_tomatoes_link', 'movie_title', 'movie_info', 'critics_consensus', 'content_rating', 'genres', 'directors', 'authors', 'actors', 'original_release_date', 'streaming_release_date', 'production_company', 'tomatometer_status', 'audience_status']\n",
      "\n",
      "Shape del dataset: (17712, 22)\n",
      "\n",
      "Información del dataset:\n",
      "<class 'pandas.core.frame.DataFrame'>\n",
      "RangeIndex: 17712 entries, 0 to 17711\n",
      "Data columns (total 22 columns):\n",
      " #   Column                            Non-Null Count  Dtype  \n",
      "---  ------                            --------------  -----  \n",
      " 0   rotten_tomatoes_link              17712 non-null  object \n",
      " 1   movie_title                       17712 non-null  object \n",
      " 2   movie_info                        17391 non-null  object \n",
      " 3   critics_consensus                 9134 non-null   object \n",
      " 4   content_rating                    17712 non-null  object \n",
      " 5   genres                            17693 non-null  object \n",
      " 6   directors                         17518 non-null  object \n",
      " 7   authors                           16170 non-null  object \n",
      " 8   actors                            17360 non-null  object \n",
      " 9   original_release_date             16546 non-null  object \n",
      " 10  streaming_release_date            17328 non-null  object \n",
      " 11  runtime                           17398 non-null  float64\n",
      " 12  production_company                17213 non-null  object \n",
      " 13  tomatometer_status                17668 non-null  object \n",
      " 14  tomatometer_rating                17668 non-null  float64\n",
      " 15  tomatometer_count                 17668 non-null  float64\n",
      " 16  audience_status                   17264 non-null  object \n",
      " 17  audience_rating                   17416 non-null  float64\n",
      " 18  audience_count                    17415 non-null  float64\n",
      " 19  tomatometer_top_critics_count     17712 non-null  int64  \n",
      " 20  tomatometer_fresh_critics_count   17712 non-null  int64  \n",
      " 21  tomatometer_rotten_critics_count  17712 non-null  int64  \n",
      "dtypes: float64(5), int64(3), object(14)\n",
      "memory usage: 3.0+ MB\n",
      "None\n",
      "\n",
      "Valores nulos por columna:\n",
      "critics_consensus                   8578\n",
      "authors                             1542\n",
      "original_release_date               1166\n",
      "production_company                   499\n",
      "audience_status                      448\n",
      "streaming_release_date               384\n",
      "actors                               352\n",
      "movie_info                           321\n",
      "runtime                              314\n",
      "audience_count                       297\n",
      "audience_rating                      296\n",
      "directors                            194\n",
      "tomatometer_status                    44\n",
      "tomatometer_count                     44\n",
      "tomatometer_rating                    44\n",
      "genres                                19\n",
      "rotten_tomatoes_link                   0\n",
      "movie_title                            0\n",
      "content_rating                         0\n",
      "tomatometer_top_critics_count          0\n",
      "tomatometer_fresh_critics_count        0\n",
      "tomatometer_rotten_critics_count       0\n",
      "dtype: int64\n",
      "\n",
      "Filas duplicadas:\n",
      "Empty DataFrame\n",
      "Columns: [rotten_tomatoes_link, movie_title, movie_info, critics_consensus, content_rating, genres, directors, authors, actors, original_release_date, streaming_release_date, runtime, production_company, tomatometer_status, tomatometer_rating, tomatometer_count, audience_status, audience_rating, audience_count, tomatometer_top_critics_count, tomatometer_fresh_critics_count, tomatometer_rotten_critics_count]\n",
      "Index: []\n",
      "\n",
      "[0 rows x 22 columns]\n"
     ]
    }
   ],
   "source": [
    "ut.analisis(movies_df)"
   ]
  },
  {
   "cell_type": "code",
   "execution_count": 7,
   "id": "a3b03cad",
   "metadata": {},
   "outputs": [
    {
     "name": "stdout",
     "output_type": "stream",
     "text": [
      "Variables numéricas: []\n",
      "Variables no numéricas: ['rotten_tomatoes_link', 'critic_name', 'top_critic', 'publisher_name', 'review_type', 'review_score', 'review_date', 'review_content']\n",
      "\n",
      "Shape del dataset: (1130017, 8)\n",
      "\n",
      "Información del dataset:\n",
      "<class 'pandas.core.frame.DataFrame'>\n",
      "RangeIndex: 1130017 entries, 0 to 1130016\n",
      "Data columns (total 8 columns):\n",
      " #   Column                Non-Null Count    Dtype \n",
      "---  ------                --------------    ----- \n",
      " 0   rotten_tomatoes_link  1130017 non-null  object\n",
      " 1   critic_name           1111488 non-null  object\n",
      " 2   top_critic            1130017 non-null  bool  \n",
      " 3   publisher_name        1130017 non-null  object\n",
      " 4   review_type           1130017 non-null  object\n",
      " 5   review_score          824081 non-null   object\n",
      " 6   review_date           1130017 non-null  object\n",
      " 7   review_content        1064211 non-null  object\n",
      "dtypes: bool(1), object(7)\n",
      "memory usage: 61.4+ MB\n",
      "None\n",
      "\n",
      "Valores nulos por columna:\n",
      "review_score            305936\n",
      "review_content           65806\n",
      "critic_name              18529\n",
      "rotten_tomatoes_link         0\n",
      "publisher_name               0\n",
      "top_critic                   0\n",
      "review_type                  0\n",
      "review_date                  0\n",
      "dtype: int64\n",
      "\n",
      "Filas duplicadas:\n",
      "                                      rotten_tomatoes_link critic_name  \\\n",
      "35513                                  m/1069696-screamers  Dave White   \n",
      "35514                                  m/1069696-screamers  Dave White   \n",
      "35576                                    m/1069707-othello  Fred Topel   \n",
      "35577                                    m/1069707-othello  Fred Topel   \n",
      "41315                    m/1087935-buena_vista_social_club         NaN   \n",
      "...                                                    ...         ...   \n",
      "955172   m/the_fog_of_war_eleven_lessons_from_the_life_...         NaN   \n",
      "959490              m/the_girl_with_the_dragon_tattoo_2009         NaN   \n",
      "959491              m/the_girl_with_the_dragon_tattoo_2009         NaN   \n",
      "1045037                                    m/together_2001         NaN   \n",
      "1045038                                    m/together_2001         NaN   \n",
      "\n",
      "         top_critic publisher_name review_type review_score review_date  \\\n",
      "35513         False     Movies.com       Fresh           B-  1996-01-26   \n",
      "35514         False     Movies.com       Fresh           B-  1996-01-26   \n",
      "35576         False      About.com       Fresh          4/5  2003-11-25   \n",
      "35577         False      About.com       Fresh          4/5  2003-11-25   \n",
      "41315         False    Film Threat       Fresh          4/5  2002-12-08   \n",
      "...             ...            ...         ...          ...         ...   \n",
      "955172        False    Film Threat       Fresh          4/5  2005-12-06   \n",
      "959490        False  National Post       Fresh        3.5/4  2009-02-27   \n",
      "959491        False  National Post       Fresh        3.5/4  2009-02-27   \n",
      "1045037       False    Film Threat       Fresh          4/5  2002-12-08   \n",
      "1045038       False    Film Threat       Fresh          4/5  2002-12-08   \n",
      "\n",
      "                      review_content  \n",
      "35513                            NaN  \n",
      "35514                            NaN  \n",
      "35576    Fine Shakespeare adaptation  \n",
      "35577    Fine Shakespeare adaptation  \n",
      "41315                            NaN  \n",
      "...                              ...  \n",
      "955172                           NaN  \n",
      "959490                           NaN  \n",
      "959491                           NaN  \n",
      "1045037                          NaN  \n",
      "1045038                          NaN  \n",
      "\n",
      "[238926 rows x 8 columns]\n"
     ]
    }
   ],
   "source": [
    "ut.analisis(critics_df)"
   ]
  },
  {
   "cell_type": "markdown",
   "id": "633c5348",
   "metadata": {},
   "source": [
    "El dataset de películas, ***movies_df***, contiene 22 variables: 8 variable numéricas y 14 variables categóricas.\n",
    "\n",
    "- rotten_tomatoes_link: Identificador o enlace único de la película en Rotten Tomatoes.\n",
    "- movie_title: Título de la película.\n",
    "- movie_info: Información general (sinopsis, detalles adicionales).\n",
    "- critics_consensus: Resumen del consenso de los críticos.\n",
    "- content_rating: Clasificación de la película (PG, R, etc.).\n",
    "- genres: Género(s) de la película.\n",
    "- directors: Director(es) de la película.\n",
    "- authors: Críticos o autores asociados.\n",
    "- actors: Actores principales.\n",
    "- original_release_date: Fecha de estreno original.\n",
    "- streaming_release_date: Fecha de estreno en plataformas digitales.\n",
    "- runtime: Duración de la película (minutos).\n",
    "- production_company: Productora responsable.\n",
    "- tomatometer_status: Estado en el Tomatometer (Certified Fresh, Fresh, Rotten).\n",
    "- tomatometer_rating: Puntuación promedio de críticos.\n",
    "- tomatometer_count: Número de críticas registradas.\n",
    "- audience_status: Estado de la audiencia (Upright/Spilled).\n",
    "- audience_rating: Puntuación promedio de la audiencia.\n",
    "- audience_count: Número de valoraciones de la audiencia.\n",
    "- tomatometer_top_critics_count: Número de críticas de críticos top.\n",
    "- tomatometer_fresh_critics_count: Cantidad de críticas positivas.\n",
    "- tomatometer_rotten_critics_count: Cantidad de críticas negativas.\n"
   ]
  },
  {
   "cell_type": "markdown",
   "id": "833c8693",
   "metadata": {},
   "source": [
    "El dataset de reseñas, ***critics_df***, contiene 8 variables categóricas.\n",
    "\n",
    "- rotten_tomatoes_link: Sirve como identificador de la película\n",
    "- critic_name: Nombre del critico que comento la película\n",
    "- top_critic: Valor booleano que aclara si el crítico es un crítico destacado o no\n",
    "- publisher_name: nombre de la editorial para la que trabaja el crítico\n",
    "- review_type: Determina si la reseña es positiva (fresh) o negativa (rotten)\n",
    "- review_score: Puntaje proporcionado por el crítico\n",
    "- review_date: Fecha de la reseña\n",
    "- review_content: Contenido de la reseña"
   ]
  },
  {
   "cell_type": "markdown",
   "id": "dbb03aee",
   "metadata": {},
   "source": [
    "# 2. Exploración y limpieza"
   ]
  },
  {
   "cell_type": "markdown",
   "id": "f2e89938",
   "metadata": {},
   "source": [
    "### 2.1 Comprensión de Datos"
   ]
  },
  {
   "cell_type": "code",
   "execution_count": 8,
   "id": "7c411e48",
   "metadata": {},
   "outputs": [
    {
     "name": "stdout",
     "output_type": "stream",
     "text": [
      "El dataframe movies_df contiene 17712 filas y 22 columnas.\n"
     ]
    }
   ],
   "source": [
    "print(f'El dataframe movies_df contiene {movies_df.shape[0]} filas y {movies_df.shape[1]} columnas.')"
   ]
  },
  {
   "cell_type": "code",
   "execution_count": 9,
   "id": "bc55da80",
   "metadata": {},
   "outputs": [
    {
     "name": "stdout",
     "output_type": "stream",
     "text": [
      "El dataframe critics_df contiene 1130017 filas y 8 columnas.\n"
     ]
    }
   ],
   "source": [
    "print(f'El dataframe critics_df contiene {critics_df.shape[0]} filas y {critics_df.shape[1]} columnas.')"
   ]
  },
  {
   "cell_type": "markdown",
   "id": "298acde9",
   "metadata": {},
   "source": [
    "### 2.2 Identificando nulos y duplicados"
   ]
  },
  {
   "cell_type": "code",
   "execution_count": 10,
   "id": "d6a6b745",
   "metadata": {},
   "outputs": [
    {
     "name": "stdout",
     "output_type": "stream",
     "text": [
      "<class 'pandas.core.frame.DataFrame'>\n",
      "RangeIndex: 17712 entries, 0 to 17711\n",
      "Data columns (total 22 columns):\n",
      " #   Column                            Non-Null Count  Dtype  \n",
      "---  ------                            --------------  -----  \n",
      " 0   rotten_tomatoes_link              17712 non-null  object \n",
      " 1   movie_title                       17712 non-null  object \n",
      " 2   movie_info                        17391 non-null  object \n",
      " 3   critics_consensus                 9134 non-null   object \n",
      " 4   content_rating                    17712 non-null  object \n",
      " 5   genres                            17693 non-null  object \n",
      " 6   directors                         17518 non-null  object \n",
      " 7   authors                           16170 non-null  object \n",
      " 8   actors                            17360 non-null  object \n",
      " 9   original_release_date             16546 non-null  object \n",
      " 10  streaming_release_date            17328 non-null  object \n",
      " 11  runtime                           17398 non-null  float64\n",
      " 12  production_company                17213 non-null  object \n",
      " 13  tomatometer_status                17668 non-null  object \n",
      " 14  tomatometer_rating                17668 non-null  float64\n",
      " 15  tomatometer_count                 17668 non-null  float64\n",
      " 16  audience_status                   17264 non-null  object \n",
      " 17  audience_rating                   17416 non-null  float64\n",
      " 18  audience_count                    17415 non-null  float64\n",
      " 19  tomatometer_top_critics_count     17712 non-null  int64  \n",
      " 20  tomatometer_fresh_critics_count   17712 non-null  int64  \n",
      " 21  tomatometer_rotten_critics_count  17712 non-null  int64  \n",
      "dtypes: float64(5), int64(3), object(14)\n",
      "memory usage: 3.0+ MB\n"
     ]
    }
   ],
   "source": [
    "movies_df.info()"
   ]
  },
  {
   "cell_type": "code",
   "execution_count": 11,
   "id": "e7a48915",
   "metadata": {},
   "outputs": [
    {
     "name": "stdout",
     "output_type": "stream",
     "text": [
      "rotten_tomatoes_link                   0\n",
      "movie_title                            0\n",
      "movie_info                           321\n",
      "critics_consensus                   8578\n",
      "content_rating                         0\n",
      "genres                                19\n",
      "directors                            194\n",
      "authors                             1542\n",
      "actors                               352\n",
      "original_release_date               1166\n",
      "streaming_release_date               384\n",
      "runtime                              314\n",
      "production_company                   499\n",
      "tomatometer_status                    44\n",
      "tomatometer_rating                    44\n",
      "tomatometer_count                     44\n",
      "audience_status                      448\n",
      "audience_rating                      296\n",
      "audience_count                       297\n",
      "tomatometer_top_critics_count          0\n",
      "tomatometer_fresh_critics_count        0\n",
      "tomatometer_rotten_critics_count       0\n",
      "dtype: int64\n",
      "Duplicados: 0\n"
     ]
    }
   ],
   "source": [
    "print(movies_df.isnull().sum())\n",
    "\n",
    "print(\"Duplicados:\", movies_df.duplicated().sum())"
   ]
  },
  {
   "cell_type": "code",
   "execution_count": 12,
   "id": "4890f421",
   "metadata": {},
   "outputs": [],
   "source": [
    "movies_df = movies_df.drop_duplicates()"
   ]
  },
  {
   "cell_type": "code",
   "execution_count": 13,
   "id": "5417509d",
   "metadata": {},
   "outputs": [
    {
     "name": "stdout",
     "output_type": "stream",
     "text": [
      "<class 'pandas.core.frame.DataFrame'>\n",
      "RangeIndex: 1130017 entries, 0 to 1130016\n",
      "Data columns (total 8 columns):\n",
      " #   Column                Non-Null Count    Dtype \n",
      "---  ------                --------------    ----- \n",
      " 0   rotten_tomatoes_link  1130017 non-null  object\n",
      " 1   critic_name           1111488 non-null  object\n",
      " 2   top_critic            1130017 non-null  bool  \n",
      " 3   publisher_name        1130017 non-null  object\n",
      " 4   review_type           1130017 non-null  object\n",
      " 5   review_score          824081 non-null   object\n",
      " 6   review_date           1130017 non-null  object\n",
      " 7   review_content        1064211 non-null  object\n",
      "dtypes: bool(1), object(7)\n",
      "memory usage: 61.4+ MB\n"
     ]
    }
   ],
   "source": [
    "critics_df.info()"
   ]
  },
  {
   "cell_type": "code",
   "execution_count": 14,
   "id": "eb27806f",
   "metadata": {},
   "outputs": [
    {
     "name": "stdout",
     "output_type": "stream",
     "text": [
      "rotten_tomatoes_link         0\n",
      "critic_name              18529\n",
      "top_critic                   0\n",
      "publisher_name               0\n",
      "review_type                  0\n",
      "review_score            305936\n",
      "review_date                  0\n",
      "review_content           65806\n",
      "dtype: int64\n",
      "Duplicados: 119471\n"
     ]
    }
   ],
   "source": [
    "print(critics_df.isnull().sum())\n",
    "\n",
    "print(\"Duplicados:\", critics_df.duplicated().sum())"
   ]
  },
  {
   "cell_type": "code",
   "execution_count": 15,
   "id": "36e96921",
   "metadata": {},
   "outputs": [],
   "source": [
    "critics_df = critics_df.drop_duplicates()\n",
    "critics_df = critics_df.dropna(subset=['review_content'])"
   ]
  },
  {
   "cell_type": "markdown",
   "id": "dfcc5c44",
   "metadata": {},
   "source": [
    "- Los nulos en el nombre del crítico se contrastan con el de publisher name asi que no es grave y se puede mantener\n",
    "- El de review score se compensa con el de review type ya que determina si es util o no\n",
    "- El de texto si es necesario arreglarlo para cuando se haga el NLP"
   ]
  },
  {
   "cell_type": "markdown",
   "id": "d231cb24",
   "metadata": {},
   "source": [
    "### 2.3 Eliminar Información Irrelevante"
   ]
  },
  {
   "cell_type": "code",
   "execution_count": 16,
   "id": "b45cb730",
   "metadata": {},
   "outputs": [
    {
     "data": {
      "text/html": [
       "<div>\n",
       "<style scoped>\n",
       "    .dataframe tbody tr th:only-of-type {\n",
       "        vertical-align: middle;\n",
       "    }\n",
       "\n",
       "    .dataframe tbody tr th {\n",
       "        vertical-align: top;\n",
       "    }\n",
       "\n",
       "    .dataframe thead th {\n",
       "        text-align: right;\n",
       "    }\n",
       "</style>\n",
       "<table border=\"1\" class=\"dataframe\">\n",
       "  <thead>\n",
       "    <tr style=\"text-align: right;\">\n",
       "      <th></th>\n",
       "      <th>rotten_tomatoes_link</th>\n",
       "      <th>top_critic</th>\n",
       "      <th>publisher_name</th>\n",
       "      <th>review_type</th>\n",
       "      <th>review_content</th>\n",
       "    </tr>\n",
       "  </thead>\n",
       "  <tbody>\n",
       "    <tr>\n",
       "      <th>0</th>\n",
       "      <td>m/0814255</td>\n",
       "      <td>False</td>\n",
       "      <td>Urban Cinefile</td>\n",
       "      <td>Fresh</td>\n",
       "      <td>A fantasy adventure that fuses Greek mythology...</td>\n",
       "    </tr>\n",
       "    <tr>\n",
       "      <th>1</th>\n",
       "      <td>m/0814255</td>\n",
       "      <td>False</td>\n",
       "      <td>Urban Cinefile</td>\n",
       "      <td>Fresh</td>\n",
       "      <td>Uma Thurman as Medusa, the gorgon with a coiff...</td>\n",
       "    </tr>\n",
       "    <tr>\n",
       "      <th>2</th>\n",
       "      <td>m/0814255</td>\n",
       "      <td>False</td>\n",
       "      <td>FILMINK (Australia)</td>\n",
       "      <td>Fresh</td>\n",
       "      <td>With a top-notch cast and dazzling special eff...</td>\n",
       "    </tr>\n",
       "    <tr>\n",
       "      <th>3</th>\n",
       "      <td>m/0814255</td>\n",
       "      <td>False</td>\n",
       "      <td>Sunday Mail (Australia)</td>\n",
       "      <td>Fresh</td>\n",
       "      <td>Whether audiences will get behind The Lightnin...</td>\n",
       "    </tr>\n",
       "    <tr>\n",
       "      <th>4</th>\n",
       "      <td>m/0814255</td>\n",
       "      <td>True</td>\n",
       "      <td>Hollywood Reporter</td>\n",
       "      <td>Rotten</td>\n",
       "      <td>What's really lacking in The Lightning Thief i...</td>\n",
       "    </tr>\n",
       "  </tbody>\n",
       "</table>\n",
       "</div>"
      ],
      "text/plain": [
       "  rotten_tomatoes_link  top_critic           publisher_name review_type  \\\n",
       "0            m/0814255       False           Urban Cinefile       Fresh   \n",
       "1            m/0814255       False           Urban Cinefile       Fresh   \n",
       "2            m/0814255       False      FILMINK (Australia)       Fresh   \n",
       "3            m/0814255       False  Sunday Mail (Australia)       Fresh   \n",
       "4            m/0814255        True       Hollywood Reporter      Rotten   \n",
       "\n",
       "                                      review_content  \n",
       "0  A fantasy adventure that fuses Greek mythology...  \n",
       "1  Uma Thurman as Medusa, the gorgon with a coiff...  \n",
       "2  With a top-notch cast and dazzling special eff...  \n",
       "3  Whether audiences will get behind The Lightnin...  \n",
       "4  What's really lacking in The Lightning Thief i...  "
      ]
     },
     "execution_count": 16,
     "metadata": {},
     "output_type": "execute_result"
    }
   ],
   "source": [
    "critics = critics_df.copy().drop(columns=['review_date', 'review_score', 'critic_name'])\n",
    "\n",
    "critics.head()"
   ]
  },
  {
   "cell_type": "markdown",
   "id": "bd18b1bb",
   "metadata": {},
   "source": [
    "- La fecha no es relevante para el estudio.\n",
    "- El puntaje tiene sus nulos, además de que ya hay un boolean que dice si la reseña será positiva o negativa.\n",
    "- El nombre del crítico no hace falta si ya está el de la editorial que lo publica."
   ]
  },
  {
   "cell_type": "markdown",
   "id": "8af58623",
   "metadata": {},
   "source": [
    "### 2.4 Crear Listas\n",
    "Para poder hacer un mejor análisis de los datos, por cada columna que tenga varios valores, crearemos una lista de esos valores."
   ]
  },
  {
   "cell_type": "code",
   "execution_count": 17,
   "id": "27354a45",
   "metadata": {},
   "outputs": [],
   "source": [
    "movies = movies_df.copy()"
   ]
  },
  {
   "cell_type": "markdown",
   "id": "03f890a5",
   "metadata": {},
   "source": [
    "#### Géneros"
   ]
  },
  {
   "cell_type": "code",
   "execution_count": 18,
   "id": "12fb20b7",
   "metadata": {},
   "outputs": [],
   "source": [
    "movies[\"genres\"] = movies[\"genres\"].str.split(\",\")\n",
    "\n",
    "movies[\"genres\"] = movies[\"genres\"].apply(\n",
    "    lambda lst: [g.strip() for g in lst] if isinstance(lst, list) else []\n",
    ")"
   ]
  },
  {
   "cell_type": "markdown",
   "id": "32c9b760",
   "metadata": {},
   "source": [
    "#### Directores"
   ]
  },
  {
   "cell_type": "code",
   "execution_count": 19,
   "id": "20c48094",
   "metadata": {},
   "outputs": [],
   "source": [
    "movies[\"directors\"] = movies[\"directors\"].str.split(\",\")\n",
    "\n",
    "movies[\"directors\"] = movies[\"directors\"].apply(\n",
    "    lambda lst: [g.strip() for g in lst] if isinstance(lst, list) else []\n",
    ")"
   ]
  },
  {
   "cell_type": "markdown",
   "id": "34ca1a50",
   "metadata": {},
   "source": [
    "#### Autores"
   ]
  },
  {
   "cell_type": "code",
   "execution_count": 20,
   "id": "5f354757",
   "metadata": {},
   "outputs": [],
   "source": [
    "movies[\"authors\"] = movies[\"authors\"].str.split(\",\")\n",
    "\n",
    "movies[\"authors\"] = movies[\"authors\"].apply(\n",
    "    lambda lst: [g.strip() for g in lst] if isinstance(lst, list) else []\n",
    ")"
   ]
  },
  {
   "cell_type": "markdown",
   "id": "12a40593",
   "metadata": {},
   "source": [
    "#### Actores"
   ]
  },
  {
   "cell_type": "code",
   "execution_count": 21,
   "id": "adf1142e",
   "metadata": {},
   "outputs": [],
   "source": [
    "movies[\"actors\"] = movies[\"actors\"].str.split(\",\")\n",
    "\n",
    "movies[\"actors\"] = movies[\"actors\"].apply(\n",
    "    lambda lst: [g.strip() for g in lst] if isinstance(lst, list) else []\n",
    ")"
   ]
  },
  {
   "cell_type": "markdown",
   "id": "df3821d9",
   "metadata": {},
   "source": [
    "### 2.5 Nuevos Datasets\n",
    "Para las listas creadas previamente, crearemos nuevos datasets en el que cada fila corresponda a un elemento de la lista. Con estos datasets haremos un análisis univariante de esas variables."
   ]
  },
  {
   "cell_type": "code",
   "execution_count": 22,
   "id": "010e3868",
   "metadata": {},
   "outputs": [],
   "source": [
    "movie_genre = movies.explode(\"genres\").reset_index(drop=True)\n",
    "\n",
    "movie_genre = movie_genre.rename(columns={\"genres\": \"genre\"})\n",
    "\n",
    "movie_genre = movie_genre[[\"rotten_tomatoes_link\", \"genre\"]].drop_duplicates()"
   ]
  },
  {
   "cell_type": "code",
   "execution_count": 23,
   "id": "371f0137",
   "metadata": {},
   "outputs": [
    {
     "data": {
      "text/html": [
       "<div>\n",
       "<style scoped>\n",
       "    .dataframe tbody tr th:only-of-type {\n",
       "        vertical-align: middle;\n",
       "    }\n",
       "\n",
       "    .dataframe tbody tr th {\n",
       "        vertical-align: top;\n",
       "    }\n",
       "\n",
       "    .dataframe thead th {\n",
       "        text-align: right;\n",
       "    }\n",
       "</style>\n",
       "<table border=\"1\" class=\"dataframe\">\n",
       "  <thead>\n",
       "    <tr style=\"text-align: right;\">\n",
       "      <th></th>\n",
       "      <th>rotten_tomatoes_link</th>\n",
       "      <th>genre</th>\n",
       "    </tr>\n",
       "  </thead>\n",
       "  <tbody>\n",
       "    <tr>\n",
       "      <th>0</th>\n",
       "      <td>m/0814255</td>\n",
       "      <td>Action &amp; Adventure</td>\n",
       "    </tr>\n",
       "    <tr>\n",
       "      <th>1</th>\n",
       "      <td>m/0814255</td>\n",
       "      <td>Comedy</td>\n",
       "    </tr>\n",
       "    <tr>\n",
       "      <th>2</th>\n",
       "      <td>m/0814255</td>\n",
       "      <td>Drama</td>\n",
       "    </tr>\n",
       "    <tr>\n",
       "      <th>3</th>\n",
       "      <td>m/0814255</td>\n",
       "      <td>Science Fiction &amp; Fantasy</td>\n",
       "    </tr>\n",
       "    <tr>\n",
       "      <th>4</th>\n",
       "      <td>m/0878835</td>\n",
       "      <td>Comedy</td>\n",
       "    </tr>\n",
       "  </tbody>\n",
       "</table>\n",
       "</div>"
      ],
      "text/plain": [
       "  rotten_tomatoes_link                      genre\n",
       "0            m/0814255         Action & Adventure\n",
       "1            m/0814255                     Comedy\n",
       "2            m/0814255                      Drama\n",
       "3            m/0814255  Science Fiction & Fantasy\n",
       "4            m/0878835                     Comedy"
      ]
     },
     "execution_count": 23,
     "metadata": {},
     "output_type": "execute_result"
    }
   ],
   "source": [
    "movie_genre.head()"
   ]
  },
  {
   "cell_type": "markdown",
   "id": "34024a4d",
   "metadata": {},
   "source": [
    "#### Directores"
   ]
  },
  {
   "cell_type": "code",
   "execution_count": 24,
   "id": "3d7233af",
   "metadata": {},
   "outputs": [],
   "source": [
    "movie_director = movies.explode(\"directors\").reset_index(drop=True)\n",
    "\n",
    "movie_director = movie_director.rename(columns={\"directors\": \"director\"})\n",
    "\n",
    "movie_director = movie_director[[\"rotten_tomatoes_link\", \"director\"]].drop_duplicates()"
   ]
  },
  {
   "cell_type": "code",
   "execution_count": 25,
   "id": "2d6d4ade",
   "metadata": {},
   "outputs": [
    {
     "data": {
      "text/html": [
       "<div>\n",
       "<style scoped>\n",
       "    .dataframe tbody tr th:only-of-type {\n",
       "        vertical-align: middle;\n",
       "    }\n",
       "\n",
       "    .dataframe tbody tr th {\n",
       "        vertical-align: top;\n",
       "    }\n",
       "\n",
       "    .dataframe thead th {\n",
       "        text-align: right;\n",
       "    }\n",
       "</style>\n",
       "<table border=\"1\" class=\"dataframe\">\n",
       "  <thead>\n",
       "    <tr style=\"text-align: right;\">\n",
       "      <th></th>\n",
       "      <th>rotten_tomatoes_link</th>\n",
       "      <th>director</th>\n",
       "    </tr>\n",
       "  </thead>\n",
       "  <tbody>\n",
       "    <tr>\n",
       "      <th>0</th>\n",
       "      <td>m/0814255</td>\n",
       "      <td>Chris Columbus</td>\n",
       "    </tr>\n",
       "    <tr>\n",
       "      <th>1</th>\n",
       "      <td>m/0878835</td>\n",
       "      <td>Nicole Holofcener</td>\n",
       "    </tr>\n",
       "    <tr>\n",
       "      <th>2</th>\n",
       "      <td>m/10</td>\n",
       "      <td>Blake Edwards</td>\n",
       "    </tr>\n",
       "    <tr>\n",
       "      <th>3</th>\n",
       "      <td>m/1000013-12_angry_men</td>\n",
       "      <td>Sidney Lumet</td>\n",
       "    </tr>\n",
       "    <tr>\n",
       "      <th>4</th>\n",
       "      <td>m/1000079-20000_leagues_under_the_sea</td>\n",
       "      <td>Richard Fleischer</td>\n",
       "    </tr>\n",
       "  </tbody>\n",
       "</table>\n",
       "</div>"
      ],
      "text/plain": [
       "                    rotten_tomatoes_link           director\n",
       "0                              m/0814255     Chris Columbus\n",
       "1                              m/0878835  Nicole Holofcener\n",
       "2                                   m/10      Blake Edwards\n",
       "3                 m/1000013-12_angry_men       Sidney Lumet\n",
       "4  m/1000079-20000_leagues_under_the_sea  Richard Fleischer"
      ]
     },
     "execution_count": 25,
     "metadata": {},
     "output_type": "execute_result"
    }
   ],
   "source": [
    "movie_director.head()"
   ]
  },
  {
   "cell_type": "markdown",
   "id": "e9c91acc",
   "metadata": {},
   "source": [
    "#### Autores"
   ]
  },
  {
   "cell_type": "code",
   "execution_count": 26,
   "id": "021263c0",
   "metadata": {},
   "outputs": [],
   "source": [
    "movie_author = movies.explode(\"authors\").reset_index(drop=True)\n",
    "\n",
    "movie_author = movie_author.rename(columns={\"authors\": \"author\"})\n",
    "\n",
    "movie_author = movie_author[[\"rotten_tomatoes_link\", \"author\"]].drop_duplicates()"
   ]
  },
  {
   "cell_type": "code",
   "execution_count": 27,
   "id": "ca0a514e",
   "metadata": {},
   "outputs": [
    {
     "data": {
      "text/html": [
       "<div>\n",
       "<style scoped>\n",
       "    .dataframe tbody tr th:only-of-type {\n",
       "        vertical-align: middle;\n",
       "    }\n",
       "\n",
       "    .dataframe tbody tr th {\n",
       "        vertical-align: top;\n",
       "    }\n",
       "\n",
       "    .dataframe thead th {\n",
       "        text-align: right;\n",
       "    }\n",
       "</style>\n",
       "<table border=\"1\" class=\"dataframe\">\n",
       "  <thead>\n",
       "    <tr style=\"text-align: right;\">\n",
       "      <th></th>\n",
       "      <th>rotten_tomatoes_link</th>\n",
       "      <th>author</th>\n",
       "    </tr>\n",
       "  </thead>\n",
       "  <tbody>\n",
       "    <tr>\n",
       "      <th>0</th>\n",
       "      <td>m/0814255</td>\n",
       "      <td>Craig Titley</td>\n",
       "    </tr>\n",
       "    <tr>\n",
       "      <th>1</th>\n",
       "      <td>m/0814255</td>\n",
       "      <td>Chris Columbus</td>\n",
       "    </tr>\n",
       "    <tr>\n",
       "      <th>2</th>\n",
       "      <td>m/0814255</td>\n",
       "      <td>Rick Riordan</td>\n",
       "    </tr>\n",
       "    <tr>\n",
       "      <th>3</th>\n",
       "      <td>m/0878835</td>\n",
       "      <td>Nicole Holofcener</td>\n",
       "    </tr>\n",
       "    <tr>\n",
       "      <th>4</th>\n",
       "      <td>m/10</td>\n",
       "      <td>Blake Edwards</td>\n",
       "    </tr>\n",
       "  </tbody>\n",
       "</table>\n",
       "</div>"
      ],
      "text/plain": [
       "  rotten_tomatoes_link             author\n",
       "0            m/0814255       Craig Titley\n",
       "1            m/0814255     Chris Columbus\n",
       "2            m/0814255       Rick Riordan\n",
       "3            m/0878835  Nicole Holofcener\n",
       "4                 m/10      Blake Edwards"
      ]
     },
     "execution_count": 27,
     "metadata": {},
     "output_type": "execute_result"
    }
   ],
   "source": [
    "movie_author.head()"
   ]
  },
  {
   "cell_type": "markdown",
   "id": "d2183596",
   "metadata": {},
   "source": [
    "#### Actores"
   ]
  },
  {
   "cell_type": "code",
   "execution_count": 28,
   "id": "bd67c99f",
   "metadata": {},
   "outputs": [],
   "source": [
    "movie_actor = movies.explode(\"actors\").reset_index(drop=True)\n",
    "\n",
    "movie_actor = movie_actor.rename(columns={\"actors\": \"actor\"})\n",
    "\n",
    "movie_actor = movie_actor[[\"rotten_tomatoes_link\", \"actor\"]].drop_duplicates()"
   ]
  },
  {
   "cell_type": "code",
   "execution_count": 29,
   "id": "1c4bcafe",
   "metadata": {},
   "outputs": [
    {
     "data": {
      "text/html": [
       "<div>\n",
       "<style scoped>\n",
       "    .dataframe tbody tr th:only-of-type {\n",
       "        vertical-align: middle;\n",
       "    }\n",
       "\n",
       "    .dataframe tbody tr th {\n",
       "        vertical-align: top;\n",
       "    }\n",
       "\n",
       "    .dataframe thead th {\n",
       "        text-align: right;\n",
       "    }\n",
       "</style>\n",
       "<table border=\"1\" class=\"dataframe\">\n",
       "  <thead>\n",
       "    <tr style=\"text-align: right;\">\n",
       "      <th></th>\n",
       "      <th>rotten_tomatoes_link</th>\n",
       "      <th>actor</th>\n",
       "    </tr>\n",
       "  </thead>\n",
       "  <tbody>\n",
       "    <tr>\n",
       "      <th>0</th>\n",
       "      <td>m/0814255</td>\n",
       "      <td>Logan Lerman</td>\n",
       "    </tr>\n",
       "    <tr>\n",
       "      <th>1</th>\n",
       "      <td>m/0814255</td>\n",
       "      <td>Brandon T. Jackson</td>\n",
       "    </tr>\n",
       "    <tr>\n",
       "      <th>2</th>\n",
       "      <td>m/0814255</td>\n",
       "      <td>Alexandra Daddario</td>\n",
       "    </tr>\n",
       "    <tr>\n",
       "      <th>3</th>\n",
       "      <td>m/0814255</td>\n",
       "      <td>Jake Abel</td>\n",
       "    </tr>\n",
       "    <tr>\n",
       "      <th>4</th>\n",
       "      <td>m/0814255</td>\n",
       "      <td>Sean Bean</td>\n",
       "    </tr>\n",
       "  </tbody>\n",
       "</table>\n",
       "</div>"
      ],
      "text/plain": [
       "  rotten_tomatoes_link               actor\n",
       "0            m/0814255        Logan Lerman\n",
       "1            m/0814255  Brandon T. Jackson\n",
       "2            m/0814255  Alexandra Daddario\n",
       "3            m/0814255           Jake Abel\n",
       "4            m/0814255           Sean Bean"
      ]
     },
     "execution_count": 29,
     "metadata": {},
     "output_type": "execute_result"
    }
   ],
   "source": [
    "movie_actor.head()"
   ]
  },
  {
   "cell_type": "markdown",
   "id": "56b474c2",
   "metadata": {},
   "source": [
    "### 2.6 Transformamos las fechas en un formato que nos pueda servir para el análisis"
   ]
  },
  {
   "cell_type": "code",
   "execution_count": 30,
   "id": "c183757e",
   "metadata": {},
   "outputs": [],
   "source": [
    "movies[\"original_release_date\"] = pd.to_datetime(movies[\"original_release_date\"], errors=\"coerce\")\n",
    "\n",
    "movies[\"release_year\"] = movies['original_release_date'].dt.year\n",
    "\n",
    "movies[\"release_year\"] = movies[\"release_year\"].fillna(0).astype(int)"
   ]
  },
  {
   "cell_type": "code",
   "execution_count": 31,
   "id": "40ccd095",
   "metadata": {},
   "outputs": [],
   "source": [
    "movies[\"streaming_release_date\"] = pd.to_datetime(movies[\"streaming_release_date\"], errors=\"coerce\")\n",
    "\n",
    "movies[\"streaming_release_year\"] = movies['streaming_release_date'].dt.year\n",
    "\n",
    "movies[\"streaming_release_year\"] = movies[\"streaming_release_year\"].fillna(0).astype(int)"
   ]
  },
  {
   "cell_type": "code",
   "execution_count": 32,
   "id": "f117bc56",
   "metadata": {},
   "outputs": [],
   "source": [
    "movies.drop(columns=[\"original_release_date\", \"streaming_release_date\"], inplace=True)"
   ]
  },
  {
   "cell_type": "markdown",
   "id": "104ba74c",
   "metadata": {},
   "source": [
    "## 3. Análisis Univariante"
   ]
  },
  {
   "cell_type": "markdown",
   "id": "cc42bfc0",
   "metadata": {},
   "source": [
    "### 3.1 Variables Numéricas"
   ]
  },
  {
   "cell_type": "code",
   "execution_count": 33,
   "id": "d95a5014",
   "metadata": {},
   "outputs": [
    {
     "data": {
      "image/png": "[encoded data removed]",
      "text/plain": [
       "<Figure size 800x400 with 2 Axes>"
      ]
     },
     "metadata": {},
     "output_type": "display_data"
    }
   ],
   "source": [
    "fig, axis = plt.subplots(1, 2, figsize=(8, 4))\n",
    "\n",
    "# runtime\n",
    "sns.histplot(ax = axis[0], data = movies, x = \"runtime\")\n",
    "sns.boxplot(ax = axis[1], data = movies, x = \"runtime\")\n",
    "\n",
    "plt.tight_layout()\n",
    "plt.show()"
   ]
  },
  {
   "cell_type": "code",
   "execution_count": 34,
   "id": "14fa58fd",
   "metadata": {},
   "outputs": [
    {
     "data": {
      "image/png": "[encoded data removed]",
      "text/plain": [
       "<Figure size 800x400 with 2 Axes>"
      ]
     },
     "metadata": {},
     "output_type": "display_data"
    }
   ],
   "source": [
    "fig, axis = plt.subplots(1, 2, figsize=(8, 4))\n",
    "\n",
    "# tomatometer_rating\n",
    "sns.histplot(ax = axis[0], data = movies, x = \"tomatometer_rating\")\n",
    "sns.boxplot(ax = axis[1], data = movies, x = \"tomatometer_rating\")\n",
    "\n",
    "plt.tight_layout()\n",
    "plt.show()"
   ]
  },
  {
   "cell_type": "code",
   "execution_count": 35,
   "id": "e2fcf299",
   "metadata": {},
   "outputs": [
    {
     "data": {
      "image/png": "[encoded data removed]",
      "text/plain": [
       "<Figure size 800x400 with 2 Axes>"
      ]
     },
     "metadata": {},
     "output_type": "display_data"
    }
   ],
   "source": [
    "fig, axis = plt.subplots(1, 2, figsize=(8, 4))\n",
    "\n",
    "# tomatometer_count\n",
    "sns.histplot(ax = axis[0], data = movies, x = \"tomatometer_count\")\n",
    "sns.boxplot(ax = axis[1], data = movies, x = \"tomatometer_count\")\n",
    "\n",
    "plt.tight_layout()\n",
    "plt.show()"
   ]
  },
  {
   "cell_type": "code",
   "execution_count": 36,
   "id": "22d6a19f",
   "metadata": {},
   "outputs": [
    {
     "data": {
      "image/png": "[encoded data removed]",
      "text/plain": [
       "<Figure size 800x400 with 2 Axes>"
      ]
     },
     "metadata": {},
     "output_type": "display_data"
    }
   ],
   "source": [
    "fig, axis = plt.subplots(1, 2, figsize=(8, 4))\n",
    "\n",
    "# audience_rating\n",
    "sns.histplot(ax = axis[0], data = movies, x = \"audience_rating\")\n",
    "sns.boxplot(ax = axis[1], data = movies, x = \"audience_rating\")\n",
    "\n",
    "plt.tight_layout()\n",
    "plt.show()"
   ]
  },
  {
   "cell_type": "code",
   "execution_count": 37,
   "id": "a48f4bc1",
   "metadata": {},
   "outputs": [
    {
     "data": {
      "image/png": "[encoded data removed]",
      "text/plain": [
       "<Figure size 800x400 with 2 Axes>"
      ]
     },
     "metadata": {},
     "output_type": "display_data"
    }
   ],
   "source": [
    "fig, axis = plt.subplots(1, 2, figsize=(8, 4))\n",
    "\n",
    "# audience_count\n",
    "sns.histplot(ax = axis[0], data = movies, x = \"audience_count\")\n",
    "sns.boxplot(ax = axis[1], data = movies, x = \"audience_count\")\n",
    "\n",
    "plt.tight_layout()\n",
    "plt.show()"
   ]
  },
  {
   "cell_type": "code",
   "execution_count": null,
   "id": "9279c1da",
   "metadata": {},
   "outputs": [],
   "source": [
    "fig, axis = plt.subplots(1, 2, figsize=(8, 4))\n",
    "\n",
    "# tomatometer_top_critics_count\n",
    "sns.histplot(ax = axis[0], data = movies, x = \"tomatometer_top_critics_count\")\n",
    "sns.boxplot(ax = axis[1], data = movies, x = \"tomatometer_top_critics_count\")\n",
    "\n",
    "plt.tight_layout()\n",
    "plt.show()"
   ]
  },
  {
   "cell_type": "code",
   "execution_count": null,
   "id": "ee703d1b",
   "metadata": {},
   "outputs": [],
   "source": [
    "fig, axis = plt.subplots(1, 2, figsize=(8, 4))\n",
    "\n",
    "# tomatometer_fresh_critics_count\n",
    "sns.histplot(ax = axis[0], data = movies, x = \"tomatometer_fresh_critics_count\")\n",
    "sns.boxplot(ax = axis[1], data = movies, x = \"tomatometer_fresh_critics_count\")\n",
    "\n",
    "plt.tight_layout()\n",
    "plt.show()"
   ]
  },
  {
   "cell_type": "code",
   "execution_count": null,
   "id": "3272b44b",
   "metadata": {},
   "outputs": [],
   "source": [
    "fig, axis = plt.subplots(1, 2, figsize=(8, 4))\n",
    "\n",
    "# tomatometer_rotten_critics_count\n",
    "sns.histplot(ax = axis[0], data = movies, x = \"tomatometer_rotten_critics_count\")\n",
    "sns.boxplot(ax = axis[1], data = movies, x = \"tomatometer_rotten_critics_count\")\n",
    "\n",
    "plt.tight_layout()\n",
    "plt.show()"
   ]
  },
  {
   "cell_type": "code",
   "execution_count": null,
   "id": "39e455e5",
   "metadata": {},
   "outputs": [],
   "source": [
    "fig, axis = plt.subplots(1, 2, figsize=(8, 4))\n",
    "\n",
    "# year\n",
    "sns.histplot(ax = axis[0], data = movies[movies[\"release_year\"] > 0], x = \"release_year\")\n",
    "sns.boxplot(ax = axis[1], data = movies[movies[\"release_year\"] > 0], x = \"release_year\")\n",
    "\n",
    "plt.tight_layout()\n",
    "plt.show()"
   ]
  },
  {
   "cell_type": "code",
   "execution_count": null,
   "id": "25ff6ce3",
   "metadata": {},
   "outputs": [],
   "source": [
    "fig, axis = plt.subplots(1, 2, figsize=(8, 4))\n",
    "\n",
    "# year\n",
    "sns.histplot(ax = axis[0], data = movies[movies[\"streaming_release_year\"] > 0], x = \"streaming_release_year\")\n",
    "sns.boxplot(ax = axis[1], data = movies[movies[\"streaming_release_year\"] > 0], x = \"streaming_release_year\")\n",
    "\n",
    "plt.tight_layout()\n",
    "plt.show()"
   ]
  },
  {
   "cell_type": "markdown",
   "id": "18d30658",
   "metadata": {},
   "source": [
    "### 3.2 Variables Categóricas"
   ]
  },
  {
   "cell_type": "code",
   "execution_count": null,
   "id": "f08e4580",
   "metadata": {},
   "outputs": [],
   "source": [
    "#Genres\n",
    "plt.figure(figsize=(12, 6))\n",
    "ax = sns.countplot(\n",
    "    data=movie_genre,\n",
    "    x=\"genre\",\n",
    "    order=movie_genre[\"genre\"].value_counts().index,\n",
    "    palette=\"Set2\"\n",
    ")\n",
    "\n",
    "plt.title(\"Distribución por Género\")\n",
    "ax.tick_params(axis='x', rotation=90, labelsize=8)\n",
    "plt.tight_layout()\n",
    "plt.show()"
   ]
  },
  {
   "cell_type": "code",
   "execution_count": null,
   "id": "93eb843e",
   "metadata": {},
   "outputs": [],
   "source": [
    "#Directors\n",
    "plt.figure(figsize=(12, 6))\n",
    "ax = sns.countplot(\n",
    "    data=movie_director,\n",
    "    x=\"director\",\n",
    "    order=movie_director[\"director\"].value_counts().index,\n",
    "    palette=\"Set2\"\n",
    ")\n",
    "\n",
    "plt.title(\"Distribución por Directores\")\n",
    "ax.tick_params(axis='x', rotation=90, labelsize=8)\n",
    "plt.tight_layout()\n",
    "plt.show()"
   ]
  },
  {
   "cell_type": "markdown",
   "id": "c122bf9a",
   "metadata": {},
   "source": [
    "Al tener tantos directores, nos enfocaremos en aquellos que hayan dirigido más de 10 películas."
   ]
  },
  {
   "cell_type": "code",
   "execution_count": null,
   "id": "ffb00339",
   "metadata": {},
   "outputs": [],
   "source": [
    "# Contar películas por director\n",
    "director_counts = movie_director['director'].value_counts()\n",
    "\n",
    "# Filtrar solo directores con más de 10 películas\n",
    "top_directors_over_10 = director_counts[director_counts > 10].index\n",
    "\n",
    "# Filtrar el dataset\n",
    "movie_director_over_10 = movie_director[movie_director['director'].isin(top_directors_over_10)]\n",
    "\n",
    "# Gráfico\n",
    "plt.figure(figsize=(12, 6))\n",
    "ax = sns.countplot(\n",
    "    data=movie_director_over_10,\n",
    "    x=\"director\",\n",
    "    order=movie_director_over_10[\"director\"].value_counts().index,\n",
    "    palette=\"Set2\"\n",
    ")\n",
    "\n",
    "plt.title(\"Distribución por Directores con entre 10 y 8 películas\")\n",
    "ax.tick_params(axis='x', rotation=90, labelsize=5)\n",
    "plt.tight_layout()\n",
    "plt.show()"
   ]
  },
  {
   "cell_type": "markdown",
   "id": "39a17f53",
   "metadata": {},
   "source": [
    "### Autores"
   ]
  },
  {
   "cell_type": "code",
   "execution_count": null,
   "id": "83d81c39",
   "metadata": {},
   "outputs": [],
   "source": [
    "#Autores\n",
    "plt.figure(figsize=(12, 6))\n",
    "ax = sns.countplot(\n",
    "    data=movie_author,\n",
    "    x=\"author\",\n",
    "    order=movie_author[\"author\"].value_counts().index,\n",
    "    palette=\"Set2\"\n",
    ")\n",
    "\n",
    "plt.title(\"Distribución por Autores\")\n",
    "ax.tick_params(axis='x', rotation=90, labelsize=8)\n",
    "plt.tight_layout()\n",
    "plt.show()"
   ]
  },
  {
   "cell_type": "markdown",
   "id": "2961937d",
   "metadata": {},
   "source": [
    "Al tener tantos autores, nos enfocaremos en aquellos con más de 10 películas."
   ]
  },
  {
   "cell_type": "code",
   "execution_count": null,
   "id": "c5675e57",
   "metadata": {},
   "outputs": [],
   "source": [
    "author_counts = movie_author['author'].value_counts()\n",
    "\n",
    "top_authors = author_counts[author_counts > 10].index\n",
    "\n",
    "# Filtrar el dataset\n",
    "movie_author_top = movie_author[movie_author['author'].isin(top_authors)]\n",
    "\n",
    "# Gráfico\n",
    "plt.figure(figsize=(12, 6))\n",
    "ax = sns.countplot(\n",
    "    data=movie_author_top,\n",
    "    x=\"author\",\n",
    "    order=movie_author_top[\"author\"].value_counts().index,\n",
    "    palette=\"Set2\"\n",
    ")\n",
    "\n",
    "plt.title(\"Distribución por Autores con >10 películas\")\n",
    "ax.tick_params(axis='x', rotation=90, labelsize=5)\n",
    "plt.tight_layout()\n",
    "plt.show()"
   ]
  },
  {
   "cell_type": "markdown",
   "id": "2c45eb04",
   "metadata": {},
   "source": [
    "Para el dataset de críticas, usaremos otro enfoque."
   ]
  },
  {
   "cell_type": "markdown",
   "id": "5ce2a180",
   "metadata": {},
   "source": [
    "#### 3.2.1. Dividir el Dataset en categoricos y numericos"
   ]
  },
  {
   "cell_type": "code",
   "execution_count": null,
   "id": "da6da74e",
   "metadata": {},
   "outputs": [],
   "source": [
    "c_df_copy = critics.copy()\n",
    "c_df_copy.dtypes.unique()"
   ]
  },
  {
   "cell_type": "markdown",
   "id": "79c39ea0",
   "metadata": {},
   "source": [
    "Todas las variables son categoricas."
   ]
  },
  {
   "cell_type": "markdown",
   "id": "4f7ed533",
   "metadata": {},
   "source": [
    "#### 3.2.2 Análisis sober variables categóricas"
   ]
  },
  {
   "cell_type": "code",
   "execution_count": null,
   "id": "d203c073",
   "metadata": {},
   "outputs": [],
   "source": [
    "print(c_df_copy['rotten_tomatoes_link'].value_counts().head(10))\n",
    "print(f\"Total de productos únicos: {c_df_copy['rotten_tomatoes_link'].nunique()}\")\n",
    "print(\"------------------------------------------------------\")\n",
    "print(c_df_copy['publisher_name'].value_counts().head(10))\n",
    "print(f\"Total de editoriales únicos: {c_df_copy['publisher_name'].nunique()}\")"
   ]
  },
  {
   "cell_type": "code",
   "execution_count": null,
   "id": "34ae347d",
   "metadata": {},
   "outputs": [],
   "source": [
    "categorical_cols = [ 'top_critic', 'review_type']\n",
    "\n",
    "\n",
    "for col in categorical_cols:\n",
    "    c_df_copy[col].value_counts().plot(kind='bar', figsize=(6,4), title=col)\n",
    "    plt.show()"
   ]
  },
  {
   "cell_type": "markdown",
   "id": "d2000a7e",
   "metadata": {},
   "source": [
    "- La mayoría de críticos no son destacados en una proporción casi dos veces más que los que sí lo son.\n",
    "- Las reseñas positivas son casi el doble de las negativas."
   ]
  },
  {
   "cell_type": "code",
   "execution_count": null,
   "id": "6b108bc2",
   "metadata": {},
   "outputs": [],
   "source": [
    "top_n_peliculas = 10\n",
    "top_n_editorial = 10\n",
    "\n",
    "fig, axis = plt.subplots(1, 2, figsize=(16, 6))\n",
    "\n",
    "# PRODUCTOS\n",
    "top_products = c_df_copy['rotten_tomatoes_link'].value_counts().head(top_n_peliculas).index\n",
    "sns.countplot(ax=axis[0], data=c_df_copy, x='rotten_tomatoes_link', order=top_products)\n",
    "axis[0].set_title(\"Top 10 Peliculas reseñadas\")\n",
    "axis[0].tick_params(axis='x', rotation=90)\n",
    "print(\"Top 10 peliculas graficados:\", len(top_products))\n",
    "\n",
    "# USUARIOS\n",
    "top_users = c_df_copy['publisher_name'].value_counts().head(top_n_editorial).index\n",
    "sns.countplot(ax=axis[1], data=c_df_copy, x='publisher_name', order=top_users)\n",
    "axis[1].set_title(\"Top 10 Editoriales\")\n",
    "axis[1].tick_params(axis='x', rotation=45)\n",
    "print(\"Top 10 editoriales graficados:\", len(top_users))\n",
    "\n",
    "plt.tight_layout()\n",
    "plt.show()"
   ]
  },
  {
   "cell_type": "markdown",
   "id": "d6474dd2",
   "metadata": {},
   "source": [
    "- El top de peliculas reseñadas esta rodeando las 500 reseñas.\n",
    "- La editorial con mas reseñas de películas es New York Times con casi 12000, avanzando de manera descendente hasta Chicado Sun-Times con casi 8000."
   ]
  },
  {
   "cell_type": "markdown",
   "id": "fe1c7692",
   "metadata": {},
   "source": [
    "## 4. Análisis Multivariante"
   ]
  },
  {
   "cell_type": "markdown",
   "id": "938d6a43",
   "metadata": {},
   "source": [
    "### 4.1 Análisis Numérico - Numérico"
   ]
  },
  {
   "cell_type": "code",
   "execution_count": null,
   "id": "a8c12bff",
   "metadata": {},
   "outputs": [],
   "source": [
    "fig, axis = plt.subplots(5, 2, figsize = (15, 20))\n",
    "\n",
    "# Crear un diagrama de dispersión múltiple\n",
    "\n",
    "sns.regplot(ax = axis[0, 0], data = movies, x = \"audience_rating\", y = \"tomatometer_rating\").set(ylabel=None)\n",
    "sns.heatmap(movies[[\"tomatometer_rating\", \"audience_rating\"]].corr(), annot = True, fmt = \".2f\", ax = axis[0, 1])\n",
    "\n",
    "sns.regplot(ax = axis[1, 0], data = movies, x = \"tomatometer_fresh_critics_count\", y = \"tomatometer_rating\").set(ylabel=None)\n",
    "sns.heatmap(movies[[\"tomatometer_rating\", \"tomatometer_fresh_critics_count\"]].corr(), annot = True, fmt = \".2f\", ax = axis[1, 1])\n",
    "\n",
    "sns.regplot(ax = axis[2, 0], data = movies, x = \"tomatometer_rotten_critics_count\", y = \"tomatometer_rating\").set(ylabel=None)\n",
    "sns.heatmap(movies[[\"tomatometer_rating\", \"tomatometer_rotten_critics_count\"]].corr(), annot = True, fmt = \".2f\", ax = axis[2, 1])\n",
    "\n",
    "sns.regplot(ax = axis[3, 0], data = movies, x = \"tomatometer_fresh_critics_count\", y = \"audience_rating\").set(ylabel=None)\n",
    "sns.heatmap(movies[[\"audience_rating\", \"tomatometer_fresh_critics_count\"]].corr(), annot = True, fmt = \".2f\", ax = axis[3, 1])\n",
    "\n",
    "sns.regplot(ax = axis[4, 0], data = movies, x = \"tomatometer_rotten_critics_count\", y = \"audience_rating\").set(ylabel=None)\n",
    "sns.heatmap(movies[[\"audience_rating\", \"tomatometer_rotten_critics_count\"]].corr(), annot = True, fmt = \".2f\", ax = axis[4, 1])\n",
    "\n",
    "# Ajustar el layout\n",
    "plt.tight_layout()\n",
    "\n",
    "# Mostrar el plot\n",
    "plt.show()"
   ]
  },
  {
   "cell_type": "markdown",
   "id": "1264dbb3",
   "metadata": {},
   "source": [
    "### 4.2 Análisis Categórico - Categórico"
   ]
  },
  {
   "cell_type": "code",
   "execution_count": null,
   "id": "94c0515b",
   "metadata": {},
   "outputs": [],
   "source": [
    "def cat_cat(df, cat1, cat2, top_n_cat1=None, top_n_cat2=None):\n",
    "    \n",
    "    if top_n_cat1:\n",
    "        top_values1 = df[cat1].value_counts().nlargest(top_n_cat1).index\n",
    "        df = df[df[cat1].isin(top_values1)]\n",
    "    if top_n_cat2:\n",
    "        top_values2 = df[cat2].value_counts().nlargest(top_n_cat2).index\n",
    "        df = df[df[cat2].isin(top_values2)]\n",
    "    \n",
    "    ct = pd.crosstab(df[cat1], df[cat2])\n",
    "    \n",
    "    ct_prop = ct.div(ct.sum(axis=1).replace(0,1), axis=0)\n",
    "    \n",
    "    ct_prop.plot(kind='bar', stacked=True, figsize=(12,6))\n",
    "    plt.xlabel(cat1)\n",
    "    plt.ylabel('Proporción')\n",
    "    plt.xticks(rotation=45, ha='right')\n",
    "    plt.legend(title=cat2, bbox_to_anchor=(1.05, 1), loc='upper left')\n",
    "    plt.tight_layout()\n",
    "    plt.show()"
   ]
  },
  {
   "cell_type": "code",
   "execution_count": null,
   "id": "2c67ee9f",
   "metadata": {},
   "outputs": [],
   "source": [
    "movies_exploded_dir = movies.explode('directors')\n",
    "\n",
    "movies_exploded_dir = movies_exploded_dir[movies_exploded_dir['directors'] != '']\n",
    "movies_exploded_dir = movies_exploded_dir.dropna(subset=['directors'])\n",
    "\n",
    "top10_directors = (\n",
    "    movies_exploded_dir['directors']\n",
    "    .value_counts()\n",
    "    .head(10)\n",
    "    .index\n",
    ")\n",
    "movies_top_directors = movies_exploded_dir[movies_exploded_dir['directors'].isin(top10_directors)]"
   ]
  },
  {
   "cell_type": "code",
   "execution_count": null,
   "id": "421b66ef",
   "metadata": {},
   "outputs": [],
   "source": [
    "movies_exploded_aut = movies.explode('authors')\n",
    "\n",
    "movies_exploded_aut = movies_exploded_aut[movies_exploded_aut['authors'] != '']\n",
    "movies_exploded_aut = movies_exploded_aut.dropna(subset=['authors'])\n",
    "\n",
    "top10_authors = (\n",
    "    movies_exploded_aut['authors']\n",
    "    .value_counts()\n",
    "    .head(10)\n",
    "    .index\n",
    ")\n",
    "movies_top_authors = movies_exploded_aut[movies_exploded_aut['authors'].isin(top10_authors)]"
   ]
  },
  {
   "cell_type": "code",
   "execution_count": null,
   "id": "f240c5db",
   "metadata": {},
   "outputs": [],
   "source": [
    "movies_exploded_act = movies.explode('actors')\n",
    "\n",
    "movies_exploded_act = movies_exploded_act[movies_exploded_act['actors'] != '']\n",
    "movies_exploded_act = movies_exploded_act.dropna(subset=['actors'])\n",
    "\n",
    "top10_actors = (\n",
    "    movies_exploded_act['actors']\n",
    "    .value_counts()\n",
    "    .head(10)\n",
    "    .index\n",
    ")\n",
    "movies_top_actors = movies_exploded_act[movies_exploded_act['actors'].isin(top10_actors)]"
   ]
  },
  {
   "cell_type": "code",
   "execution_count": null,
   "id": "ef6aefa8",
   "metadata": {},
   "outputs": [],
   "source": [
    "movies_exploded_genres = movies.explode('genres')\n",
    "\n",
    "cat_cat(\n",
    "    df=movies_exploded_genres,\n",
    "    cat1='genres',        \n",
    "    cat2='content_rating',\n",
    "    top_n_cat1=None,      \n",
    "    top_n_cat2=None       \n",
    ")"
   ]
  },
  {
   "cell_type": "code",
   "execution_count": null,
   "id": "9f541958",
   "metadata": {},
   "outputs": [],
   "source": [
    "cat_cat(\n",
    "    df=movies_exploded_genres,\n",
    "    cat1='genres',        \n",
    "    cat2='tomatometer_status',\n",
    "    top_n_cat1=None,      \n",
    "    top_n_cat2=None       \n",
    ")"
   ]
  },
  {
   "cell_type": "code",
   "execution_count": null,
   "id": "e7930808",
   "metadata": {},
   "outputs": [],
   "source": [
    "cat_cat(\n",
    "    df=movies_exploded_genres,\n",
    "    cat1='genres',        \n",
    "    cat2='audience_status',\n",
    "    top_n_cat1=None,      \n",
    "    top_n_cat2=None       \n",
    ")"
   ]
  },
  {
   "cell_type": "code",
   "execution_count": null,
   "id": "9a3f4f2f",
   "metadata": {},
   "outputs": [],
   "source": [
    "cat_cat(\n",
    "    df=movies_top_directors,\n",
    "    cat1='content_rating',        \n",
    "    cat2='directors',\n",
    "    top_n_cat1=None,      \n",
    "    top_n_cat2=None       \n",
    ")\n"
   ]
  },
  {
   "cell_type": "code",
   "execution_count": null,
   "id": "b32bdd15",
   "metadata": {},
   "outputs": [],
   "source": [
    "cat_cat(\n",
    "    df=movies_top_authors,\n",
    "    cat1='content_rating',        \n",
    "    cat2='authors',\n",
    "    top_n_cat1=None,      \n",
    "    top_n_cat2=None       \n",
    ")"
   ]
  },
  {
   "cell_type": "code",
   "execution_count": null,
   "id": "b01bb38f",
   "metadata": {},
   "outputs": [],
   "source": [
    "cat_cat(\n",
    "    df=movies_top_actors,\n",
    "    cat1='content_rating',        \n",
    "    cat2='actors',\n",
    "    top_n_cat1=None,      \n",
    "    top_n_cat2=None       \n",
    ")"
   ]
  },
  {
   "cell_type": "code",
   "execution_count": null,
   "id": "24117436",
   "metadata": {},
   "outputs": [],
   "source": [
    "cat_cat(c_df_copy, 'rotten_tomatoes_link', 'publisher_name', top_n_cat1=top_n_peliculas, top_n_cat2=top_n_editorial)"
   ]
  },
  {
   "cell_type": "markdown",
   "id": "65b97316",
   "metadata": {},
   "source": [
    "Parece que eFilmCritic.com es quien más reseñas hace a las peliculas con más reseñas del top."
   ]
  },
  {
   "cell_type": "code",
   "execution_count": null,
   "id": "a695db8b",
   "metadata": {},
   "outputs": [],
   "source": [
    "cat_cat(c_df_copy, 'top_critic', 'publisher_name', top_n_cat2=20)"
   ]
  },
  {
   "cell_type": "markdown",
   "id": "3bf6b0eb",
   "metadata": {},
   "source": [
    "Se ve que la mayoría de las editoriales con mas reseñas tienen críticos cuya opinión es validada, es importante teniendo en cuenta que hay más con la categoría false que con true."
   ]
  },
  {
   "cell_type": "code",
   "execution_count": null,
   "id": "ac0829c4",
   "metadata": {},
   "outputs": [],
   "source": [
    "cat_cat(c_df_copy, 'review_type', 'rotten_tomatoes_link', top_n_cat2=20)"
   ]
  },
  {
   "cell_type": "markdown",
   "id": "f340e208",
   "metadata": {},
   "source": [
    "Las buenas reseñas estan distribuidas mas equitativamente entre las películas mientras que las malas se acumulan, esto sugiere que se le da importancia a que hay películas con más reseñas malas que buenas."
   ]
  },
  {
   "cell_type": "markdown",
   "id": "e603307f",
   "metadata": {},
   "source": [
    "### 4.3 Análisis Numérico - Categórico"
   ]
  },
  {
   "cell_type": "markdown",
   "id": "f814c1d5",
   "metadata": {},
   "source": [
    "### 4.3.1 Matriz de Correlación Múltiple"
   ]
  },
  {
   "cell_type": "markdown",
   "id": "82c11b56",
   "metadata": {},
   "source": [
    "Para continuar con el análisis de las variables categóricas y poder hacer un gráfico de correlaciones, debemos transformar estas variables en variables numéricas."
   ]
  },
  {
   "cell_type": "code",
   "execution_count": null,
   "id": "0f3eefbd",
   "metadata": {},
   "outputs": [],
   "source": [
    "movies_n = movies.copy()"
   ]
  },
  {
   "cell_type": "code",
   "execution_count": null,
   "id": "e617f8ca",
   "metadata": {},
   "outputs": [],
   "source": [
    "movies_n[\"content_rating_n\"] = pd.factorize(movies_n[\"content_rating\"])[0]\n",
    "movies_n[\"production_company_n\"] = pd.factorize(movies_n[\"production_company\"])[0]\n",
    "movies_n[\"tomatometer_status_n\"] = pd.factorize(movies_n[\"tomatometer_status\"])[0]\n",
    "movies_n[\"audience_status_n\"] = pd.factorize(movies_n[\"audience_status\"])[0]"
   ]
  },
  {
   "cell_type": "code",
   "execution_count": null,
   "id": "ec957bbe",
   "metadata": {},
   "outputs": [],
   "source": [
    "cols = [\n",
    "    \"content_rating_n\",\n",
    "    \"release_year\",\n",
    "    \"streaming_release_year\",\n",
    "    \"runtime\",\n",
    "    \"production_company_n\",\n",
    "    \"tomatometer_status_n\",\n",
    "    \"tomatometer_rating\",\n",
    "    \"tomatometer_count\",\n",
    "    \"audience_status_n\",\n",
    "    \"audience_rating\",\n",
    "    \"audience_count\",\n",
    "    \"tomatometer_top_critics_count\",\n",
    "    \"tomatometer_fresh_critics_count\",\n",
    "    \"tomatometer_rotten_critics_count\"\n",
    "]\n",
    "\n",
    "movies_corr = movies_n[cols]\n",
    "\n",
    "movies_corr = movies_corr.fillna(0)\n"
   ]
  },
  {
   "cell_type": "code",
   "execution_count": null,
   "id": "474788fa",
   "metadata": {},
   "outputs": [],
   "source": [
    "corr_matrix = movies_corr.corr()\n",
    "\n",
    "fig, axis = plt.subplots(figsize = (15, 15))\n",
    "\n",
    "sns.heatmap(corr_matrix, annot = True, fmt = \".2f\")\n",
    "\n",
    "plt.tight_layout()\n",
    "\n",
    "plt.show()"
   ]
  },
  {
   "cell_type": "markdown",
   "id": "d4759cb2",
   "metadata": {},
   "source": [
    "## 5. Ingeniería de características"
   ]
  },
  {
   "cell_type": "markdown",
   "id": "965d454c",
   "metadata": {},
   "source": [
    "### 5.1. Preparar los datos"
   ]
  },
  {
   "cell_type": "markdown",
   "id": "c3e9e441",
   "metadata": {},
   "source": [
    "Como primera etapa vamos a mapear las reseñas de frescas o podridas como boolean"
   ]
  },
  {
   "cell_type": "code",
   "execution_count": null,
   "id": "bd6afa18",
   "metadata": {},
   "outputs": [],
   "source": [
    "c_df_copy['review_label'] = c_df_copy['review_type'].map({'Fresh': 1, 'Rotten': 0})\n",
    "\n",
    "print(c_df_copy[['review_type', 'review_label']].head())\n",
    "c_df_copy.drop(columns=['review_type'], inplace=True)"
   ]
  },
  {
   "cell_type": "code",
   "execution_count": null,
   "id": "d8138d84",
   "metadata": {},
   "outputs": [],
   "source": [
    "c_df_copy.head()"
   ]
  },
  {
   "cell_type": "code",
   "execution_count": null,
   "id": "44d23652",
   "metadata": {},
   "outputs": [],
   "source": [
    "c_df_copy['top_critic_num'] = c_df_copy['top_critic'].astype(int)\n",
    "c_df_copy.drop(columns=['top_critic'], inplace=True)"
   ]
  },
  {
   "cell_type": "code",
   "execution_count": null,
   "id": "6f4e82e2",
   "metadata": {},
   "outputs": [],
   "source": [
    "c_df_copy['review_len'] = c_df_copy['review_content'].str.len()\n",
    "\n",
    "# cantidad de palabras\n",
    "c_df_copy['review_word_count'] = c_df_copy['review_content'].str.split().apply(len)"
   ]
  },
  {
   "cell_type": "code",
   "execution_count": null,
   "id": "f174f6b2",
   "metadata": {},
   "outputs": [],
   "source": [
    "c_df_copy.head()"
   ]
  },
  {
   "cell_type": "markdown",
   "id": "f55c4651",
   "metadata": {},
   "source": [
    "### 5.2. Análisis de outliers"
   ]
  },
  {
   "cell_type": "markdown",
   "id": "7880a10f",
   "metadata": {},
   "source": [
    "Sólo se tendrán en cuenta que las reseñas con una longitud mínima de 10 caracteres y un máximo de 5000 caracteres."
   ]
  },
  {
   "cell_type": "code",
   "execution_count": null,
   "id": "afe5deb7",
   "metadata": {},
   "outputs": [],
   "source": [
    "c_df_copy = c_df_copy[(c_df_copy['review_len'] >= 10) & (c_df_copy['review_len'] <= 5000)]"
   ]
  },
  {
   "cell_type": "code",
   "execution_count": null,
   "id": "4867cd75",
   "metadata": {},
   "outputs": [],
   "source": [
    "num_cols = ['review_len', 'review_word_count', 'top_critic_num', 'review_label']\n",
    "\n",
    "for col in num_cols:\n",
    "    plt.figure(figsize=(8,2))\n",
    "    sns.boxplot(x=c_df_copy[col])\n",
    "    plt.title(f'Boxplot de {col}')\n",
    "    plt.show()"
   ]
  },
  {
   "cell_type": "markdown",
   "id": "1c0ab3fa",
   "metadata": {},
   "source": [
    "### 5.3. Dividir el train/test de marcos de datos"
   ]
  },
  {
   "cell_type": "code",
   "execution_count": null,
   "id": "f1902e23",
   "metadata": {},
   "outputs": [],
   "source": [
    "X = c_df_copy['review_content']  \n",
    "y = c_df_copy['review_label']    \n",
    "\n",
    "X_train, X_test, y_train, y_test = train_test_split(\n",
    "    X, y, test_size=0.2, random_state=42, stratify=y\n",
    ")"
   ]
  },
  {
   "cell_type": "markdown",
   "id": "b053b5af",
   "metadata": {},
   "source": [
    "### 5.4 Guardar los datasets"
   ]
  },
  {
   "cell_type": "code",
   "execution_count": null,
   "id": "aeb63bfe",
   "metadata": {},
   "outputs": [],
   "source": [
    "X.to_excel(\"../data/processed/X.xlsx\", index = False)\n",
    "y.to_excel(\"../data/processed/y.xlsx\", index = False)"
   ]
  },
  {
   "cell_type": "code",
   "execution_count": null,
   "id": "a6cbb7ba",
   "metadata": {},
   "outputs": [],
   "source": [
    "X_train.to_excel(\"../data/processed/X_train.xlsx\", index = False)\n",
    "X_test.to_excel(\"../data/processed/X_test.xlsx\", index = False)\n",
    "\n",
    "y_train.to_excel(\"../data/processed/y_train.xlsx\", index = False)\n",
    "y_test.to_excel(\"../data/processed/y_test.xlsx\", index = False)"
   ]
  },
  {
   "cell_type": "code",
   "execution_count": null,
   "id": "53b9f639",
   "metadata": {},
   "outputs": [],
   "source": [
    "movies['release_year'] = movies['release_year'].replace(0, pd.NA)\n",
    "\n",
    "movies.to_csv(\"../data/processed/movies.csv\", index=False)\n",
    "critics.to_csv(\"../data/processed/critics.csv\", index=False)\n",
    "c_df_copy.to_csv(\"../data/processed/c_df_copy.csv\", index=False)"
   ]
  }
 ],
 "metadata": {
  "kernelspec": {
   "display_name": "Python 3",
   "language": "python",
   "name": "python3"
  },
  "language_info": {
   "codemirror_mode": {
    "name": "ipython",
    "version": 3
   },
   "file_extension": ".py",
   "mimetype": "text/x-python",
   "name": "python",
   "nbconvert_exporter": "python",
   "pygments_lexer": "ipython3",
   "version": "3.11.4"
  }
 },
 "nbformat": 4,
 "nbformat_minor": 5
}
